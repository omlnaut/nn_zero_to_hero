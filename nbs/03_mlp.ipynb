{
 "cells": [
  {
   "cell_type": "markdown",
   "metadata": {},
   "source": [
    "# MLP"
   ]
  },
  {
   "attachments": {},
   "cell_type": "markdown",
   "metadata": {},
   "source": [
    "Following https://www.youtube.com/watch?v=TCH_1BHY58I&t=188s"
   ]
  },
  {
   "attachments": {},
   "cell_type": "markdown",
   "metadata": {},
   "source": [
    "# Rebuilding Dataset ( -  00:12:00)"
   ]
  },
  {
   "attachments": {},
   "cell_type": "markdown",
   "metadata": {},
   "source": [
    "- load dataset\n",
    "- build character-index lookup table\n",
    "- build (xxx) -> y dataset (as tensors)\n"
   ]
  },
  {
   "cell_type": "code",
   "execution_count": 1,
   "metadata": {},
   "outputs": [],
   "source": [
    "from pathlib import Path\n",
    "import torch"
   ]
  },
  {
   "cell_type": "code",
   "execution_count": 2,
   "metadata": {},
   "outputs": [
    {
     "data": {
      "text/plain": [
       "['emma', 'olivia', 'ava', 'isabella', 'sophia', 'charlotte', 'mia', 'amelia']"
      ]
     },
     "execution_count": 2,
     "metadata": {},
     "output_type": "execute_result"
    }
   ],
   "source": [
    "names = Path('../data/names.txt').open().read().splitlines()\n",
    "names[:8]"
   ]
  },
  {
   "cell_type": "code",
   "execution_count": 3,
   "metadata": {},
   "outputs": [],
   "source": [
    "characters = sorted(list(set(''.join(names))))\n",
    "characters.insert(0, '.')\n",
    "\n",
    "stoi = {c: i for i,c in enumerate(characters)}\n",
    "itos = {i: c for c,i in stoi.items()}\n"
   ]
  },
  {
   "cell_type": "code",
   "execution_count": 4,
   "metadata": {},
   "outputs": [],
   "source": [
    "from itertools import tee\n",
    "\n",
    "def sliding_window(iterable, size):\n",
    "    iters = tee(iterable, size)\n",
    "    for i, it in enumerate(iters):\n",
    "        for _ in range(i):\n",
    "            next(it, None)\n",
    "    return zip(*iters)\n"
   ]
  },
  {
   "cell_type": "code",
   "execution_count": 5,
   "metadata": {},
   "outputs": [
    {
     "name": "stdout",
     "output_type": "stream",
     "text": [
      "(0, 1, 2)\n",
      "(1, 2, 3)\n",
      "(2, 3, 4)\n"
     ]
    }
   ],
   "source": [
    "numbers = list(range(5))\n",
    "for window in sliding_window(numbers, 3):\n",
    "    print(window)"
   ]
  },
  {
   "cell_type": "code",
   "execution_count": 6,
   "metadata": {},
   "outputs": [
    {
     "name": "stdout",
     "output_type": "stream",
     "text": [
      "('.', '.', '.') ---> e\n",
      "('.', '.', 'e') ---> m\n",
      "('.', 'e', 'm') ---> m\n",
      "('e', 'm', 'm') ---> a\n",
      "('m', 'm', 'a') ---> .\n",
      "('.', '.', '.') ---> o\n",
      "('.', '.', 'o') ---> l\n",
      "('.', 'o', 'l') ---> i\n",
      "('o', 'l', 'i') ---> v\n",
      "('l', 'i', 'v') ---> i\n",
      "('i', 'v', 'i') ---> a\n",
      "('v', 'i', 'a') ---> .\n",
      "('.', '.', '.') ---> a\n",
      "('.', '.', 'a') ---> v\n",
      "('.', 'a', 'v') ---> a\n",
      "('a', 'v', 'a') ---> .\n",
      "('.', '.', '.') ---> i\n",
      "('.', '.', 'i') ---> s\n",
      "('.', 'i', 's') ---> a\n",
      "('i', 's', 'a') ---> b\n",
      "('s', 'a', 'b') ---> e\n",
      "('a', 'b', 'e') ---> l\n",
      "('b', 'e', 'l') ---> l\n",
      "('e', 'l', 'l') ---> a\n",
      "('l', 'l', 'a') ---> .\n",
      "('.', '.', '.') ---> s\n",
      "('.', '.', 's') ---> o\n",
      "('.', 's', 'o') ---> p\n",
      "('s', 'o', 'p') ---> h\n",
      "('o', 'p', 'h') ---> i\n",
      "('p', 'h', 'i') ---> a\n",
      "('h', 'i', 'a') ---> .\n"
     ]
    }
   ],
   "source": [
    "xs = []\n",
    "ys = []\n",
    "context_size = 3\n",
    "\n",
    "for name in names[:5]:\n",
    "    name = context_size*['.'] + list(name) + ['.']\n",
    "    for chars in sliding_window(name, context_size+1):\n",
    "        print(f'{chars[:context_size]} ---> {chars[-1]}')\n",
    "        indices = list(map(lambda c: stoi[c], chars))\n",
    "        xs.append((indices[:context_size]))\n",
    "        ys.append(indices[-1])\n",
    "\n",
    "xs = torch.tensor(xs)\n",
    "ys = torch.tensor(ys)"
   ]
  },
  {
   "cell_type": "code",
   "execution_count": 7,
   "metadata": {},
   "outputs": [
    {
     "data": {
      "text/plain": [
       "torch.Size([32, 3])"
      ]
     },
     "execution_count": 7,
     "metadata": {},
     "output_type": "execute_result"
    }
   ],
   "source": [
    "xs.shape"
   ]
  },
  {
   "attachments": {},
   "cell_type": "markdown",
   "metadata": {},
   "source": [
    "# Embedding Matrix ( - 00:18:00)"
   ]
  },
  {
   "attachments": {},
   "cell_type": "markdown",
   "metadata": {},
   "source": [
    "- Create Embedding Matrix with embedding size 2 (for now)"
   ]
  },
  {
   "cell_type": "code",
   "execution_count": 8,
   "metadata": {},
   "outputs": [],
   "source": [
    "C = torch.randn((27,2), requires_grad=True)"
   ]
  },
  {
   "attachments": {},
   "cell_type": "markdown",
   "metadata": {},
   "source": [
    "# Hidden Layer ( - 00:29:00)"
   ]
  },
  {
   "attachments": {},
   "cell_type": "markdown",
   "metadata": {},
   "source": [
    "- Hidden layer of dimension (6, 100)\n",
    "    - weights and biases\n",
    "- Transform input from (batch_size, 3, embedding_size) to (batch_size, 3*embedding_size) to enable multiplication\n",
    "- activation function: tanh\n"
   ]
  },
  {
   "cell_type": "code",
   "execution_count": 9,
   "metadata": {},
   "outputs": [
    {
     "data": {
      "text/plain": [
       "torch.Size([32, 3, 2])"
      ]
     },
     "execution_count": 9,
     "metadata": {},
     "output_type": "execute_result"
    }
   ],
   "source": [
    "X = C[xs]\n",
    "X.shape"
   ]
  },
  {
   "cell_type": "code",
   "execution_count": 10,
   "metadata": {},
   "outputs": [],
   "source": [
    "W = torch.randn((6,100), requires_grad=True)\n",
    "b = torch.randn((1, 100), requires_grad=True)"
   ]
  },
  {
   "cell_type": "code",
   "execution_count": 11,
   "metadata": {},
   "outputs": [
    {
     "data": {
      "text/plain": [
       "torch.Size([32, 6])"
      ]
     },
     "execution_count": 11,
     "metadata": {},
     "output_type": "execute_result"
    }
   ],
   "source": [
    "batch_size = X.shape[0]\n",
    "reshaped = X.view(batch_size, -1)\n",
    "reshaped.shape\n"
   ]
  },
  {
   "cell_type": "code",
   "execution_count": 12,
   "metadata": {},
   "outputs": [
    {
     "data": {
      "text/plain": [
       "torch.Size([32, 100])"
      ]
     },
     "execution_count": 12,
     "metadata": {},
     "output_type": "execute_result"
    }
   ],
   "source": [
    "((reshaped @ W) + b).shape"
   ]
  },
  {
   "cell_type": "code",
   "execution_count": 13,
   "metadata": {},
   "outputs": [],
   "source": [
    "activation = torch.tanh((reshaped @ W) + b)"
   ]
  },
  {
   "attachments": {},
   "cell_type": "markdown",
   "metadata": {},
   "source": [
    "# Output layer ( - 00:33:00)"
   ]
  },
  {
   "attachments": {},
   "cell_type": "markdown",
   "metadata": {},
   "source": [
    "- from hidden_size(100) to 27 (amount of characters)\n",
    "- neg. likelihood like last notebook"
   ]
  },
  {
   "attachments": {},
   "cell_type": "markdown",
   "metadata": {},
   "source": [
    "## Last layer"
   ]
  },
  {
   "cell_type": "code",
   "execution_count": 14,
   "metadata": {},
   "outputs": [
    {
     "data": {
      "text/plain": [
       "torch.Size([32, 100])"
      ]
     },
     "execution_count": 14,
     "metadata": {},
     "output_type": "execute_result"
    }
   ],
   "source": [
    "activation.shape"
   ]
  },
  {
   "cell_type": "code",
   "execution_count": 15,
   "metadata": {},
   "outputs": [],
   "source": [
    "W2 = torch.randn((100,27), requires_grad=True)\n",
    "b2 = torch.randn(27, requires_grad=True)\n"
   ]
  },
  {
   "cell_type": "code",
   "execution_count": 16,
   "metadata": {},
   "outputs": [
    {
     "data": {
      "text/plain": [
       "torch.Size([32, 27])"
      ]
     },
     "execution_count": 16,
     "metadata": {},
     "output_type": "execute_result"
    }
   ],
   "source": [
    "output = (activation @ W2) + b2\n",
    "output.shape"
   ]
  },
  {
   "attachments": {},
   "cell_type": "markdown",
   "metadata": {},
   "source": [
    "## Loss"
   ]
  },
  {
   "cell_type": "code",
   "execution_count": 17,
   "metadata": {},
   "outputs": [],
   "source": [
    "import torch.nn.functional as F"
   ]
  },
  {
   "attachments": {},
   "cell_type": "markdown",
   "metadata": {},
   "source": [
    "From the documentation of [CrossEntropyLoss](https://pytorch.org/docs/stable/generated/torch.nn.CrossEntropyLoss.html#torch.nn.CrossEntropyLoss):\n",
    "\n",
    "- input has to be a Tensor of size $(C)$ for unbatched input, $(minibatch, C)$ for batched input\n",
    "- The target should be class indices in the range $[0, C)$ where $C$ is the number of classes\n",
    "- Reduction is by default 'mean'"
   ]
  },
  {
   "cell_type": "code",
   "execution_count": 18,
   "metadata": {},
   "outputs": [
    {
     "name": "stdout",
     "output_type": "stream",
     "text": [
      "Input shape:  torch.Size([32, 27])\n",
      "Target shape:  torch.Size([32])\n",
      "Target values:  tensor([ 5, 13, 13,  1,  0, 15, 12,  9, 22,  9,  1,  0,  1, 22,  1,  0,  9, 19,\n",
      "         1,  2,  5, 12, 12,  1,  0, 19, 15, 16,  8,  9,  1,  0])\n"
     ]
    }
   ],
   "source": [
    "print('Input shape: ', output.shape)\n",
    "print('Target shape: ', ys.shape)\n",
    "print('Target values: ', ys)"
   ]
  },
  {
   "cell_type": "code",
   "execution_count": 19,
   "metadata": {},
   "outputs": [
    {
     "data": {
      "text/plain": [
       "tensor(17.5627, grad_fn=<NllLossBackward0>)"
      ]
     },
     "execution_count": 19,
     "metadata": {},
     "output_type": "execute_result"
    }
   ],
   "source": [
    "F.cross_entropy(output, ys)"
   ]
  },
  {
   "attachments": {},
   "cell_type": "markdown",
   "metadata": {},
   "source": [
    "Doing this by hand:"
   ]
  },
  {
   "cell_type": "code",
   "execution_count": 20,
   "metadata": {},
   "outputs": [
    {
     "data": {
      "text/plain": [
       "tensor(17.5627, grad_fn=<MeanBackward0>)"
      ]
     },
     "execution_count": 20,
     "metadata": {},
     "output_type": "execute_result"
    }
   ],
   "source": [
    "# softmax\n",
    "counts = output.exp()\n",
    "probs = counts / counts.sum(dim=1, keepdim=True)\n",
    "\n",
    "# neg log likelihood\n",
    "logs = - probs.log()\n",
    "loss = logs[torch.arange(len(ys)), ys]\n",
    "loss.mean()"
   ]
  },
  {
   "attachments": {},
   "cell_type": "markdown",
   "metadata": {},
   "source": [
    "# Refactoring ( - 00:38:00)"
   ]
  },
  {
   "attachments": {},
   "cell_type": "markdown",
   "metadata": {},
   "source": [
    "- Define all matrices in one place\n",
    "- collect parameters in list\n",
    "    - count parameters, should be 3481\n",
    "- Use seed generator\n",
    "- define forward pass with F.cross_entropy()"
   ]
  },
  {
   "cell_type": "code",
   "execution_count": 21,
   "metadata": {},
   "outputs": [],
   "source": [
    "context_size = 3\n",
    "embedding_size = 2\n",
    "hidden_layer_size = 100\n",
    "lr = .1"
   ]
  },
  {
   "cell_type": "markdown",
   "metadata": {},
   "source": [
    "#### Dataset"
   ]
  },
  {
   "cell_type": "code",
   "execution_count": 22,
   "metadata": {},
   "outputs": [
    {
     "data": {
      "text/plain": [
       "torch.Size([32, 3])"
      ]
     },
     "execution_count": 22,
     "metadata": {},
     "output_type": "execute_result"
    }
   ],
   "source": [
    "xs = []\n",
    "ys = []\n",
    "\n",
    "for name in names[:5]:\n",
    "    name = context_size*['.'] + list(name) + ['.']\n",
    "    for chars in sliding_window(name, context_size+1):\n",
    "        indices = list(map(lambda c: stoi[c], chars))\n",
    "        xs.append((indices[:context_size]))\n",
    "        ys.append(indices[-1])\n",
    "\n",
    "xs = torch.tensor(xs)\n",
    "ys = torch.tensor(ys)\n",
    "\n",
    "xs.shape"
   ]
  },
  {
   "attachments": {},
   "cell_type": "markdown",
   "metadata": {},
   "source": [
    "#### NN Setup"
   ]
  },
  {
   "cell_type": "code",
   "execution_count": 23,
   "metadata": {},
   "outputs": [
    {
     "name": "stdout",
     "output_type": "stream",
     "text": [
      "Number of parameters:  3481\n"
     ]
    }
   ],
   "source": [
    "g = torch.Generator().manual_seed(2147483647)\n",
    "\n",
    "C = torch.randn((27, embedding_size), requires_grad=True, generator=g)\n",
    "W1 = torch.randn((embedding_size*context_size, hidden_layer_size), requires_grad=True, generator=g)\n",
    "b1 = torch.randn(hidden_layer_size, requires_grad=True, generator=g)\n",
    "W2 = torch.randn((hidden_layer_size, 27), requires_grad=True, generator=g)\n",
    "b2 = torch.randn(27, requires_grad=True, generator=g)\n",
    "\n",
    "parameters = [C, W1, b1, W2, b2]\n",
    "\n",
    "print('Number of parameters: ', sum(p.nelement() for p in parameters))"
   ]
  },
  {
   "attachments": {},
   "cell_type": "markdown",
   "metadata": {},
   "source": [
    "#### Forward pass"
   ]
  },
  {
   "cell_type": "code",
   "execution_count": 24,
   "metadata": {},
   "outputs": [
    {
     "data": {
      "text/plain": [
       "17.769710540771484"
      ]
     },
     "execution_count": 24,
     "metadata": {},
     "output_type": "execute_result"
    }
   ],
   "source": [
    "embeddings = C[xs].view(-1, embedding_size*context_size)\n",
    "\n",
    "inner = torch.tanh((embeddings @ W1) + b1)\n",
    "logits = (inner @ W2) + b2\n",
    "\n",
    "loss = F.cross_entropy(logits, ys)\n",
    "loss.item()"
   ]
  },
  {
   "attachments": {},
   "cell_type": "markdown",
   "metadata": {},
   "source": [
    "# Training loop ( - 00:45:00)"
   ]
  },
  {
   "attachments": {},
   "cell_type": "markdown",
   "metadata": {},
   "source": [
    "- forward pass\n",
    "- backward pass\n",
    "    - zero grads\n",
    "    - update by learning rate\n",
    "- repeat n times for the one batch (intentional overfitting)\n",
    "    - loss should go to ~.25 (1000 iterations)\n",
    "- comnpare logits max against ys (manually)\n",
    "    - should be close to actual indices\n",
    "\n",
    "- Train on full dataset\n",
    "    - slow\n",
    "- instead use minibatches of size 32\n",
    "    - randomly drawn in each iteration"
   ]
  },
  {
   "attachments": {},
   "cell_type": "markdown",
   "metadata": {},
   "source": [
    "#### Train loop"
   ]
  },
  {
   "cell_type": "code",
   "execution_count": 25,
   "metadata": {},
   "outputs": [
    {
     "name": "stdout",
     "output_type": "stream",
     "text": [
      "17.769710540771484\n",
      "0.3354488015174866\n",
      "0.278947651386261\n",
      "0.2678886950016022\n",
      "0.2631761431694031\n",
      "0.26341554522514343\n",
      "0.2601673901081085\n",
      "0.2586156725883484\n",
      "0.2575641870498657\n",
      "0.256767600774765\n"
     ]
    }
   ],
   "source": [
    "for epoch in range(1000):\n",
    "    # forward pass\n",
    "    embeddings = C[xs].view(-1, embedding_size*context_size)\n",
    "\n",
    "    inner = torch.tanh((embeddings @ W1) + b1)\n",
    "    logits = (inner @ W2) + b2\n",
    "\n",
    "    loss = F.cross_entropy(logits, ys)\n",
    "\n",
    "    # backward pass\n",
    "    for param in parameters:\n",
    "        param.grad = None\n",
    "\n",
    "    loss.backward()\n",
    "\n",
    "    # optimization\n",
    "\n",
    "    for param in parameters:\n",
    "        param.data -= lr * param.grad\n",
    "\n",
    "    if epoch%100==0:\n",
    "        print(loss.item())"
   ]
  },
  {
   "attachments": {},
   "cell_type": "markdown",
   "metadata": {},
   "source": [
    "#### Compare logits against indices"
   ]
  },
  {
   "cell_type": "code",
   "execution_count": 26,
   "metadata": {},
   "outputs": [
    {
     "data": {
      "text/plain": [
       "torch.return_types.max(\n",
       "values=tensor([13.3348, 17.7904, 20.6014, 20.6121, 16.7355, 13.3348, 15.9984, 14.1723,\n",
       "        15.9146, 18.3614, 15.9395, 20.9265, 13.3348, 17.1090, 17.1319, 20.0601,\n",
       "        13.3348, 16.5892, 15.1017, 17.0581, 18.5861, 15.9670, 10.8740, 10.6871,\n",
       "        15.5056, 13.3348, 16.1794, 16.9743, 12.7426, 16.2009, 19.0845, 16.0195],\n",
       "       grad_fn=<MaxBackward0>),\n",
       "indices=tensor([19, 13, 13,  1,  0, 19, 12,  9, 22,  9,  1,  0, 19, 22,  1,  0, 19, 19,\n",
       "         1,  2,  5, 12, 12,  1,  0, 19, 15, 16,  8,  9,  1,  0]))"
      ]
     },
     "execution_count": 26,
     "metadata": {},
     "output_type": "execute_result"
    }
   ],
   "source": [
    "logits.max(dim=1)"
   ]
  },
  {
   "cell_type": "code",
   "execution_count": 27,
   "metadata": {},
   "outputs": [
    {
     "data": {
      "text/plain": [
       "tensor([ 5, 13, 13,  1,  0, 15, 12,  9, 22,  9,  1,  0,  1, 22,  1,  0,  9, 19,\n",
       "         1,  2,  5, 12, 12,  1,  0, 19, 15, 16,  8,  9,  1,  0])"
      ]
     },
     "execution_count": 27,
     "metadata": {},
     "output_type": "execute_result"
    }
   ],
   "source": [
    "ys"
   ]
  },
  {
   "attachments": {},
   "cell_type": "markdown",
   "metadata": {},
   "source": [
    "#### Train on full dataset"
   ]
  },
  {
   "cell_type": "code",
   "execution_count": 28,
   "metadata": {},
   "outputs": [
    {
     "data": {
      "text/plain": [
       "torch.Size([228146, 3])"
      ]
     },
     "execution_count": 28,
     "metadata": {},
     "output_type": "execute_result"
    }
   ],
   "source": [
    "xs = []\n",
    "ys = []\n",
    "\n",
    "for name in names:\n",
    "    name = context_size*['.'] + list(name) + ['.']\n",
    "    for chars in sliding_window(name, context_size+1):\n",
    "        indices = list(map(lambda c: stoi[c], chars))\n",
    "        xs.append((indices[:context_size]))\n",
    "        ys.append(indices[-1])\n",
    "\n",
    "xs = torch.tensor(xs)\n",
    "ys = torch.tensor(ys)\n",
    "\n",
    "xs.shape"
   ]
  },
  {
   "cell_type": "code",
   "execution_count": 29,
   "metadata": {},
   "outputs": [
    {
     "name": "stdout",
     "output_type": "stream",
     "text": [
      "Number of parameters:  3481\n"
     ]
    }
   ],
   "source": [
    "g = torch.Generator().manual_seed(2147483647)\n",
    "\n",
    "C = torch.randn((27, embedding_size), requires_grad=True, generator=g)\n",
    "W1 = torch.randn((embedding_size*context_size, hidden_layer_size), requires_grad=True, generator=g)\n",
    "b1 = torch.randn(hidden_layer_size, requires_grad=True, generator=g)\n",
    "W2 = torch.randn((hidden_layer_size, 27), requires_grad=True, generator=g)\n",
    "b2 = torch.randn(27, requires_grad=True, generator=g)\n",
    "\n",
    "parameters = [C, W1, b1, W2, b2]\n",
    "\n",
    "print('Number of parameters: ', sum(p.nelement() for p in parameters))"
   ]
  },
  {
   "cell_type": "code",
   "execution_count": 30,
   "metadata": {},
   "outputs": [
    {
     "name": "stdout",
     "output_type": "stream",
     "text": [
      "19.505229949951172\n",
      "17.084491729736328\n",
      "15.776533126831055\n",
      "14.833340644836426\n",
      "14.002601623535156\n",
      "13.253255844116211\n",
      "12.579915046691895\n",
      "11.983098983764648\n",
      "11.47049331665039\n",
      "11.051857948303223\n"
     ]
    }
   ],
   "source": [
    "for epoch in range(10):\n",
    "    # forward pass\n",
    "    embeddings = C[xs].view(-1, embedding_size*context_size)\n",
    "\n",
    "    inner = torch.tanh((embeddings @ W1) + b1)\n",
    "    logits = (inner @ W2) + b2\n",
    "\n",
    "    loss = F.cross_entropy(logits, ys)\n",
    "\n",
    "    # backward pass\n",
    "    for param in parameters:\n",
    "        param.grad = None\n",
    "\n",
    "    loss.backward()\n",
    "\n",
    "    # optimization\n",
    "\n",
    "    for param in parameters:\n",
    "        param.data -= lr * param.grad\n",
    "\n",
    "    print(loss.item())"
   ]
  },
  {
   "attachments": {},
   "cell_type": "markdown",
   "metadata": {},
   "source": [
    "#### Minibatches"
   ]
  },
  {
   "cell_type": "code",
   "execution_count": 31,
   "metadata": {},
   "outputs": [],
   "source": [
    "batch_size = 32"
   ]
  },
  {
   "cell_type": "code",
   "execution_count": 32,
   "metadata": {},
   "outputs": [
    {
     "name": "stdout",
     "output_type": "stream",
     "text": [
      "Number of parameters:  3481\n"
     ]
    }
   ],
   "source": [
    "g = torch.Generator().manual_seed(2147483647)\n",
    "\n",
    "C = torch.randn((27, embedding_size), requires_grad=True, generator=g)\n",
    "W1 = torch.randn((embedding_size*context_size, hidden_layer_size), requires_grad=True, generator=g)\n",
    "b1 = torch.randn(hidden_layer_size, requires_grad=True, generator=g)\n",
    "W2 = torch.randn((hidden_layer_size, 27), requires_grad=True, generator=g)\n",
    "b2 = torch.randn(27, requires_grad=True, generator=g)\n",
    "\n",
    "parameters = [C, W1, b1, W2, b2]\n",
    "\n",
    "print('Number of parameters: ', sum(p.nelement() for p in parameters))"
   ]
  },
  {
   "cell_type": "code",
   "execution_count": 33,
   "metadata": {},
   "outputs": [],
   "source": [
    "lr = 1e-1"
   ]
  },
  {
   "cell_type": "code",
   "execution_count": 34,
   "metadata": {},
   "outputs": [
    {
     "name": "stdout",
     "output_type": "stream",
     "text": [
      "2.600525379180908\n"
     ]
    }
   ],
   "source": [
    "for epoch in range(1000):\n",
    "\n",
    "    rand_idx = torch.multinomial(torch.ones(len(xs)), num_samples=batch_size, replacement=True)\n",
    "    xb = xs[rand_idx]\n",
    "    yb = ys[rand_idx]\n",
    "\n",
    "    # forward pass\n",
    "    embeddings = C[xb].view(-1, embedding_size*context_size)\n",
    "\n",
    "    inner = torch.tanh((embeddings @ W1) + b1)\n",
    "    logits = (inner @ W2) + b2\n",
    "\n",
    "    loss = F.cross_entropy(logits, yb)\n",
    "\n",
    "    # backward pass\n",
    "    for param in parameters:\n",
    "        param.grad = None\n",
    "\n",
    "    loss.backward()\n",
    "\n",
    "    # optimization\n",
    "\n",
    "    for param in parameters:\n",
    "        param.data -= lr * param.grad\n",
    "\n",
    "print(loss.item())"
   ]
  },
  {
   "cell_type": "code",
   "execution_count": 35,
   "metadata": {},
   "outputs": [
    {
     "name": "stdout",
     "output_type": "stream",
     "text": [
      "2.7048656940460205\n"
     ]
    }
   ],
   "source": [
    "with torch.no_grad():\n",
    "    embeddings = C[xs].view(-1, embedding_size*context_size)\n",
    "\n",
    "    inner = torch.tanh((embeddings @ W1) + b1)\n",
    "    logits = (inner @ W2) + b2\n",
    "\n",
    "    loss = F.cross_entropy(logits, ys)\n",
    "    print(loss.item())"
   ]
  },
  {
   "attachments": {},
   "cell_type": "markdown",
   "metadata": {},
   "source": [
    "# Learning Rate finder (  - 00:53:00)"
   ]
  },
  {
   "attachments": {},
   "cell_type": "markdown",
   "metadata": {},
   "source": [
    "- reset all parameters\n",
    "- print loss for each batch\n",
    "    - find too low lr\n",
    "    - find too high lr\n",
    "- generate log lrs between low and high end\n",
    "- plot loss against lr\n",
    "- choose lr at hockey stick point"
   ]
  },
  {
   "cell_type": "code",
   "execution_count": 36,
   "metadata": {},
   "outputs": [
    {
     "name": "stdout",
     "output_type": "stream",
     "text": [
      "Number of parameters:  3481\n"
     ]
    }
   ],
   "source": [
    "g = torch.Generator().manual_seed(2147483647)\n",
    "\n",
    "C = torch.randn((27, embedding_size), requires_grad=True, generator=g)\n",
    "W1 = torch.randn((embedding_size*context_size, hidden_layer_size), requires_grad=True, generator=g)\n",
    "b1 = torch.randn(hidden_layer_size, requires_grad=True, generator=g)\n",
    "W2 = torch.randn((hidden_layer_size, 27), requires_grad=True, generator=g)\n",
    "b2 = torch.randn(27, requires_grad=True, generator=g)\n",
    "\n",
    "parameters = [C, W1, b1, W2, b2]\n",
    "\n",
    "print('Number of parameters: ', sum(p.nelement() for p in parameters))"
   ]
  },
  {
   "cell_type": "code",
   "execution_count": 37,
   "metadata": {},
   "outputs": [
    {
     "name": "stdout",
     "output_type": "stream",
     "text": [
      "18.287813186645508\n",
      "20.078800201416016\n",
      "19.58531379699707\n",
      "20.23301124572754\n",
      "19.903757095336914\n",
      "19.761646270751953\n",
      "20.192344665527344\n",
      "18.508893966674805\n",
      "20.944576263427734\n",
      "21.88829803466797\n",
      "18.51089096069336\n",
      "19.69101905822754\n",
      "20.15926742553711\n",
      "21.151819229125977\n",
      "18.209585189819336\n",
      "14.59067153930664\n",
      "17.247766494750977\n",
      "19.628311157226562\n",
      "20.763717651367188\n",
      "19.88680076599121\n",
      "16.581565856933594\n",
      "21.0137882232666\n",
      "20.341217041015625\n",
      "18.980661392211914\n",
      "19.615192413330078\n",
      "18.46270179748535\n",
      "16.90849494934082\n",
      "16.436506271362305\n",
      "15.971134185791016\n",
      "18.259035110473633\n",
      "17.835163116455078\n",
      "18.386056900024414\n",
      "17.41419219970703\n",
      "18.95256233215332\n",
      "13.030254364013672\n",
      "16.008800506591797\n",
      "17.777196884155273\n",
      "13.649407386779785\n",
      "16.71481704711914\n",
      "14.819585800170898\n",
      "13.505420684814453\n",
      "15.487156867980957\n",
      "16.9182186126709\n",
      "18.313085556030273\n",
      "15.177300453186035\n",
      "12.391192436218262\n",
      "16.21954917907715\n",
      "14.825508117675781\n",
      "16.22516441345215\n",
      "13.889214515686035\n",
      "15.282487869262695\n",
      "15.66090202331543\n",
      "16.259502410888672\n",
      "13.863638877868652\n",
      "14.233440399169922\n",
      "13.27149772644043\n",
      "11.132822036743164\n",
      "11.68082332611084\n",
      "13.650978088378906\n",
      "10.509976387023926\n",
      "11.140283584594727\n",
      "11.037879943847656\n",
      "11.087910652160645\n",
      "9.996978759765625\n",
      "10.520991325378418\n",
      "11.246136665344238\n",
      "8.977522850036621\n",
      "7.26342248916626\n",
      "11.066795349121094\n",
      "7.860219478607178\n",
      "8.852298736572266\n",
      "7.8835906982421875\n",
      "6.795816898345947\n",
      "9.071013450622559\n",
      "10.062357902526855\n",
      "7.267003536224365\n",
      "8.391592979431152\n",
      "8.159836769104004\n",
      "6.071956157684326\n",
      "6.170520305633545\n",
      "5.41616153717041\n",
      "5.496205806732178\n",
      "8.085898399353027\n",
      "7.092618942260742\n",
      "8.430273056030273\n",
      "8.919645309448242\n",
      "5.479495525360107\n",
      "4.420220375061035\n",
      "4.920905113220215\n",
      "6.7957377433776855\n",
      "5.7306108474731445\n",
      "5.113401412963867\n",
      "6.046781539916992\n",
      "5.930540561676025\n",
      "7.6425089836120605\n",
      "7.856576442718506\n",
      "9.442878723144531\n",
      "7.908163547515869\n",
      "8.830570220947266\n",
      "9.057695388793945\n"
     ]
    }
   ],
   "source": [
    "# too high: 10e2\n",
    "# too low: 1e-3\n",
    "\n",
    "lrs = torch.linspace(-3, 0, 100)\n",
    "losses = []\n",
    "\n",
    "for lr in lrs:\n",
    "\n",
    "    rand_idx = torch.multinomial(torch.ones(len(xs)), num_samples=batch_size, replacement=True)\n",
    "    xb = xs[rand_idx]\n",
    "    yb = ys[rand_idx]\n",
    "\n",
    "    # forward pass\n",
    "    embeddings = C[xb].view(-1, embedding_size*context_size)\n",
    "\n",
    "    inner = torch.tanh((embeddings @ W1) + b1)\n",
    "    logits = (inner @ W2) + b2\n",
    "\n",
    "    loss = F.cross_entropy(logits, yb)\n",
    "\n",
    "    # backward pass\n",
    "    for param in parameters:\n",
    "        param.grad = None\n",
    "\n",
    "    loss.backward()\n",
    "\n",
    "    # optimization\n",
    "\n",
    "    for param in parameters:\n",
    "        param.data -= (10**lr) * param.grad\n",
    "\n",
    "    losses.append(loss.item())\n",
    "    print(loss.item())"
   ]
  },
  {
   "cell_type": "code",
   "execution_count": 38,
   "metadata": {},
   "outputs": [],
   "source": [
    "import matplotlib.pyplot as plt"
   ]
  },
  {
   "cell_type": "code",
   "execution_count": 39,
   "metadata": {},
   "outputs": [
    {
     "data": {
      "image/png": "[encoded data removed]",
      "text/plain": [
       "<Figure size 640x480 with 1 Axes>"
      ]
     },
     "metadata": {},
     "output_type": "display_data"
    }
   ],
   "source": [
    "fix, ax = plt.subplots()\n",
    "\n",
    "ax.plot(lrs, losses)\n",
    "\n",
    "plt.show()"
   ]
  },
  {
   "attachments": {},
   "cell_type": "markdown",
   "metadata": {},
   "source": [
    "# Overfitting"
   ]
  },
  {
   "attachments": {},
   "cell_type": "markdown",
   "metadata": {},
   "source": [
    "- split into training/dev/test set\n",
    "  - e.g. $80\\%$ / $10\\%$ / $10\\%$\n",
    "  - train: tune parameters\n",
    "  - dev: hyperparameters\n",
    "  - test: actual model performance. Evaluate only sparingly, as every evaluation makes overfitting more likely\n",
    "- shuffle all words with seed 42 (with python random)\n",
    "- take first $80\\%$ for train, next $10\\%$ for dev\n"
   ]
  },
  {
   "cell_type": "code",
   "execution_count": 43,
   "metadata": {},
   "outputs": [],
   "source": [
    "import random\n",
    "\n",
    "def build_dataset(words):\n",
    "    xs = []\n",
    "    ys = []\n",
    "    context_size = 3\n",
    "\n",
    "    for word in words:\n",
    "        word = context_size*['.'] + list(word) + ['.']\n",
    "        for chars in sliding_window(word, context_size+1):\n",
    "            indices = list(map(lambda c: stoi[c], chars))\n",
    "            xs.append((indices[:context_size]))\n",
    "            ys.append(indices[-1])\n",
    "\n",
    "    xs = torch.tensor(xs)\n",
    "    ys = torch.tensor(ys)\n",
    "\n",
    "    return xs, ys\n",
    "    \n",
    "\n",
    "\n",
    "\n",
    "random.shuffle(names)\n",
    "xs, ys = build_dataset(names)\n",
    "\n",
    "train_id = int(.8*len(xs))\n",
    "dev_id = int(.9*len(xs))\n",
    "\n",
    "train_x = xs[:train_id]\n",
    "dev_x = xs[train_id:dev_id]\n",
    "test_x = xs[:dev_id]\n",
    "\n",
    "train_y = ys[:train_id]\n",
    "dev_y = ys[train_id:dev_id]\n",
    "test_y = ys[:dev_id]"
   ]
  },
  {
   "attachments": {},
   "cell_type": "markdown",
   "metadata": {},
   "source": [
    "- evaluate\n",
    "  - train on train set\n",
    "  - evaluate on dev set\n",
    "  - 30k iterations, should be roughly equal loss"
   ]
  },
  {
   "cell_type": "code",
   "execution_count": 54,
   "metadata": {},
   "outputs": [
    {
     "name": "stdout",
     "output_type": "stream",
     "text": [
      "Number of parameters:  3481\n"
     ]
    }
   ],
   "source": [
    "g = torch.Generator().manual_seed(2147483647)\n",
    "\n",
    "C = torch.randn((27, embedding_size), requires_grad=True, generator=g)\n",
    "W1 = torch.randn((embedding_size*context_size, hidden_layer_size), requires_grad=True, generator=g)\n",
    "b1 = torch.randn(hidden_layer_size, requires_grad=True, generator=g)\n",
    "W2 = torch.randn((hidden_layer_size, 27), requires_grad=True, generator=g)\n",
    "b2 = torch.randn(27, requires_grad=True, generator=g)\n",
    "\n",
    "parameters = [C, W1, b1, W2, b2]\n",
    "\n",
    "lr = .1\n",
    "print('Number of parameters: ', sum(p.nelement() for p in parameters))"
   ]
  },
  {
   "cell_type": "code",
   "execution_count": 55,
   "metadata": {},
   "outputs": [
    {
     "name": "stdout",
     "output_type": "stream",
     "text": [
      "2.6478586196899414\n",
      "CPU times: total: 4min 33s\n",
      "Wall time: 34.3 s\n"
     ]
    }
   ],
   "source": [
    "%%time\n",
    "for epoch in range(30000):\n",
    "    rand_idx = torch.multinomial(torch.ones(len(train_x)), num_samples=batch_size, replacement=True)\n",
    "    xb = train_x[rand_idx]\n",
    "    yb = ys[rand_idx]\n",
    "\n",
    "    # forward pass\n",
    "    embeddings = C[xb].view(-1, embedding_size*context_size)\n",
    "\n",
    "    inner = torch.tanh((embeddings @ W1) + b1)\n",
    "    logits = (inner @ W2) + b2\n",
    "\n",
    "    loss = F.cross_entropy(logits, yb)\n",
    "\n",
    "    # backward pass\n",
    "    for param in parameters:\n",
    "        param.grad = None\n",
    "\n",
    "    loss.backward()\n",
    "\n",
    "    # optimization\n",
    "\n",
    "    for param in parameters:\n",
    "        param.data -= lr * param.grad\n",
    "\n",
    "print(loss.item())"
   ]
  },
  {
   "cell_type": "code",
   "execution_count": 56,
   "metadata": {},
   "outputs": [],
   "source": [
    "def eval_model(x, y):\n",
    "    with torch.no_grad():\n",
    "        embeddings = C[x].view(-1, embedding_size*context_size)\n",
    "\n",
    "        inner = torch.tanh((embeddings @ W1) + b1)\n",
    "        logits = (inner @ W2) + b2\n",
    "\n",
    "        loss = F.cross_entropy(logits, y)\n",
    "        return loss.item()"
   ]
  },
  {
   "cell_type": "code",
   "execution_count": 57,
   "metadata": {},
   "outputs": [
    {
     "data": {
      "text/plain": [
       "2.4237067699432373"
      ]
     },
     "execution_count": 57,
     "metadata": {},
     "output_type": "execute_result"
    }
   ],
   "source": [
    "print('Train:', eval_model(train_x, train_y))\n",
    "print('Dev:', eval_model(dev_x, dev_y)\n",
    ")"
   ]
  },
  {
   "cell_type": "code",
   "execution_count": 58,
   "metadata": {},
   "outputs": [
    {
     "data": {
      "text/plain": [
       "2.4409539699554443"
      ]
     },
     "execution_count": 58,
     "metadata": {},
     "output_type": "execute_result"
    }
   ],
   "source": []
  },
  {
   "attachments": {},
   "cell_type": "markdown",
   "metadata": {},
   "source": [
    "- Overfitting can't really happen right now, because model is too small\n",
    "- make model larger\n",
    "  - increase hidden layer size to $300$\n",
    "  - plot loss over steps\n",
    "    - very noisy\n",
    "  - decrease learning rate\n",
    "  - retrain until loss is smaller than with smaller model\n"
   ]
  },
  {
   "cell_type": "code",
   "execution_count": 68,
   "metadata": {},
   "outputs": [
    {
     "name": "stdout",
     "output_type": "stream",
     "text": [
      "Number of parameters:  10281\n"
     ]
    }
   ],
   "source": [
    "hidden_layer_size = 300\n",
    "\n",
    "g = torch.Generator().manual_seed(2147483647)\n",
    "\n",
    "C = torch.randn((27, embedding_size), requires_grad=True, generator=g)\n",
    "W1 = torch.randn((embedding_size*context_size, hidden_layer_size), requires_grad=True, generator=g)\n",
    "b1 = torch.randn(hidden_layer_size, requires_grad=True, generator=g)\n",
    "W2 = torch.randn((hidden_layer_size, 27), requires_grad=True, generator=g)\n",
    "b2 = torch.randn(27, requires_grad=True, generator=g)\n",
    "\n",
    "parameters = [C, W1, b1, W2, b2]\n",
    "\n",
    "lr = .1\n",
    "print('Number of parameters: ', sum(p.nelement() for p in parameters))"
   ]
  },
  {
   "cell_type": "code",
   "execution_count": 69,
   "metadata": {},
   "outputs": [
    {
     "name": "stdout",
     "output_type": "stream",
     "text": [
      "2.4313488006591797\n",
      "CPU times: total: 4min 38s\n",
      "Wall time: 35 s\n"
     ]
    }
   ],
   "source": [
    "%%time\n",
    "losses = []\n",
    "steps = []\n",
    "\n",
    "for epoch in range(30000):\n",
    "    rand_idx = torch.multinomial(torch.ones(len(train_x)), num_samples=batch_size, replacement=True)\n",
    "    xb = train_x[rand_idx]\n",
    "    yb = ys[rand_idx]\n",
    "\n",
    "    # forward pass\n",
    "    embeddings = C[xb].view(-1, embedding_size*context_size)\n",
    "\n",
    "    inner = torch.tanh((embeddings @ W1) + b1)\n",
    "    logits = (inner @ W2) + b2\n",
    "\n",
    "    loss = F.cross_entropy(logits, yb)\n",
    "\n",
    "    # backward pass\n",
    "    for param in parameters:\n",
    "        param.grad = None\n",
    "\n",
    "    loss.backward()\n",
    "\n",
    "    # optimization\n",
    "\n",
    "    for param in parameters:\n",
    "        param.data -= lr * param.grad\n",
    "\n",
    "    # losses.append(loss.item())\n",
    "    # steps.append(epoch)\n",
    "\n",
    "print(loss.item())"
   ]
  },
  {
   "cell_type": "code",
   "execution_count": 70,
   "metadata": {},
   "outputs": [
    {
     "name": "stdout",
     "output_type": "stream",
     "text": [
      "Train: 2.4586215019226074\n",
      "Dev: 2.469517469406128\n"
     ]
    }
   ],
   "source": [
    "print('Train:', eval_model(train_x, train_y))\n",
    "print('Dev:', eval_model(dev_x, dev_y))"
   ]
  },
  {
   "attachments": {},
   "cell_type": "markdown",
   "metadata": {},
   "source": [
    "- visualize character embeddings\n"
   ]
  },
  {
   "cell_type": "code",
   "execution_count": 77,
   "metadata": {},
   "outputs": [
    {
     "data": {
      "image/png": "[encoded data removed]",
      "text/plain": [
       "<Figure size 1000x1000 with 1 Axes>"
      ]
     },
     "metadata": {},
     "output_type": "display_data"
    }
   ],
   "source": [
    "fig, ax = plt.subplots(figsize=(10,10))\n",
    "\n",
    "for e,(x,y) in enumerate(C):\n",
    "    ax.text(x.item(), y.item(), itos[e])\n",
    "\n",
    "ax.set_xlim(C[:,0].min().item(), C[:,0].max().item())\n",
    "ax.set_ylim(C[:,1].min().item(), C[:,1].max().item())\n",
    "\n",
    "plt.show()"
   ]
  },
  {
   "attachments": {},
   "cell_type": "markdown",
   "metadata": {},
   "source": [
    "- increase net once again:\n",
    "  - emb_size=10\n",
    "  - decrease hidden from 300 to 200\n"
   ]
  },
  {
   "cell_type": "code",
   "execution_count": 84,
   "metadata": {},
   "outputs": [
    {
     "name": "stdout",
     "output_type": "stream",
     "text": [
      "Number of parameters:  11897\n"
     ]
    }
   ],
   "source": [
    "hidden_layer_size = 200\n",
    "embedding_size = 10\n",
    "\n",
    "g = torch.Generator().manual_seed(2147483647)\n",
    "\n",
    "C = torch.randn((27, embedding_size), requires_grad=True, generator=g)\n",
    "W1 = torch.randn((embedding_size*context_size, hidden_layer_size), requires_grad=True, generator=g)\n",
    "b1 = torch.randn(hidden_layer_size, requires_grad=True, generator=g)\n",
    "W2 = torch.randn((hidden_layer_size, 27), requires_grad=True, generator=g)\n",
    "b2 = torch.randn(27, requires_grad=True, generator=g)\n",
    "\n",
    "parameters = [C, W1, b1, W2, b2]\n",
    "\n",
    "lr = .1\n",
    "print('Number of parameters: ', sum(p.nelement() for p in parameters))"
   ]
  },
  {
   "cell_type": "code",
   "execution_count": 85,
   "metadata": {},
   "outputs": [
    {
     "name": "stdout",
     "output_type": "stream",
     "text": [
      "1.9979248046875\n",
      "CPU times: total: 1min 35s\n",
      "Wall time: 12 s\n"
     ]
    }
   ],
   "source": [
    "%%time\n",
    "losses = []\n",
    "steps = []\n",
    "\n",
    "for epoch in range(10000):\n",
    "    rand_idx = torch.multinomial(torch.ones(len(train_x)), num_samples=batch_size, replacement=True)\n",
    "    xb = train_x[rand_idx]\n",
    "    yb = ys[rand_idx]\n",
    "\n",
    "    # forward pass\n",
    "    embeddings = C[xb].view(-1, embedding_size*context_size)\n",
    "\n",
    "    inner = torch.tanh((embeddings @ W1) + b1)\n",
    "    logits = (inner @ W2) + b2\n",
    "\n",
    "    loss = F.cross_entropy(logits, yb)\n",
    "\n",
    "    # backward pass\n",
    "    for param in parameters:\n",
    "        param.grad = None\n",
    "\n",
    "    loss.backward()\n",
    "\n",
    "    # optimization\n",
    "\n",
    "    for param in parameters:\n",
    "        param.data -= lr * param.grad\n",
    "\n",
    "    losses.append(loss.log().item())\n",
    "    steps.append(epoch)\n",
    "\n",
    "print(loss.item())"
   ]
  },
  {
   "cell_type": "code",
   "execution_count": 91,
   "metadata": {},
   "outputs": [
    {
     "data": {
      "text/plain": [
       "tensor([ 87885, 135438,  18476, 135317, 112801, 154243,  10366,   9638, 130695,\n",
       "        141240, 118686, 162416, 138397, 163494,  60332,  18763, 122442, 128684,\n",
       "        101016, 180482,   2011, 114459, 169345,  25282, 101481, 113637, 115350,\n",
       "        150518, 126101,  24732,   9312,  96688])"
      ]
     },
     "execution_count": 91,
     "metadata": {},
     "output_type": "execute_result"
    }
   ],
   "source": [
    "rand_idx"
   ]
  },
  {
   "cell_type": "code",
   "execution_count": 95,
   "metadata": {},
   "outputs": [
    {
     "data": {
      "text/plain": [
       "tensor([ 58994,  64701, 128780,  80599,   9033,  34485,   5573,  87268,  77846,\n",
       "         75323,  42094,  98273, 122997,  75430,  34032,  12281,  41181,  38901,\n",
       "        135048, 127500,  40841, 140879,   1959, 181016,   1799, 158208, 153011,\n",
       "         24508,  38436,  60981, 156434,  58295])"
      ]
     },
     "execution_count": 95,
     "metadata": {},
     "output_type": "execute_result"
    }
   ],
   "source": [
    "torch.multinomial(torch.ones(len(train_x)), num_samples=batch_size, replacement=True)"
   ]
  },
  {
   "cell_type": "code",
   "execution_count": 86,
   "metadata": {},
   "outputs": [
    {
     "data": {
      "image/png": "[encoded data removed]",
      "text/plain": [
       "<Figure size 2000x1000 with 1 Axes>"
      ]
     },
     "metadata": {},
     "output_type": "display_data"
    }
   ],
   "source": [
    "fig, ax = plt.subplots(figsize=(20,10))\n",
    "ax.plot(steps, losses)\n",
    "plt.show()"
   ]
  },
  {
   "cell_type": "code",
   "execution_count": 88,
   "metadata": {},
   "outputs": [
    {
     "data": {
      "text/plain": [
       "2.55918025970459"
      ]
     },
     "execution_count": 88,
     "metadata": {},
     "output_type": "execute_result"
    }
   ],
   "source": [
    "embeddings = C[train_x].view(-1, embedding_size*context_size)\n",
    "\n",
    "inner = torch.tanh((embeddings @ W1) + b1)\n",
    "logits = (inner @ W2) + b2\n",
    "\n",
    "loss = F.cross_entropy(logits, train_y)\n",
    "loss.item()"
   ]
  },
  {
   "cell_type": "code",
   "execution_count": 89,
   "metadata": {},
   "outputs": [
    {
     "name": "stdout",
     "output_type": "stream",
     "text": [
      "Train: 1.4230238199234009\n",
      "Dev: 2.578944206237793\n"
     ]
    }
   ],
   "source": [
    "print('Train:', eval_model(xb, yb))\n",
    "print('Dev:', eval_model(dev_x, dev_y))"
   ]
  },
  {
   "cell_type": "markdown",
   "metadata": {},
   "source": [
    "- plot log-loss over steps\n",
    "- sample from the model\n",
    "- read the [original paper](https://www.jmlr.org/papers/volume3/bengio03a/bengio03a.pdf)"
   ]
  },
  {
   "cell_type": "markdown",
   "metadata": {},
   "source": []
  }
 ],
 "metadata": {
  "kernelspec": {
   "display_name": "zero",
   "language": "python",
   "name": "python3"
  },
  "language_info": {
   "codemirror_mode": {
    "name": "ipython",
    "version": 3
   },
   "file_extension": ".py",
   "mimetype": "text/x-python",
   "name": "python",
   "nbconvert_exporter": "python",
   "pygments_lexer": "ipython3",
   "version": "3.9.15"
  },
  "orig_nbformat": 4,
  "vscode": {
   "interpreter": {
    "hash": "e98ef4f9346bee673f51c6ffc649e77c3dd738815ba08794b113970bacedb832"
   }
  }
 },
 "nbformat": 4,
 "nbformat_minor": 2
}
