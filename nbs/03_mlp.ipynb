{
 "cells": [
  {
   "cell_type": "markdown",
   "metadata": {},
   "source": [
    "# MLP"
   ]
  },
  {
   "attachments": {},
   "cell_type": "markdown",
   "metadata": {},
   "source": [
    "Following https://www.youtube.com/watch?v=TCH_1BHY58I&t=188s"
   ]
  },
  {
   "attachments": {},
   "cell_type": "markdown",
   "metadata": {},
   "source": [
    "# Rebuilding Dataset ( -  00:12:00)"
   ]
  },
  {
   "attachments": {},
   "cell_type": "markdown",
   "metadata": {},
   "source": [
    "- load dataset\n",
    "- build character-index lookup table\n",
    "- build (xxx) -> y dataset (as tensors)\n"
   ]
  },
  {
   "cell_type": "code",
   "execution_count": 1,
   "metadata": {},
   "outputs": [],
   "source": [
    "from pathlib import Path\n",
    "import torch"
   ]
  },
  {
   "cell_type": "code",
   "execution_count": 2,
   "metadata": {},
   "outputs": [
    {
     "data": {
      "text/plain": [
       "['emma', 'olivia', 'ava', 'isabella', 'sophia', 'charlotte', 'mia', 'amelia']"
      ]
     },
     "execution_count": 2,
     "metadata": {},
     "output_type": "execute_result"
    }
   ],
   "source": [
    "names = Path('../data/names.txt').open().read().splitlines()\n",
    "names[:8]"
   ]
  },
  {
   "cell_type": "code",
   "execution_count": 3,
   "metadata": {},
   "outputs": [],
   "source": [
    "characters = sorted(list(set(''.join(names))))\n",
    "characters.insert(0, '.')\n",
    "\n",
    "stoi = {c: i for i,c in enumerate(characters)}\n",
    "itos = {i: c for c,i in stoi.items()}\n"
   ]
  },
  {
   "cell_type": "code",
   "execution_count": 4,
   "metadata": {},
   "outputs": [],
   "source": [
    "from itertools import tee\n",
    "\n",
    "def sliding_window(iterable, size):\n",
    "    iters = tee(iterable, size)\n",
    "    for i, it in enumerate(iters):\n",
    "        for _ in range(i):\n",
    "            next(it, None)\n",
    "    return zip(*iters)\n"
   ]
  },
  {
   "cell_type": "code",
   "execution_count": 5,
   "metadata": {},
   "outputs": [
    {
     "name": "stdout",
     "output_type": "stream",
     "text": [
      "(0, 1, 2)\n",
      "(1, 2, 3)\n",
      "(2, 3, 4)\n"
     ]
    }
   ],
   "source": [
    "numbers = list(range(5))\n",
    "for window in sliding_window(numbers, 3):\n",
    "    print(window)"
   ]
  },
  {
   "cell_type": "code",
   "execution_count": 6,
   "metadata": {},
   "outputs": [
    {
     "name": "stdout",
     "output_type": "stream",
     "text": [
      "('.', '.', '.') ---> e\n",
      "('.', '.', 'e') ---> m\n",
      "('.', 'e', 'm') ---> m\n",
      "('e', 'm', 'm') ---> a\n",
      "('m', 'm', 'a') ---> .\n",
      "('.', '.', '.') ---> o\n",
      "('.', '.', 'o') ---> l\n",
      "('.', 'o', 'l') ---> i\n",
      "('o', 'l', 'i') ---> v\n",
      "('l', 'i', 'v') ---> i\n",
      "('i', 'v', 'i') ---> a\n",
      "('v', 'i', 'a') ---> .\n",
      "('.', '.', '.') ---> a\n",
      "('.', '.', 'a') ---> v\n",
      "('.', 'a', 'v') ---> a\n",
      "('a', 'v', 'a') ---> .\n",
      "('.', '.', '.') ---> i\n",
      "('.', '.', 'i') ---> s\n",
      "('.', 'i', 's') ---> a\n",
      "('i', 's', 'a') ---> b\n",
      "('s', 'a', 'b') ---> e\n",
      "('a', 'b', 'e') ---> l\n",
      "('b', 'e', 'l') ---> l\n",
      "('e', 'l', 'l') ---> a\n",
      "('l', 'l', 'a') ---> .\n",
      "('.', '.', '.') ---> s\n",
      "('.', '.', 's') ---> o\n",
      "('.', 's', 'o') ---> p\n",
      "('s', 'o', 'p') ---> h\n",
      "('o', 'p', 'h') ---> i\n",
      "('p', 'h', 'i') ---> a\n",
      "('h', 'i', 'a') ---> .\n"
     ]
    }
   ],
   "source": [
    "xs = []\n",
    "ys = []\n",
    "context_size = 3\n",
    "\n",
    "for name in names[:5]:\n",
    "    name = context_size*['.'] + list(name) + ['.']\n",
    "    for chars in sliding_window(name, context_size+1):\n",
    "        print(f'{chars[:context_size]} ---> {chars[-1]}')\n",
    "        indices = list(map(lambda c: stoi[c], chars))\n",
    "        xs.append((indices[:context_size]))\n",
    "        ys.append(indices[-1])\n",
    "\n",
    "xs = torch.tensor(xs)\n",
    "ys = torch.tensor(ys)"
   ]
  },
  {
   "cell_type": "code",
   "execution_count": 7,
   "metadata": {},
   "outputs": [
    {
     "data": {
      "text/plain": [
       "torch.Size([32, 3])"
      ]
     },
     "execution_count": 7,
     "metadata": {},
     "output_type": "execute_result"
    }
   ],
   "source": [
    "xs.shape"
   ]
  },
  {
   "attachments": {},
   "cell_type": "markdown",
   "metadata": {},
   "source": [
    "# Embedding Matrix ( - 00:18:00)"
   ]
  },
  {
   "attachments": {},
   "cell_type": "markdown",
   "metadata": {},
   "source": [
    "- Create Embedding Matrix with embedding size 2 (for now)"
   ]
  },
  {
   "cell_type": "code",
   "execution_count": 8,
   "metadata": {},
   "outputs": [],
   "source": [
    "C = torch.randn((27,2), requires_grad=True)"
   ]
  },
  {
   "attachments": {},
   "cell_type": "markdown",
   "metadata": {},
   "source": [
    "# Hidden Layer ( - 00:29:00)"
   ]
  },
  {
   "attachments": {},
   "cell_type": "markdown",
   "metadata": {},
   "source": [
    "- Hidden layer of dimension (6, 100)\n",
    "    - weights and biases\n",
    "- Transform input from (batch_size, 3, embedding_size) to (batch_size, 3*embedding_size) to enable multiplication\n",
    "- activation function: tanh\n"
   ]
  },
  {
   "cell_type": "code",
   "execution_count": 9,
   "metadata": {},
   "outputs": [
    {
     "data": {
      "text/plain": [
       "torch.Size([32, 3, 2])"
      ]
     },
     "execution_count": 9,
     "metadata": {},
     "output_type": "execute_result"
    }
   ],
   "source": [
    "X = C[xs]\n",
    "X.shape"
   ]
  },
  {
   "cell_type": "code",
   "execution_count": 10,
   "metadata": {},
   "outputs": [],
   "source": [
    "W = torch.randn((6,100), requires_grad=True)\n",
    "b = torch.randn((1, 100), requires_grad=True)"
   ]
  },
  {
   "cell_type": "code",
   "execution_count": 11,
   "metadata": {},
   "outputs": [
    {
     "data": {
      "text/plain": [
       "torch.Size([32, 6])"
      ]
     },
     "execution_count": 11,
     "metadata": {},
     "output_type": "execute_result"
    }
   ],
   "source": [
    "batch_size = X.shape[0]\n",
    "reshaped = X.view(batch_size, -1)\n",
    "reshaped.shape\n"
   ]
  },
  {
   "cell_type": "code",
   "execution_count": 12,
   "metadata": {},
   "outputs": [
    {
     "data": {
      "text/plain": [
       "torch.Size([32, 100])"
      ]
     },
     "execution_count": 12,
     "metadata": {},
     "output_type": "execute_result"
    }
   ],
   "source": [
    "((reshaped @ W) + b).shape"
   ]
  },
  {
   "cell_type": "code",
   "execution_count": 13,
   "metadata": {},
   "outputs": [],
   "source": [
    "activation = torch.tanh((reshaped @ W) + b)"
   ]
  },
  {
   "attachments": {},
   "cell_type": "markdown",
   "metadata": {},
   "source": [
    "# Output layer ( - 00:33:00)"
   ]
  },
  {
   "attachments": {},
   "cell_type": "markdown",
   "metadata": {},
   "source": [
    "- from hidden_size(100) to 27 (amount of characters)\n",
    "- neg. likelihood like last notebook"
   ]
  },
  {
   "attachments": {},
   "cell_type": "markdown",
   "metadata": {},
   "source": [
    "## Last layer"
   ]
  },
  {
   "cell_type": "code",
   "execution_count": 14,
   "metadata": {},
   "outputs": [
    {
     "data": {
      "text/plain": [
       "torch.Size([32, 100])"
      ]
     },
     "execution_count": 14,
     "metadata": {},
     "output_type": "execute_result"
    }
   ],
   "source": [
    "activation.shape"
   ]
  },
  {
   "cell_type": "code",
   "execution_count": 15,
   "metadata": {},
   "outputs": [],
   "source": [
    "W2 = torch.randn((100,27), requires_grad=True)\n",
    "b2 = torch.randn(27, requires_grad=True)\n"
   ]
  },
  {
   "cell_type": "code",
   "execution_count": 16,
   "metadata": {},
   "outputs": [
    {
     "data": {
      "text/plain": [
       "torch.Size([32, 27])"
      ]
     },
     "execution_count": 16,
     "metadata": {},
     "output_type": "execute_result"
    }
   ],
   "source": [
    "output = (activation @ W2) + b2\n",
    "output.shape"
   ]
  },
  {
   "attachments": {},
   "cell_type": "markdown",
   "metadata": {},
   "source": [
    "## Loss"
   ]
  },
  {
   "cell_type": "code",
   "execution_count": 17,
   "metadata": {},
   "outputs": [],
   "source": [
    "import torch.nn.functional as F"
   ]
  },
  {
   "attachments": {},
   "cell_type": "markdown",
   "metadata": {},
   "source": [
    "From the documentation of [CrossEntropyLoss](https://pytorch.org/docs/stable/generated/torch.nn.CrossEntropyLoss.html#torch.nn.CrossEntropyLoss):\n",
    "\n",
    "- input has to be a Tensor of size $(C)$ for unbatched input, $(minibatch, C)$ for batched input\n",
    "- The target should be class indices in the range $[0, C)$ where $C$ is the number of classes\n",
    "- Reduction is by default 'mean'"
   ]
  },
  {
   "cell_type": "code",
   "execution_count": 18,
   "metadata": {},
   "outputs": [
    {
     "name": "stdout",
     "output_type": "stream",
     "text": [
      "Input shape:  torch.Size([32, 27])\n",
      "Target shape:  torch.Size([32])\n",
      "Target values:  tensor([ 5, 13, 13,  1,  0, 15, 12,  9, 22,  9,  1,  0,  1, 22,  1,  0,  9, 19,\n",
      "         1,  2,  5, 12, 12,  1,  0, 19, 15, 16,  8,  9,  1,  0])\n"
     ]
    }
   ],
   "source": [
    "print('Input shape: ', output.shape)\n",
    "print('Target shape: ', ys.shape)\n",
    "print('Target values: ', ys)"
   ]
  },
  {
   "cell_type": "code",
   "execution_count": 19,
   "metadata": {},
   "outputs": [
    {
     "data": {
      "text/plain": [
       "tensor(15.7781, grad_fn=<NllLossBackward0>)"
      ]
     },
     "execution_count": 19,
     "metadata": {},
     "output_type": "execute_result"
    }
   ],
   "source": [
    "F.cross_entropy(output, ys)"
   ]
  },
  {
   "attachments": {},
   "cell_type": "markdown",
   "metadata": {},
   "source": [
    "Doing this by hand:"
   ]
  },
  {
   "cell_type": "code",
   "execution_count": 20,
   "metadata": {},
   "outputs": [
    {
     "data": {
      "text/plain": [
       "tensor(15.7781, grad_fn=<MeanBackward0>)"
      ]
     },
     "execution_count": 20,
     "metadata": {},
     "output_type": "execute_result"
    }
   ],
   "source": [
    "# softmax\n",
    "counts = output.exp()\n",
    "probs = counts / counts.sum(dim=1, keepdim=True)\n",
    "\n",
    "# neg log likelihood\n",
    "logs = - probs.log()\n",
    "loss = logs[torch.arange(len(ys)), ys]\n",
    "loss.mean()"
   ]
  },
  {
   "attachments": {},
   "cell_type": "markdown",
   "metadata": {},
   "source": [
    "# Refactoring ( - 00:38:00)"
   ]
  },
  {
   "attachments": {},
   "cell_type": "markdown",
   "metadata": {},
   "source": [
    "- Define all matrices in one place\n",
    "- collect parameters in list\n",
    "    - count parameters, should be 3481\n",
    "- Use seed generator\n",
    "- define forward pass with F.cross_entropy()"
   ]
  },
  {
   "cell_type": "code",
   "execution_count": 21,
   "metadata": {},
   "outputs": [],
   "source": [
    "context_size = 3\n",
    "embedding_size = 2\n",
    "hidden_layer_size = 100\n",
    "lr = .1"
   ]
  },
  {
   "cell_type": "markdown",
   "metadata": {},
   "source": [
    "#### Dataset"
   ]
  },
  {
   "cell_type": "code",
   "execution_count": 22,
   "metadata": {},
   "outputs": [
    {
     "data": {
      "text/plain": [
       "torch.Size([32, 3])"
      ]
     },
     "execution_count": 22,
     "metadata": {},
     "output_type": "execute_result"
    }
   ],
   "source": [
    "xs = []\n",
    "ys = []\n",
    "\n",
    "for name in names[:5]:\n",
    "    name = context_size*['.'] + list(name) + ['.']\n",
    "    for chars in sliding_window(name, context_size+1):\n",
    "        indices = list(map(lambda c: stoi[c], chars))\n",
    "        xs.append((indices[:context_size]))\n",
    "        ys.append(indices[-1])\n",
    "\n",
    "xs = torch.tensor(xs)\n",
    "ys = torch.tensor(ys)\n",
    "\n",
    "xs.shape"
   ]
  },
  {
   "attachments": {},
   "cell_type": "markdown",
   "metadata": {},
   "source": [
    "#### NN Setup"
   ]
  },
  {
   "cell_type": "code",
   "execution_count": 23,
   "metadata": {},
   "outputs": [
    {
     "name": "stdout",
     "output_type": "stream",
     "text": [
      "Number of parameters:  3481\n"
     ]
    }
   ],
   "source": [
    "g = torch.Generator().manual_seed(2147483647)\n",
    "\n",
    "C = torch.randn((27, embedding_size), requires_grad=True, generator=g)\n",
    "W1 = torch.randn((embedding_size*context_size, hidden_layer_size), requires_grad=True, generator=g)\n",
    "b1 = torch.randn(hidden_layer_size, requires_grad=True, generator=g)\n",
    "W2 = torch.randn((hidden_layer_size, 27), requires_grad=True, generator=g)\n",
    "b2 = torch.randn(27, requires_grad=True, generator=g)\n",
    "\n",
    "parameters = [C, W1, b1, W2, b2]\n",
    "\n",
    "print('Number of parameters: ', sum(p.nelement() for p in parameters))"
   ]
  },
  {
   "attachments": {},
   "cell_type": "markdown",
   "metadata": {},
   "source": [
    "#### Forward pass"
   ]
  },
  {
   "cell_type": "code",
   "execution_count": 24,
   "metadata": {},
   "outputs": [
    {
     "data": {
      "text/plain": [
       "17.769710540771484"
      ]
     },
     "execution_count": 24,
     "metadata": {},
     "output_type": "execute_result"
    }
   ],
   "source": [
    "embeddings = C[xs].view(-1, embedding_size*context_size)\n",
    "\n",
    "inner = torch.tanh((embeddings @ W1) + b1)\n",
    "logits = (inner @ W2) + b2\n",
    "\n",
    "loss = F.cross_entropy(logits, ys)\n",
    "loss.item()"
   ]
  },
  {
   "attachments": {},
   "cell_type": "markdown",
   "metadata": {},
   "source": [
    "# Training loop ( - 00:45:00)"
   ]
  },
  {
   "attachments": {},
   "cell_type": "markdown",
   "metadata": {},
   "source": [
    "- forward pass\n",
    "- backward pass\n",
    "    - zero grads\n",
    "    - update by learning rate\n",
    "- repeat n times for the one batch (intentional overfitting)\n",
    "    - loss should go to ~.25 (1000 iterations)\n",
    "- comnpare logits max against ys (manually)\n",
    "    - should be close to actual indices\n",
    "\n",
    "- Train on full dataset\n",
    "    - slow\n",
    "- instead use minibatches of size 32\n",
    "    - randomly drawn in each iteration"
   ]
  },
  {
   "attachments": {},
   "cell_type": "markdown",
   "metadata": {},
   "source": [
    "#### Train loop"
   ]
  },
  {
   "cell_type": "code",
   "execution_count": 25,
   "metadata": {},
   "outputs": [
    {
     "name": "stdout",
     "output_type": "stream",
     "text": [
      "17.769710540771484\n",
      "0.3354488015174866\n",
      "0.278947651386261\n",
      "0.2678886950016022\n",
      "0.2631761431694031\n",
      "0.26341554522514343\n",
      "0.2601673901081085\n",
      "0.2586156725883484\n",
      "0.2575641870498657\n",
      "0.256767600774765\n"
     ]
    }
   ],
   "source": [
    "for epoch in range(1000):\n",
    "    # forward pass\n",
    "    embeddings = C[xs].view(-1, embedding_size*context_size)\n",
    "\n",
    "    inner = torch.tanh((embeddings @ W1) + b1)\n",
    "    logits = (inner @ W2) + b2\n",
    "\n",
    "    loss = F.cross_entropy(logits, ys)\n",
    "\n",
    "    # backward pass\n",
    "    for param in parameters:\n",
    "        param.grad = None\n",
    "\n",
    "    loss.backward()\n",
    "\n",
    "    # optimization\n",
    "\n",
    "    for param in parameters:\n",
    "        param.data -= lr * param.grad\n",
    "\n",
    "    if epoch%100==0:\n",
    "        print(loss.item())"
   ]
  },
  {
   "attachments": {},
   "cell_type": "markdown",
   "metadata": {},
   "source": [
    "#### Compare logits against indices"
   ]
  },
  {
   "cell_type": "code",
   "execution_count": 26,
   "metadata": {},
   "outputs": [
    {
     "data": {
      "text/plain": [
       "torch.return_types.max(\n",
       "values=tensor([13.3348, 17.7904, 20.6014, 20.6121, 16.7355, 13.3348, 15.9984, 14.1723,\n",
       "        15.9146, 18.3614, 15.9395, 20.9265, 13.3348, 17.1090, 17.1319, 20.0601,\n",
       "        13.3348, 16.5892, 15.1017, 17.0581, 18.5861, 15.9670, 10.8740, 10.6871,\n",
       "        15.5056, 13.3348, 16.1794, 16.9743, 12.7426, 16.2009, 19.0845, 16.0195],\n",
       "       grad_fn=<MaxBackward0>),\n",
       "indices=tensor([19, 13, 13,  1,  0, 19, 12,  9, 22,  9,  1,  0, 19, 22,  1,  0, 19, 19,\n",
       "         1,  2,  5, 12, 12,  1,  0, 19, 15, 16,  8,  9,  1,  0]))"
      ]
     },
     "execution_count": 26,
     "metadata": {},
     "output_type": "execute_result"
    }
   ],
   "source": [
    "logits.max(dim=1)"
   ]
  },
  {
   "cell_type": "code",
   "execution_count": 27,
   "metadata": {},
   "outputs": [
    {
     "data": {
      "text/plain": [
       "tensor([ 5, 13, 13,  1,  0, 15, 12,  9, 22,  9,  1,  0,  1, 22,  1,  0,  9, 19,\n",
       "         1,  2,  5, 12, 12,  1,  0, 19, 15, 16,  8,  9,  1,  0])"
      ]
     },
     "execution_count": 27,
     "metadata": {},
     "output_type": "execute_result"
    }
   ],
   "source": [
    "ys"
   ]
  },
  {
   "attachments": {},
   "cell_type": "markdown",
   "metadata": {},
   "source": [
    "#### Train on full dataset"
   ]
  },
  {
   "cell_type": "code",
   "execution_count": 28,
   "metadata": {},
   "outputs": [
    {
     "data": {
      "text/plain": [
       "torch.Size([228146, 3])"
      ]
     },
     "execution_count": 28,
     "metadata": {},
     "output_type": "execute_result"
    }
   ],
   "source": [
    "xs = []\n",
    "ys = []\n",
    "\n",
    "for name in names:\n",
    "    name = context_size*['.'] + list(name) + ['.']\n",
    "    for chars in sliding_window(name, context_size+1):\n",
    "        indices = list(map(lambda c: stoi[c], chars))\n",
    "        xs.append((indices[:context_size]))\n",
    "        ys.append(indices[-1])\n",
    "\n",
    "xs = torch.tensor(xs)\n",
    "ys = torch.tensor(ys)\n",
    "\n",
    "xs.shape"
   ]
  },
  {
   "cell_type": "code",
   "execution_count": 29,
   "metadata": {},
   "outputs": [
    {
     "name": "stdout",
     "output_type": "stream",
     "text": [
      "Number of parameters:  3481\n"
     ]
    }
   ],
   "source": [
    "g = torch.Generator().manual_seed(2147483647)\n",
    "\n",
    "C = torch.randn((27, embedding_size), requires_grad=True, generator=g)\n",
    "W1 = torch.randn((embedding_size*context_size, hidden_layer_size), requires_grad=True, generator=g)\n",
    "b1 = torch.randn(hidden_layer_size, requires_grad=True, generator=g)\n",
    "W2 = torch.randn((hidden_layer_size, 27), requires_grad=True, generator=g)\n",
    "b2 = torch.randn(27, requires_grad=True, generator=g)\n",
    "\n",
    "parameters = [C, W1, b1, W2, b2]\n",
    "\n",
    "print('Number of parameters: ', sum(p.nelement() for p in parameters))"
   ]
  },
  {
   "cell_type": "code",
   "execution_count": 30,
   "metadata": {},
   "outputs": [
    {
     "name": "stdout",
     "output_type": "stream",
     "text": [
      "19.505229949951172\n",
      "17.084495544433594\n",
      "15.776532173156738\n",
      "14.833337783813477\n",
      "14.002595901489258\n",
      "13.253252983093262\n",
      "12.579911231994629\n",
      "11.9830961227417\n",
      "11.470491409301758\n",
      "11.051857948303223\n"
     ]
    }
   ],
   "source": [
    "for epoch in range(10):\n",
    "    # forward pass\n",
    "    embeddings = C[xs].view(-1, embedding_size*context_size)\n",
    "\n",
    "    inner = torch.tanh((embeddings @ W1) + b1)\n",
    "    logits = (inner @ W2) + b2\n",
    "\n",
    "    loss = F.cross_entropy(logits, ys)\n",
    "\n",
    "    # backward pass\n",
    "    for param in parameters:\n",
    "        param.grad = None\n",
    "\n",
    "    loss.backward()\n",
    "\n",
    "    # optimization\n",
    "\n",
    "    for param in parameters:\n",
    "        param.data -= lr * param.grad\n",
    "\n",
    "    print(loss.item())"
   ]
  },
  {
   "attachments": {},
   "cell_type": "markdown",
   "metadata": {},
   "source": [
    "#### Minibatches"
   ]
  },
  {
   "cell_type": "code",
   "execution_count": 31,
   "metadata": {},
   "outputs": [],
   "source": [
    "batch_size = 32"
   ]
  },
  {
   "cell_type": "code",
   "execution_count": 32,
   "metadata": {},
   "outputs": [
    {
     "name": "stdout",
     "output_type": "stream",
     "text": [
      "Number of parameters:  3481\n"
     ]
    }
   ],
   "source": [
    "g = torch.Generator().manual_seed(2147483647)\n",
    "\n",
    "C = torch.randn((27, embedding_size), requires_grad=True, generator=g)\n",
    "W1 = torch.randn((embedding_size*context_size, hidden_layer_size), requires_grad=True, generator=g)\n",
    "b1 = torch.randn(hidden_layer_size, requires_grad=True, generator=g)\n",
    "W2 = torch.randn((hidden_layer_size, 27), requires_grad=True, generator=g)\n",
    "b2 = torch.randn(27, requires_grad=True, generator=g)\n",
    "\n",
    "parameters = [C, W1, b1, W2, b2]\n",
    "\n",
    "print('Number of parameters: ', sum(p.nelement() for p in parameters))"
   ]
  },
  {
   "cell_type": "code",
   "execution_count": 33,
   "metadata": {},
   "outputs": [],
   "source": [
    "lr = 1e-1"
   ]
  },
  {
   "cell_type": "code",
   "execution_count": 34,
   "metadata": {},
   "outputs": [
    {
     "name": "stdout",
     "output_type": "stream",
     "text": [
      "2.536257266998291\n"
     ]
    }
   ],
   "source": [
    "for epoch in range(1000):\n",
    "\n",
    "    rand_idx = torch.multinomial(torch.ones(len(xs)), num_samples=batch_size, replacement=True)\n",
    "    xb = xs[rand_idx]\n",
    "    yb = ys[rand_idx]\n",
    "\n",
    "    # forward pass\n",
    "    embeddings = C[xb].view(-1, embedding_size*context_size)\n",
    "\n",
    "    inner = torch.tanh((embeddings @ W1) + b1)\n",
    "    logits = (inner @ W2) + b2\n",
    "\n",
    "    loss = F.cross_entropy(logits, yb)\n",
    "\n",
    "    # backward pass\n",
    "    for param in parameters:\n",
    "        param.grad = None\n",
    "\n",
    "    loss.backward()\n",
    "\n",
    "    # optimization\n",
    "\n",
    "    for param in parameters:\n",
    "        param.data -= lr * param.grad\n",
    "\n",
    "print(loss.item())"
   ]
  },
  {
   "cell_type": "code",
   "execution_count": 35,
   "metadata": {},
   "outputs": [
    {
     "name": "stdout",
     "output_type": "stream",
     "text": [
      "2.7020065784454346\n"
     ]
    }
   ],
   "source": [
    "with torch.no_grad():\n",
    "    embeddings = C[xs].view(-1, embedding_size*context_size)\n",
    "\n",
    "    inner = torch.tanh((embeddings @ W1) + b1)\n",
    "    logits = (inner @ W2) + b2\n",
    "\n",
    "    loss = F.cross_entropy(logits, ys)\n",
    "    print(loss.item())"
   ]
  },
  {
   "attachments": {},
   "cell_type": "markdown",
   "metadata": {},
   "source": [
    "# Learning Rate finder (  - 00:53:00)"
   ]
  },
  {
   "attachments": {},
   "cell_type": "markdown",
   "metadata": {},
   "source": [
    "- reset all parameters\n",
    "- print loss for each batch\n",
    "    - find too low lr\n",
    "    - find too high lr\n",
    "- generate log lrs between low and high end\n",
    "- plot loss against lr\n",
    "- choose lr at hockey stick point"
   ]
  },
  {
   "cell_type": "code",
   "execution_count": 56,
   "metadata": {},
   "outputs": [
    {
     "name": "stdout",
     "output_type": "stream",
     "text": [
      "Number of parameters:  3481\n"
     ]
    }
   ],
   "source": [
    "g = torch.Generator().manual_seed(2147483647)\n",
    "\n",
    "C = torch.randn((27, embedding_size), requires_grad=True, generator=g)\n",
    "W1 = torch.randn((embedding_size*context_size, hidden_layer_size), requires_grad=True, generator=g)\n",
    "b1 = torch.randn(hidden_layer_size, requires_grad=True, generator=g)\n",
    "W2 = torch.randn((hidden_layer_size, 27), requires_grad=True, generator=g)\n",
    "b2 = torch.randn(27, requires_grad=True, generator=g)\n",
    "\n",
    "parameters = [C, W1, b1, W2, b2]\n",
    "\n",
    "print('Number of parameters: ', sum(p.nelement() for p in parameters))"
   ]
  },
  {
   "cell_type": "code",
   "execution_count": 57,
   "metadata": {},
   "outputs": [
    {
     "name": "stdout",
     "output_type": "stream",
     "text": [
      "20.559709548950195\n",
      "15.81920337677002\n",
      "21.557371139526367\n",
      "19.788726806640625\n",
      "15.139687538146973\n",
      "22.96284294128418\n",
      "17.153684616088867\n",
      "19.712646484375\n",
      "19.57217788696289\n",
      "18.848974227905273\n",
      "19.81866455078125\n",
      "17.85858726501465\n",
      "19.368131637573242\n",
      "19.746456146240234\n",
      "15.742476463317871\n",
      "20.083404541015625\n",
      "19.687341690063477\n",
      "20.555767059326172\n",
      "16.42055320739746\n",
      "18.437522888183594\n",
      "19.33500099182129\n",
      "22.48651885986328\n",
      "18.883277893066406\n",
      "18.281208038330078\n",
      "14.829050064086914\n",
      "18.259044647216797\n",
      "18.10097312927246\n",
      "16.54646873474121\n",
      "19.82721710205078\n",
      "17.472270965576172\n",
      "16.401887893676758\n",
      "17.38470458984375\n",
      "16.8785343170166\n",
      "13.509093284606934\n",
      "16.83677864074707\n",
      "16.70842933654785\n",
      "15.996024131774902\n",
      "14.194262504577637\n",
      "16.20220184326172\n",
      "17.753787994384766\n",
      "18.45462989807129\n",
      "16.067129135131836\n",
      "15.203129768371582\n",
      "14.943780899047852\n",
      "14.149185180664062\n",
      "12.091032028198242\n",
      "15.469017028808594\n",
      "16.287094116210938\n",
      "17.327438354492188\n",
      "11.473048210144043\n",
      "14.161043167114258\n",
      "12.4132080078125\n",
      "13.349205017089844\n",
      "12.897871971130371\n",
      "10.744739532470703\n",
      "13.196243286132812\n",
      "11.238834381103516\n",
      "11.572936058044434\n",
      "13.436020851135254\n",
      "9.466941833496094\n",
      "10.89339828491211\n",
      "11.771230697631836\n",
      "9.508831024169922\n",
      "9.452034950256348\n",
      "9.450394630432129\n",
      "10.674394607543945\n",
      "11.678812026977539\n",
      "11.694398880004883\n",
      "9.078289985656738\n",
      "7.982296466827393\n",
      "8.875550270080566\n",
      "8.554532051086426\n",
      "7.5462164878845215\n",
      "7.209272384643555\n",
      "5.416148662567139\n",
      "8.625691413879395\n",
      "6.3382391929626465\n",
      "6.415164470672607\n",
      "5.944418430328369\n",
      "5.208790302276611\n",
      "7.560384273529053\n",
      "7.362197399139404\n",
      "5.400691509246826\n",
      "6.1383233070373535\n",
      "5.5673017501831055\n",
      "5.1044921875\n",
      "6.055123329162598\n",
      "6.910553455352783\n",
      "6.647448539733887\n",
      "5.184012413024902\n",
      "6.134921073913574\n",
      "6.898463249206543\n",
      "5.58249044418335\n",
      "5.715251445770264\n",
      "4.602331638336182\n",
      "6.063180446624756\n",
      "7.431973934173584\n",
      "11.21555233001709\n",
      "8.927724838256836\n",
      "7.796611309051514\n"
     ]
    }
   ],
   "source": [
    "# too high: 10e2\n",
    "# too low: 1e-3\n",
    "\n",
    "lrs = torch.linspace(-3, 0, 100)\n",
    "losses = []\n",
    "\n",
    "for lr in lrs:\n",
    "\n",
    "    rand_idx = torch.multinomial(torch.ones(len(xs)), num_samples=batch_size, replacement=True)\n",
    "    xb = xs[rand_idx]\n",
    "    yb = ys[rand_idx]\n",
    "\n",
    "    # forward pass\n",
    "    embeddings = C[xb].view(-1, embedding_size*context_size)\n",
    "\n",
    "    inner = torch.tanh((embeddings @ W1) + b1)\n",
    "    logits = (inner @ W2) + b2\n",
    "\n",
    "    loss = F.cross_entropy(logits, yb)\n",
    "\n",
    "    # backward pass\n",
    "    for param in parameters:\n",
    "        param.grad = None\n",
    "\n",
    "    loss.backward()\n",
    "\n",
    "    # optimization\n",
    "\n",
    "    for param in parameters:\n",
    "        param.data -= (10**lr) * param.grad\n",
    "\n",
    "    losses.append(loss.item())\n",
    "    print(loss.item())"
   ]
  },
  {
   "cell_type": "code",
   "execution_count": 58,
   "metadata": {},
   "outputs": [],
   "source": [
    "import matplotlib.pyplot as plt"
   ]
  },
  {
   "cell_type": "code",
   "execution_count": 59,
   "metadata": {},
   "outputs": [
    {
     "data": {
      "image/png": "[encoded data removed]",
      "text/plain": [
       "<Figure size 640x480 with 1 Axes>"
      ]
     },
     "metadata": {},
     "output_type": "display_data"
    }
   ],
   "source": [
    "fix, ax = plt.subplots()\n",
    "\n",
    "ax.plot(lrs, losses)\n",
    "\n",
    "plt.show()"
   ]
  },
  {
   "attachments": {},
   "cell_type": "markdown",
   "metadata": {},
   "source": [
    "# Overfitting"
   ]
  },
  {
   "attachments": {},
   "cell_type": "markdown",
   "metadata": {},
   "source": [
    "- split into training/dev/test set\n",
    "  - e.g. $80\\%$ / $10\\%$ / $10\\%$\n",
    "  - train: tune parameters\n",
    "  - dev: hyperparameters\n",
    "  - test: actual model performance. Evaluate only sparingly, as every evaluation makes overfitting more likely\n",
    "- shuffle all words with seed 42 (with python random)\n",
    "- take first $80\\%$ for train, next $10\\%$ for dev\n",
    "- evaluate\n",
    "  - train on train set\n",
    "  - evaluate on dev set\n",
    "  - 30k iterations, should be roughly equal loss\n",
    "- Overfitting can't really happen right now, because model is too small\n",
    "- make model larger\n",
    "  - increase hidden layer size to $300$\n",
    "  - plot loss over steps\n",
    "    - very noisy\n",
    "  - decrease learning rate\n",
    "  - retrain until loss is smaller than with smaller model\n",
    "- visualize character embeddings\n",
    "- increase net once again:\n",
    "  - emb_size=10\n",
    "  - decrease hidden from 300 to 200\n",
    "- plot log-loss over steps\n",
    "- sample from the model\n",
    "- read the [original paper](https://www.jmlr.org/papers/volume3/bengio03a/bengio03a.pdf)"
   ]
  },
  {
   "cell_type": "markdown",
   "metadata": {},
   "source": []
  }
 ],
 "metadata": {
  "kernelspec": {
   "display_name": "zero",
   "language": "python",
   "name": "python3"
  },
  "language_info": {
   "codemirror_mode": {
    "name": "ipython",
    "version": 3
   },
   "file_extension": ".py",
   "mimetype": "text/x-python",
   "name": "python",
   "nbconvert_exporter": "python",
   "pygments_lexer": "ipython3",
   "version": "3.9.15"
  },
  "orig_nbformat": 4,
  "vscode": {
   "interpreter": {
    "hash": "e98ef4f9346bee673f51c6ffc649e77c3dd738815ba08794b113970bacedb832"
   }
  }
 },
 "nbformat": 4,
 "nbformat_minor": 2
}
