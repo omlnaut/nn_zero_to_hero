{
 "cells": [
  {
   "cell_type": "markdown",
   "metadata": {},
   "source": [
    "# makemore: part 3"
   ]
  },
  {
   "attachments": {},
   "cell_type": "markdown",
   "metadata": {},
   "source": [
    "# Setup"
   ]
  },
  {
   "cell_type": "code",
   "execution_count": 1,
   "metadata": {},
   "outputs": [],
   "source": [
    "import torch\n",
    "import torch.nn.functional as F\n",
    "from pathlib import Path\n",
    "import matplotlib.pyplot as plt # for making figures\n",
    "%matplotlib inline"
   ]
  },
  {
   "cell_type": "code",
   "execution_count": 2,
   "metadata": {},
   "outputs": [
    {
     "data": {
      "text/plain": [
       "['emma', 'olivia', 'ava', 'isabella', 'sophia', 'charlotte', 'mia', 'amelia']"
      ]
     },
     "execution_count": 2,
     "metadata": {},
     "output_type": "execute_result"
    }
   ],
   "source": [
    "# read in all the words\n",
    "words = open('../data/names.txt', 'r').read().splitlines()\n",
    "words[:8]"
   ]
  },
  {
   "cell_type": "code",
   "execution_count": 3,
   "metadata": {},
   "outputs": [
    {
     "data": {
      "text/plain": [
       "32033"
      ]
     },
     "execution_count": 3,
     "metadata": {},
     "output_type": "execute_result"
    }
   ],
   "source": [
    "len(words)"
   ]
  },
  {
   "cell_type": "code",
   "execution_count": 4,
   "metadata": {},
   "outputs": [
    {
     "name": "stdout",
     "output_type": "stream",
     "text": [
      "{1: 'a', 2: 'b', 3: 'c', 4: 'd', 5: 'e', 6: 'f', 7: 'g', 8: 'h', 9: 'i', 10: 'j', 11: 'k', 12: 'l', 13: 'm', 14: 'n', 15: 'o', 16: 'p', 17: 'q', 18: 'r', 19: 's', 20: 't', 21: 'u', 22: 'v', 23: 'w', 24: 'x', 25: 'y', 26: 'z', 0: '.'}\n",
      "27\n"
     ]
    }
   ],
   "source": [
    "# build the vocabulary of characters and mappings to/from integers\n",
    "chars = sorted(list(set(''.join(words))))\n",
    "stoi = {s:i+1 for i,s in enumerate(chars)}\n",
    "stoi['.'] = 0\n",
    "itos = {i:s for s,i in stoi.items()}\n",
    "vocab_size = len(itos)\n",
    "print(itos)\n",
    "print(vocab_size)"
   ]
  },
  {
   "cell_type": "code",
   "execution_count": 5,
   "metadata": {},
   "outputs": [
    {
     "name": "stdout",
     "output_type": "stream",
     "text": [
      "torch.Size([182625, 3]) torch.Size([182625])\n",
      "torch.Size([22655, 3]) torch.Size([22655])\n",
      "torch.Size([22866, 3]) torch.Size([22866])\n"
     ]
    }
   ],
   "source": [
    "# build the dataset\n",
    "block_size = 3 # context length: how many characters do we take to predict the next one?\n",
    "\n",
    "def build_dataset(words):  \n",
    "  X, Y = [], []\n",
    "  \n",
    "  for w in words:\n",
    "    context = [0] * block_size\n",
    "    for ch in w + '.':\n",
    "      ix = stoi[ch]\n",
    "      X.append(context)\n",
    "      Y.append(ix)\n",
    "      context = context[1:] + [ix] # crop and append\n",
    "\n",
    "  X = torch.tensor(X)\n",
    "  Y = torch.tensor(Y)\n",
    "  print(X.shape, Y.shape)\n",
    "  return X, Y\n",
    "\n",
    "import random\n",
    "random.seed(42)\n",
    "random.shuffle(words)\n",
    "n1 = int(0.8*len(words))\n",
    "n2 = int(0.9*len(words))\n",
    "\n",
    "Xtr,  Ytr  = build_dataset(words[:n1])     # 80%\n",
    "Xdev, Ydev = build_dataset(words[n1:n2])   # 10%\n",
    "Xte,  Yte  = build_dataset(words[n2:])     # 10%\n"
   ]
  },
  {
   "cell_type": "code",
   "execution_count": 8,
   "metadata": {},
   "outputs": [],
   "source": [
    "data = Path('../data/')\n",
    "\n",
    "torch.save(Xtr, data/'x_train')\n",
    "torch.save(Ytr, data/'y_train')\n",
    "\n",
    "torch.save(Xdev, data/'x_dev')\n",
    "torch.save(Ydev, data/'y_dev')\n",
    "\n",
    "torch.save(Xte, data/'x_test')\n",
    "torch.save(Yte, data/'y_test')"
   ]
  },
  {
   "cell_type": "code",
   "execution_count": 6,
   "metadata": {},
   "outputs": [
    {
     "name": "stdout",
     "output_type": "stream",
     "text": [
      "11897\n"
     ]
    }
   ],
   "source": [
    "# MLP revisited\n",
    "n_embd = 10 # the dimensionality of the character embedding vectors\n",
    "n_hidden = 200 # the number of neurons in the hidden layer of the MLP\n",
    "\n",
    "def init_net(n_embd=10, n_hidden=200, block_size=3):\n",
    "  global vocab_size\n",
    "\n",
    "  g = torch.Generator().manual_seed(2147483647) # for reproducibility\n",
    "  C  = torch.randn((vocab_size, n_embd),            generator=g)\n",
    "  W1 = torch.randn((n_embd * block_size, n_hidden), generator=g)\n",
    "  b1 = torch.randn(n_hidden,                        generator=g)\n",
    "  W2 = torch.randn((n_hidden, vocab_size),          generator=g)\n",
    "  b2 = torch.randn(vocab_size,                      generator=g)\n",
    "\n",
    "  parameters = [C, W1, b1, W2, b2]\n",
    "  print(sum(p.nelement() for p in parameters)) # number of parameters in total\n",
    "  for p in parameters:\n",
    "    p.requires_grad = True\n",
    "\n",
    "  return parameters, g\n",
    "\n",
    "(C,W1,b1,W2,b2), g = init_net()\n"
   ]
  },
  {
   "cell_type": "code",
   "execution_count": 7,
   "metadata": {},
   "outputs": [],
   "source": [
    "\n",
    "def training_loop(max_steps, batch_size=32):\n",
    "  global h\n",
    "  global hpreact\n",
    "  global logits\n",
    "  lossi = []\n",
    "  parameters = [C,W1,b1,W2,b2]\n",
    "\n",
    "  for i in range(max_steps):\n",
    "    \n",
    "    # minibatch construct\n",
    "    ix = torch.randint(0, Xtr.shape[0], (batch_size,), generator=g)\n",
    "    Xb, Yb = Xtr[ix], Ytr[ix] # batch X,Y\n",
    "    \n",
    "    # forward pass\n",
    "    emb = C[Xb] # embed the characters into vectors\n",
    "    embcat = emb.view(emb.shape[0], -1) # concatenate the vectors\n",
    "    # Linear layer\n",
    "    hpreact = embcat @ W1 + b1 # hidden layer pre-activation\n",
    "    h = torch.tanh(hpreact) # hidden layer\n",
    "    logits = h @ W2 + b2 # output layer\n",
    "    loss = F.cross_entropy(logits, Yb) # loss function\n",
    "    \n",
    "    # backward pass\n",
    "    for p in parameters:\n",
    "      p.grad = None\n",
    "    loss.backward()\n",
    "    \n",
    "    # update\n",
    "    lr = 0.1 if i < 100000 else 0.01 # step learning rate decay\n",
    "    for p in parameters:\n",
    "      p.data += -lr * p.grad\n",
    "\n",
    "    # track stats\n",
    "    if i % 10000 == 0: # print every once in a while\n",
    "      print(f'{i:7d}/{max_steps:7d}: {loss.item():.4f}')\n",
    "    lossi.append(loss.log10().item())\n",
    "\n",
    "  return lossi\n",
    "    "
   ]
  },
  {
   "cell_type": "code",
   "execution_count": 8,
   "metadata": {},
   "outputs": [
    {
     "name": "stdout",
     "output_type": "stream",
     "text": [
      "      0/  50000: 27.8817\n",
      "  10000/  50000: 2.7667\n",
      "  20000/  50000: 2.6773\n",
      "  30000/  50000: 2.7836\n",
      "  40000/  50000: 2.0416\n"
     ]
    }
   ],
   "source": [
    "lossi = training_loop(50000)"
   ]
  },
  {
   "cell_type": "code",
   "execution_count": 9,
   "metadata": {},
   "outputs": [
    {
     "data": {
      "text/plain": [
       "[<matplotlib.lines.Line2D at 0x18d5f9774f0>]"
      ]
     },
     "execution_count": 9,
     "metadata": {},
     "output_type": "execute_result"
    },
    {
     "data": {
      "image/png": "[encoded data removed]",
      "text/plain": [
       "<Figure size 640x480 with 1 Axes>"
      ]
     },
     "metadata": {},
     "output_type": "display_data"
    }
   ],
   "source": [
    "plt.plot(lossi)"
   ]
  },
  {
   "cell_type": "code",
   "execution_count": 10,
   "metadata": {},
   "outputs": [
    {
     "name": "stdout",
     "output_type": "stream",
     "text": [
      "train 2.330617666244507\n",
      "val 2.354438304901123\n"
     ]
    }
   ],
   "source": [
    "@torch.no_grad() # this decorator disables gradient tracking\n",
    "def split_loss(split):\n",
    "  x,y = {\n",
    "    'train': (Xtr, Ytr),\n",
    "    'val': (Xdev, Ydev),\n",
    "    'test': (Xte, Yte),\n",
    "  }[split]\n",
    "  emb = C[x] # embed the characters into vectors\n",
    "  embcat = emb.view(emb.shape[0], -1) # concatenate the vectors\n",
    "  # Linear layer\n",
    "  hpreact = embcat @ W1 + b1 # hidden layer pre-activation\n",
    "  h = torch.tanh(hpreact) # hidden layer\n",
    "  logits = h @ W2 + b2 # output layer\n",
    "  loss = F.cross_entropy(logits, y) # loss function\n",
    "  print(split, loss.item())\n",
    "\n",
    "split_loss('train')\n",
    "split_loss('val')"
   ]
  },
  {
   "attachments": {},
   "cell_type": "markdown",
   "metadata": {},
   "source": [
    "# Initialization"
   ]
  },
  {
   "attachments": {},
   "cell_type": "markdown",
   "metadata": {},
   "source": [
    "The initial loss is way to high. Since the model does not know anything about character probabilities (and is initialized randomly), it should assign equal probability to each character.\n"
   ]
  },
  {
   "attachments": {},
   "cell_type": "markdown",
   "metadata": {},
   "source": [
    "## Logits"
   ]
  },
  {
   "attachments": {},
   "cell_type": "markdown",
   "metadata": {},
   "source": [
    "\n",
    "- Run Training loop, break after first iteration\n",
    "  - Logits take on extreme values, resulting in high loss\n"
   ]
  },
  {
   "cell_type": "code",
   "execution_count": 11,
   "metadata": {},
   "outputs": [
    {
     "name": "stdout",
     "output_type": "stream",
     "text": [
      "11897\n",
      "      0/      1: 27.8817\n"
     ]
    }
   ],
   "source": [
    "(C,W1,b1,W2,b2), g = init_net()\n",
    "\n",
    "lossi = training_loop(1)"
   ]
  },
  {
   "cell_type": "code",
   "execution_count": 12,
   "metadata": {},
   "outputs": [
    {
     "data": {
      "text/plain": [
       "tensor([ -2.3527,  36.4366, -10.7306,   5.7165,  18.6409, -11.6998,  -2.1991,\n",
       "          1.8535,  10.9996,  10.6730,  12.3507, -10.3809,   4.7243, -24.4257,\n",
       "         -8.5909,   1.9024, -12.2744, -12.4751, -23.2778,  -2.0163,  25.8767,\n",
       "         14.2108,  17.7691, -10.9204, -20.7335,   6.4560,  11.1615],\n",
       "       grad_fn=<SelectBackward0>)"
      ]
     },
     "execution_count": 12,
     "metadata": {},
     "output_type": "execute_result"
    }
   ],
   "source": [
    "logits[0]"
   ]
  },
  {
   "attachments": {},
   "cell_type": "markdown",
   "metadata": {},
   "source": [
    "- Scale down W2, set b2 to zero\n",
    "  - output should be more uniform\n"
   ]
  },
  {
   "cell_type": "code",
   "execution_count": 13,
   "metadata": {},
   "outputs": [
    {
     "name": "stdout",
     "output_type": "stream",
     "text": [
      "11897\n",
      "      0/      1: 3.3221\n"
     ]
    },
    {
     "data": {
      "text/plain": [
       "tensor([-0.0249,  0.3523, -0.1267,  0.0541,  0.1662, -0.1171, -0.0140,  0.0124,\n",
       "         0.0921,  0.1135,  0.1362, -0.0925,  0.0444, -0.2459, -0.0971,  0.0125,\n",
       "        -0.0957, -0.1376, -0.2329, -0.0137,  0.2452,  0.1616,  0.1665, -0.1094,\n",
       "        -0.2154,  0.0725,  0.1141], grad_fn=<SelectBackward0>)"
      ]
     },
     "execution_count": 13,
     "metadata": {},
     "output_type": "execute_result"
    }
   ],
   "source": [
    "(C,W1,b1,W2,b2), g = init_net()\n",
    "\n",
    "b2.data *= 0\n",
    "W2.data *= .01\n",
    "\n",
    "lossi = training_loop(1)\n",
    "logits[0]"
   ]
  },
  {
   "cell_type": "markdown",
   "metadata": {},
   "source": [
    "- Run training with new initialization\n",
    "  - actual optimization starts right away\n",
    "  - loss should be better (because of more effective training steps)"
   ]
  },
  {
   "cell_type": "code",
   "execution_count": 14,
   "metadata": {},
   "outputs": [
    {
     "name": "stdout",
     "output_type": "stream",
     "text": [
      "11897\n",
      "      0/  50000: 3.3221\n",
      "  10000/  50000: 2.1900\n",
      "  20000/  50000: 2.4196\n",
      "  30000/  50000: 2.6067\n",
      "  40000/  50000: 2.0601\n",
      "train 2.2071497440338135\n",
      "val 2.2513182163238525\n"
     ]
    }
   ],
   "source": [
    "(C,W1,b1,W2,b2), g = init_net()\n",
    "\n",
    "b2.data *= 0\n",
    "W2.data *= .01\n",
    "\n",
    "lossi = training_loop(50000)\n",
    "\n",
    "split_loss('train')\n",
    "split_loss('val')"
   ]
  },
  {
   "attachments": {},
   "cell_type": "markdown",
   "metadata": {},
   "source": [
    "## Tanh activations"
   ]
  },
  {
   "attachments": {},
   "cell_type": "markdown",
   "metadata": {},
   "source": [
    "### In last layer (h)"
   ]
  },
  {
   "attachments": {},
   "cell_type": "markdown",
   "metadata": {},
   "source": [
    "Lots of activations are $|1|$.\n",
    "- Visualize by putting all activations into a histogram\n"
   ]
  },
  {
   "cell_type": "code",
   "execution_count": 15,
   "metadata": {},
   "outputs": [
    {
     "data": {
      "image/png": "[encoded data removed]",
      "text/plain": [
       "<Figure size 640x480 with 1 Axes>"
      ]
     },
     "metadata": {},
     "output_type": "display_data"
    }
   ],
   "source": [
    "plt.hist(h.flatten().detach().numpy());"
   ]
  },
  {
   "attachments": {},
   "cell_type": "markdown",
   "metadata": {},
   "source": [
    "- Do the same to hpreact (activations from first layer)\n",
    "  - Should be much better centered\n"
   ]
  },
  {
   "cell_type": "code",
   "execution_count": 16,
   "metadata": {},
   "outputs": [
    {
     "data": {
      "image/png": "[encoded data removed]",
      "text/plain": [
       "<Figure size 640x480 with 1 Axes>"
      ]
     },
     "metadata": {},
     "output_type": "display_data"
    }
   ],
   "source": [
    "plt.hist(hpreact.flatten().detach().numpy());"
   ]
  },
  {
   "cell_type": "markdown",
   "metadata": {},
   "source": [
    "\n",
    "Tanh of $|1|$ is problematic because it gives zero gradient, killing the backpropagation at this point.\n",
    "Another visualization:\n",
    "- Visualize booolean mask of h with cutoff at $.99$\n",
    "  - imshow is white when True is plotted"
   ]
  },
  {
   "cell_type": "code",
   "execution_count": 17,
   "metadata": {},
   "outputs": [
    {
     "data": {
      "image/png": "[encoded data removed]",
      "text/plain": [
       "<Figure size 1000x500 with 1 Axes>"
      ]
     },
     "metadata": {},
     "output_type": "display_data"
    }
   ],
   "source": [
    "too_high = h.detach().numpy()>.99\n",
    "\n",
    "fig,ax = plt.subplots(figsize=(10,5))\n",
    "ax.imshow(too_high, cmap='Greys')\n",
    "plt.show()"
   ]
  },
  {
   "attachments": {},
   "cell_type": "markdown",
   "metadata": {},
   "source": [
    "### In first layer (hpreact) "
   ]
  },
  {
   "attachments": {},
   "cell_type": "markdown",
   "metadata": {},
   "source": [
    "Values of hpreact are nicely centered around $0$, but their variance is too large. Fix that by adjusting the weights of W1 and b1 during initialization:\n",
    "\n",
    "- multiply b1 by $0.01$, W1 by $0.1$ (then $0.2$)\n",
    "- re-plot the histograms and 'qr code'\n",
    "- re-run training (after fresh initialization)\n",
    "  - should improve loss again"
   ]
  },
  {
   "cell_type": "code",
   "execution_count": 18,
   "metadata": {},
   "outputs": [
    {
     "name": "stdout",
     "output_type": "stream",
     "text": [
      "11897\n",
      "      0/  50000: 3.3135\n",
      "  10000/  50000: 2.1648\n",
      "  20000/  50000: 2.3061\n",
      "  30000/  50000: 2.4541\n",
      "  40000/  50000: 1.9787\n",
      "train 2.1464035511016846\n",
      "val 2.1903910636901855\n"
     ]
    }
   ],
   "source": [
    "(C,W1,b1,W2,b2), g = init_net()\n",
    "\n",
    "W1.data *= .2\n",
    "b1.data *= 0.01\n",
    "b2.data *= 0\n",
    "W2.data *= .01\n",
    "\n",
    "lossi = training_loop(50000)\n",
    "\n",
    "split_loss('train')\n",
    "split_loss('val')"
   ]
  },
  {
   "attachments": {},
   "cell_type": "markdown",
   "metadata": {},
   "source": [
    "# Kaiming Init"
   ]
  },
  {
   "attachments": {},
   "cell_type": "markdown",
   "metadata": {},
   "source": [
    "- Draw randomn 1000x10 x, 10x200 w\n",
    "- multiply = y\n"
   ]
  },
  {
   "cell_type": "code",
   "execution_count": 19,
   "metadata": {},
   "outputs": [
    {
     "data": {
      "text/plain": [
       "torch.Size([1000, 200])"
      ]
     },
     "execution_count": 19,
     "metadata": {},
     "output_type": "execute_result"
    }
   ],
   "source": [
    "x = torch.randn((1000,10))\n",
    "W = torch.randn((10,200))\n",
    "\n",
    "y = x @ W\n",
    "y.shape"
   ]
  },
  {
   "attachments": {},
   "cell_type": "markdown",
   "metadata": {},
   "source": [
    "- show mean,std of x and y\n"
   ]
  },
  {
   "cell_type": "code",
   "execution_count": 23,
   "metadata": {},
   "outputs": [
    {
     "name": "stdout",
     "output_type": "stream",
     "text": [
      "x:  8.383579552173615e-05 0.9929354190826416\n",
      "y:  0.0003739834646694362 3.1495330333709717\n"
     ]
    }
   ],
   "source": [
    "print('x: ', x.mean().item(), x.std().item())\n",
    "print('y: ', y.mean().item(), y.std().item())"
   ]
  },
  {
   "cell_type": "markdown",
   "metadata": {},
   "source": [
    "- plot x and y\n",
    "- Mean should stay the same, but standard deviations increases by a lot"
   ]
  },
  {
   "cell_type": "code",
   "execution_count": 27,
   "metadata": {},
   "outputs": [
    {
     "data": {
      "image/png": "[encoded data removed]",
      "text/plain": [
       "<Figure size 1400x700 with 2 Axes>"
      ]
     },
     "metadata": {},
     "output_type": "display_data"
    }
   ],
   "source": [
    "fig, (l,r) = plt.subplots(ncols=2, figsize=(14,7))\n",
    "\n",
    "l.hist(x.flatten())\n",
    "l.set_title('x')\n",
    "\n",
    "r.hist(y.flatten())\n",
    "r.set_title('y')\n",
    "\n",
    "plt.show()"
   ]
  },
  {
   "attachments": {},
   "cell_type": "markdown",
   "metadata": {},
   "source": [
    "- increasing scale in W increases std of y (and vice versa)"
   ]
  },
  {
   "cell_type": "code",
   "execution_count": 29,
   "metadata": {},
   "outputs": [],
   "source": [
    "x = torch.randn((1000,10))\n",
    "W_large = torch.randn((10,200)) * 10\n",
    "W_small = torch.randn((10,200)) * .1 \n",
    "\n",
    "y_large = x @ W_large\n",
    "y_small = x @ W_small"
   ]
  },
  {
   "cell_type": "code",
   "execution_count": 31,
   "metadata": {},
   "outputs": [
    {
     "data": {
      "image/png": "[encoded data removed]",
      "text/plain": [
       "<Figure size 2100x700 with 3 Axes>"
      ]
     },
     "metadata": {},
     "output_type": "display_data"
    }
   ],
   "source": [
    "fig, (l,m,r) = plt.subplots(ncols=3, figsize=(21,7))\n",
    "\n",
    "l.hist(y_small.flatten())\n",
    "l.set_title('small')\n",
    "\n",
    "m.hist(y.flatten())\n",
    "m.set_title('y')\n",
    "\n",
    "r.hist(y_large.flatten())\n",
    "r.set_title('large')\n",
    "\n",
    "plt.show()"
   ]
  },
  {
   "attachments": {},
   "cell_type": "markdown",
   "metadata": {},
   "source": [
    "- what is the optimal factor to use?\n",
    "  - 1 / sqrt(fan_in) --> input size (10)\n"
   ]
  },
  {
   "attachments": {},
   "cell_type": "markdown",
   "metadata": {},
   "source": [
    "- examined by Kaiming et. al\n",
    "- pytorch also has this at torch.nn.init.kaiming_normal_\n",
    "  - decrease because of variance\n",
    "  - increase because squashing -> \"gain\"\n",
    "  - different non-linearities use different gains (see [pytorch doc site](https://pytorch.org/docs/stable/nn.init.html))\n",
    "- compute W1 scale by hand (~.304)"
   ]
  },
  {
   "cell_type": "code",
   "execution_count": 37,
   "metadata": {},
   "outputs": [
    {
     "data": {
      "text/plain": [
       "0.3042903097250923"
      ]
     },
     "execution_count": 37,
     "metadata": {},
     "output_type": "execute_result"
    }
   ],
   "source": [
    "tanh_gain = 5/3\n",
    "init_factor = tanh_gain * 30 ** (-.5)\n",
    "init_factor"
   ]
  },
  {
   "attachments": {},
   "cell_type": "markdown",
   "metadata": {},
   "source": [
    "- rerun training\n",
    "  - result should be roughly the same, but this time without magic constants"
   ]
  },
  {
   "cell_type": "code",
   "execution_count": 38,
   "metadata": {},
   "outputs": [
    {
     "name": "stdout",
     "output_type": "stream",
     "text": [
      "11897\n",
      "      0/  50000: 3.3179\n",
      "  10000/  50000: 2.1910\n",
      "  20000/  50000: 2.3270\n",
      "  30000/  50000: 2.5396\n",
      "  40000/  50000: 1.9468\n",
      "train 2.151510715484619\n",
      "val 2.198307752609253\n"
     ]
    }
   ],
   "source": [
    "(C,W1,b1,W2,b2), g = init_net()\n",
    "\n",
    "W1.data *= init_factor\n",
    "b1.data *= 0.01\n",
    "b2.data *= 0\n",
    "W2.data *= .01\n",
    "\n",
    "lossi = training_loop(50000)\n",
    "\n",
    "split_loss('train')\n",
    "split_loss('val')"
   ]
  },
  {
   "attachments": {},
   "cell_type": "markdown",
   "metadata": {},
   "source": [
    "# Batch Normalization"
   ]
  },
  {
   "attachments": {},
   "cell_type": "markdown",
   "metadata": {},
   "source": [
    "- Basic idea: standardize pre-activations\n",
    "- hpreact: substract mean, divide by std (of the batch)\n",
    "- Problem with having that directly in the training loop:\n",
    "  - standardized should only be at initialization\n",
    "  - nn should be able to scale and move the distribution\n",
    "- Introduce two more parameters\n",
    "  - bn_gain, bn_bias (ones, zeros)\n",
    "  - learnable\n",
    "- re-run training loop\n",
    "  - result should be roughly the same"
   ]
  },
  {
   "cell_type": "code",
   "execution_count": 42,
   "metadata": {},
   "outputs": [
    {
     "data": {
      "text/plain": [
       "torch.Size([1, 200])"
      ]
     },
     "execution_count": 42,
     "metadata": {},
     "output_type": "execute_result"
    }
   ],
   "source": [
    "hpreact.mean(dim=0, keepdim=True).shape"
   ]
  },
  {
   "cell_type": "code",
   "execution_count": 56,
   "metadata": {},
   "outputs": [
    {
     "name": "stdout",
     "output_type": "stream",
     "text": [
      "11897\n",
      "      0/  50000: 3.3147\n",
      "  10000/  50000: 2.1984\n",
      "  20000/  50000: 2.3375\n",
      "  30000/  50000: 2.4359\n",
      "  40000/  50000: 2.0119\n"
     ]
    }
   ],
   "source": [
    "(C,W1,b1,W2,b2), g = init_net()\n",
    "\n",
    "W1.data *= init_factor\n",
    "b1.data *= 0.01\n",
    "b2.data *= 0\n",
    "W2.data *= .01\n",
    "bn_gain = torch.ones((1, 200), requires_grad=True)\n",
    "bn_bias = torch.zeros((1, 200), requires_grad=True)\n",
    "\n",
    "\n",
    "lossi = []\n",
    "parameters = [C,W1,b1,W2,b2, bn_gain, bn_bias]\n",
    "max_steps = 50000\n",
    "batch_size = 32\n",
    "\n",
    "for i in range(max_steps):\n",
    "\n",
    "    # minibatch construct\n",
    "    ix = torch.randint(0, Xtr.shape[0], (batch_size,), generator=g)\n",
    "    Xb, Yb = Xtr[ix], Ytr[ix] # batch X,Y\n",
    "\n",
    "    # forward pass\n",
    "    emb = C[Xb] # embed the characters into vectors\n",
    "    embcat = emb.view(emb.shape[0], -1) # concatenate the vectors\n",
    "    # Linear layer\n",
    "    hpreact = embcat @ W1 + b1 # hidden layer pre-activation\n",
    "\n",
    "    ########## Batch Norm Magic ############\n",
    "\n",
    "    standardized = (hpreact - hpreact.mean(dim=0, keepdim=True)) / hpreact.std(dim=0, keepdim=True)\n",
    "    hpreact = (standardized * bn_gain) + bn_bias\n",
    "\n",
    "    ########################################\n",
    "\n",
    "\n",
    "    h = torch.tanh(hpreact) # hidden layer\n",
    "    logits = h @ W2 + b2 # output layer\n",
    "    loss = F.cross_entropy(logits, Yb) # loss function\n",
    "\n",
    "    # backward pass\n",
    "    for p in parameters:\n",
    "        p.grad = None\n",
    "    loss.backward()\n",
    "\n",
    "    # update\n",
    "    lr = 0.1 if i < 100000 else 0.01 # step learning rate decay\n",
    "    for p in parameters:\n",
    "        p.data += -lr * p.grad\n",
    "\n",
    "    # track stats\n",
    "    if i % 10000 == 0: # print every once in a while\n",
    "        print(f'{i:7d}/{max_steps:7d}: {loss.item():.4f}')\n",
    "    lossi.append(loss.log10().item())"
   ]
  },
  {
   "cell_type": "code",
   "execution_count": 59,
   "metadata": {},
   "outputs": [
    {
     "name": "stdout",
     "output_type": "stream",
     "text": [
      "train 2.161442518234253\n",
      "val 2.190019369125366\n"
     ]
    }
   ],
   "source": [
    "@torch.no_grad() # this decorator disables gradient tracking\n",
    "def split_loss_bn(split):\n",
    "  x,y = {\n",
    "    'train': (Xtr, Ytr),\n",
    "    'val': (Xdev, Ydev),\n",
    "    'test': (Xte, Yte),\n",
    "  }[split]\n",
    "  emb = C[x] # embed the characters into vectors\n",
    "  embcat = emb.view(emb.shape[0], -1) # concatenate the vectors\n",
    "  # Linear layer\n",
    "\n",
    "  hpreact = embcat @ W1 + b1 # hidden layer pre-activation\n",
    "  standardized = (hpreact - hpreact.mean(dim=0, keepdim=True)) / hpreact.std(dim=0, keepdim=True)\n",
    "  hpreact = (standardized * bn_gain) + bn_bias\n",
    "\n",
    "  h = torch.tanh(hpreact) # hidden layer\n",
    "  logits = h @ W2 + b2 # output layer\n",
    "  loss = F.cross_entropy(logits, y) # loss function\n",
    "  print(split, loss.item())\n",
    "\n",
    "split_loss_bn('train')\n",
    "split_loss_bn('val')"
   ]
  },
  {
   "cell_type": "code",
   "execution_count": 55,
   "metadata": {},
   "outputs": [
    {
     "data": {
      "image/png": "[encoded data removed]",
      "text/plain": [
       "<Figure size 640x480 with 1 Axes>"
      ]
     },
     "metadata": {},
     "output_type": "display_data"
    }
   ],
   "source": [
    "plt.hist(hpreact.detach().numpy().flatten());"
   ]
  },
  {
   "attachments": {},
   "cell_type": "markdown",
   "metadata": {},
   "source": [
    "- Problem arises when we try to do inference for a single example\n",
    "  - how to compute mean/std?\n",
    "  - instead: compute statistics once for the whole (train)dataset (after training)\n",
    "  - works, but is a bit annoying\n"
   ]
  },
  {
   "cell_type": "code",
   "execution_count": 61,
   "metadata": {},
   "outputs": [],
   "source": [
    "with torch.no_grad():\n",
    "    emb = C[Xtr] # embed the characters into vectors\n",
    "    embcat = emb.view(emb.shape[0], -1) # concatenate the vectors\n",
    "    # Linear layer\n",
    "\n",
    "    hpreact = embcat @ W1 + b1 # hidden layer pre-activation\n",
    "    hpreact_mean = hpreact.mean(dim=0, keepdim=True)\n",
    "    hpreaact_std = hpreact.std(dim=0, keepdim=True)"
   ]
  },
  {
   "cell_type": "code",
   "execution_count": 62,
   "metadata": {},
   "outputs": [
    {
     "name": "stdout",
     "output_type": "stream",
     "text": [
      "train 2.161442518234253\n",
      "val 2.1901590824127197\n"
     ]
    }
   ],
   "source": [
    "@torch.no_grad() # this decorator disables gradient tracking\n",
    "def split_loss_bn_global_statistics(split):\n",
    "  x,y = {\n",
    "    'train': (Xtr, Ytr),\n",
    "    'val': (Xdev, Ydev),\n",
    "    'test': (Xte, Yte),\n",
    "  }[split]\n",
    "  emb = C[x] # embed the characters into vectors\n",
    "  embcat = emb.view(emb.shape[0], -1) # concatenate the vectors\n",
    "  # Linear layer\n",
    "\n",
    "  hpreact = embcat @ W1 + b1 # hidden layer pre-activation\n",
    "  standardized = (hpreact - hpreact_mean) / hpreaact_std\n",
    "  hpreact = (standardized * bn_gain) + bn_bias\n",
    "\n",
    "  h = torch.tanh(hpreact) # hidden layer\n",
    "  logits = h @ W2 + b2 # output layer\n",
    "  loss = F.cross_entropy(logits, y) # loss function\n",
    "  print(split, loss.item())\n",
    "\n",
    "split_loss_bn_global_statistics('train')\n",
    "split_loss_bn_global_statistics('val')"
   ]
  },
  {
   "attachments": {},
   "cell_type": "markdown",
   "metadata": {},
   "source": [
    "  - instead #2:\n",
    "    - compute mean and std for each batch during training\n",
    "    - keep running mean/std\n",
    "      - .999*running + .001*batch\n",
    "      - no_grad"
   ]
  },
  {
   "cell_type": "code",
   "execution_count": 65,
   "metadata": {},
   "outputs": [
    {
     "name": "stdout",
     "output_type": "stream",
     "text": [
      "11897\n",
      "      0/  50000: 3.3179\n",
      "  10000/  50000: 2.1151\n",
      "  20000/  50000: 2.2630\n",
      "  30000/  50000: 2.5377\n",
      "  40000/  50000: 1.9228\n"
     ]
    }
   ],
   "source": [
    "(C,W1,b1,W2,b2), g = init_net()\n",
    "\n",
    "W1.data *= init_factor\n",
    "b1.data *= 0.01\n",
    "b2.data *= 0\n",
    "W2.data *= .01\n",
    "bn_gain = torch.ones((1, 200), requires_grad=True)\n",
    "bn_bias = torch.zeros((1, 200), requires_grad=True)\n",
    "\n",
    "\n",
    "lossi = []\n",
    "parameters = [C,W1,b1,W2,b2, bn_gain, bn_bias]\n",
    "max_steps = 50000\n",
    "batch_size = 32\n",
    "\n",
    "hpreact_mean = torch.zeros((1, n_hidden))\n",
    "hpreact_std = torch.ones((1, n_hidden))\n",
    "momentum = .001\n",
    "\n",
    "for i in range(max_steps):\n",
    "\n",
    "    # minibatch construct\n",
    "    ix = torch.randint(0, Xtr.shape[0], (batch_size,), generator=g)\n",
    "    Xb, Yb = Xtr[ix], Ytr[ix] # batch X,Y\n",
    "\n",
    "    # forward pass\n",
    "    emb = C[Xb] # embed the characters into vectors\n",
    "    embcat = emb.view(emb.shape[0], -1) # concatenate the vectors\n",
    "    # Linear layer\n",
    "    hpreact = embcat @ W1 + b1 # hidden layer pre-activation\n",
    "\n",
    "    ########## Batch Norm Magic ############\n",
    "    with torch.no_grad():\n",
    "        hpreact_mean = (1-momentum) *  hpreact_mean + momentum * hpreact.mean(dim=0, keepdim=True)\n",
    "        hpreact_std = (1-momentum) *  hpreact_std + momentum * hpreact.std(dim=0, keepdim=True)\n",
    "\n",
    "    standardized = (hpreact - hpreact_mean) / hpreact_std\n",
    "    hpreact = (standardized * bn_gain) + bn_bias\n",
    "\n",
    "    ########################################\n",
    "\n",
    "\n",
    "    h = torch.tanh(hpreact) # hidden layer\n",
    "    logits = h @ W2 + b2 # output layer\n",
    "    loss = F.cross_entropy(logits, Yb) # loss function\n",
    "\n",
    "    # backward pass\n",
    "    for p in parameters:\n",
    "        p.grad = None\n",
    "    loss.backward()\n",
    "\n",
    "    # update\n",
    "    lr = 0.1 if i < 100000 else 0.01 # step learning rate decay\n",
    "    for p in parameters:\n",
    "        p.data += -lr * p.grad\n",
    "\n",
    "    # track stats\n",
    "    if i % 10000 == 0: # print every once in a while\n",
    "        print(f'{i:7d}/{max_steps:7d}: {loss.item():.4f}')\n",
    "    lossi.append(loss.log10().item())"
   ]
  },
  {
   "attachments": {},
   "cell_type": "markdown",
   "metadata": {},
   "source": [
    "  - compare #1 against #2. Should be close\n",
    "  - re-run training, should be close\n"
   ]
  },
  {
   "cell_type": "code",
   "execution_count": 66,
   "metadata": {},
   "outputs": [
    {
     "name": "stdout",
     "output_type": "stream",
     "text": [
      "train 2.219170331954956\n",
      "val 2.2638094425201416\n"
     ]
    }
   ],
   "source": [
    "split_loss_bn_global_statistics('train')\n",
    "split_loss_bn_global_statistics('val')"
   ]
  },
  {
   "cell_type": "markdown",
   "metadata": {},
   "source": [
    "- Biase b1 is obsolete now, because batch normalization substracts it right away"
   ]
  },
  {
   "attachments": {},
   "cell_type": "markdown",
   "metadata": {},
   "source": [
    "Continue at \"Lecture summarization\""
   ]
  },
  {
   "cell_type": "code",
   "execution_count": null,
   "metadata": {},
   "outputs": [],
   "source": []
  }
 ],
 "metadata": {
  "kernelspec": {
   "display_name": "zero",
   "language": "python",
   "name": "python3"
  },
  "language_info": {
   "codemirror_mode": {
    "name": "ipython",
    "version": 3
   },
   "file_extension": ".py",
   "mimetype": "text/x-python",
   "name": "python",
   "nbconvert_exporter": "python",
   "pygments_lexer": "ipython3",
   "version": "3.9.15"
  },
  "vscode": {
   "interpreter": {
    "hash": "e98ef4f9346bee673f51c6ffc649e77c3dd738815ba08794b113970bacedb832"
   }
  }
 },
 "nbformat": 4,
 "nbformat_minor": 4
}
