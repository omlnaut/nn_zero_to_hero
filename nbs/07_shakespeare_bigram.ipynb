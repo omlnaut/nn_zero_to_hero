{
 "cells": [
  {
   "cell_type": "code",
   "execution_count": 1,
   "metadata": {},
   "outputs": [],
   "source": [
    "import torch"
   ]
  },
  {
   "cell_type": "markdown",
   "metadata": {},
   "source": [
    "# Data preparation"
   ]
  },
  {
   "cell_type": "markdown",
   "metadata": {},
   "source": [
    "## Load raw text"
   ]
  },
  {
   "cell_type": "code",
   "execution_count": 2,
   "metadata": {},
   "outputs": [],
   "source": [
    "with open('../data/shakespeare.txt', 'r') as f:\n",
    "    text = f.read()"
   ]
  },
  {
   "cell_type": "code",
   "execution_count": 3,
   "metadata": {},
   "outputs": [
    {
     "name": "stdout",
     "output_type": "stream",
     "text": [
      "First Citizen:\n",
      "Before we proceed any further, hear me speak.\n",
      "\n",
      "All:\n",
      "Speak, speak.\n",
      "\n",
      "First Citizen:\n",
      "You are all resolved rather to die than to famish?\n",
      "\n",
      "All:\n",
      "Resolved. resolved.\n",
      "\n",
      "First Citizen:\n",
      "First, you\n"
     ]
    }
   ],
   "source": [
    "print(text[:200])"
   ]
  },
  {
   "cell_type": "markdown",
   "metadata": {},
   "source": [
    "## Tokenization"
   ]
  },
  {
   "cell_type": "code",
   "execution_count": 4,
   "metadata": {},
   "outputs": [
    {
     "data": {
      "text/plain": [
       "\"\\n !$&',-.3:;?ABCDEFGHIJKLMNOPQRSTUVWXYZabcdefghijklmnopqrstuvwxyz\""
      ]
     },
     "execution_count": 4,
     "metadata": {},
     "output_type": "execute_result"
    }
   ],
   "source": [
    "tokens = sorted(list(set(text)))\n",
    "''.join(tokens)"
   ]
  },
  {
   "cell_type": "code",
   "execution_count": 5,
   "metadata": {},
   "outputs": [],
   "source": [
    "stoi = { ch: i for i, ch in enumerate(tokens) }\n",
    "itos = { i: ch for i, ch in enumerate(tokens) }"
   ]
  },
  {
   "cell_type": "code",
   "execution_count": 6,
   "metadata": {},
   "outputs": [],
   "source": [
    "def encode(text):\n",
    "    return torch.tensor([stoi[ch] for ch in text], dtype=torch.long)\n",
    "\n",
    "def decode(tensor):\n",
    "    return ''.join([itos[i.item()] for i in tensor])"
   ]
  },
  {
   "cell_type": "code",
   "execution_count": 7,
   "metadata": {},
   "outputs": [
    {
     "data": {
      "text/plain": [
       "tensor([58, 43, 57, 58, 47])"
      ]
     },
     "execution_count": 7,
     "metadata": {},
     "output_type": "execute_result"
    }
   ],
   "source": [
    "encode('testi')"
   ]
  },
  {
   "cell_type": "code",
   "execution_count": 8,
   "metadata": {},
   "outputs": [
    {
     "data": {
      "text/plain": [
       "'testi'"
      ]
     },
     "execution_count": 8,
     "metadata": {},
     "output_type": "execute_result"
    }
   ],
   "source": [
    "decode(encode('testi'))"
   ]
  },
  {
   "cell_type": "code",
   "execution_count": 9,
   "metadata": {},
   "outputs": [
    {
     "data": {
      "text/plain": [
       "tensor([18, 47, 56, 57, 58,  1, 15, 47, 58, 47])"
      ]
     },
     "execution_count": 9,
     "metadata": {},
     "output_type": "execute_result"
    }
   ],
   "source": [
    "data = encode(text)\n",
    "data[:10]"
   ]
  },
  {
   "cell_type": "code",
   "execution_count": 10,
   "metadata": {},
   "outputs": [
    {
     "data": {
      "text/plain": [
       "'First Citi'"
      ]
     },
     "execution_count": 10,
     "metadata": {},
     "output_type": "execute_result"
    }
   ],
   "source": [
    "decode(data[:10])"
   ]
  },
  {
   "cell_type": "code",
   "execution_count": 11,
   "metadata": {},
   "outputs": [
    {
     "name": "stdout",
     "output_type": "stream",
     "text": [
      "torch.Size([892315]) torch.Size([223079])\n"
     ]
    }
   ],
   "source": [
    "split = int(0.8 * len(data))\n",
    "train = data[:split]\n",
    "val = data[split:]\n",
    "\n",
    "print(train.shape, val.shape)"
   ]
  },
  {
   "cell_type": "markdown",
   "metadata": {},
   "source": [
    "# Dataloader"
   ]
  },
  {
   "cell_type": "markdown",
   "metadata": {},
   "source": [
    "Getting a single chunk of data:"
   ]
  },
  {
   "cell_type": "code",
   "execution_count": 25,
   "metadata": {},
   "outputs": [],
   "source": [
    "block_size = 8\n",
    "batch_size = 4"
   ]
  },
  {
   "cell_type": "code",
   "execution_count": 13,
   "metadata": {},
   "outputs": [
    {
     "name": "stdout",
     "output_type": "stream",
     "text": [
      "tensor([64, 43, 52, 10,  0, 14, 43, 44])\n",
      "tensor([43, 52, 10,  0, 14, 43, 44, 53])\n"
     ]
    }
   ],
   "source": [
    "offset = 10 # arbitrary offset for demonstration\n",
    "\n",
    "x = train[offset:offset+block_size]\n",
    "y = train[offset+1:offset+block_size+1]\n",
    "\n",
    "print(x)\n",
    "print(y)"
   ]
  },
  {
   "cell_type": "markdown",
   "metadata": {},
   "source": [
    "We generate random offsets into the training data:"
   ]
  },
  {
   "cell_type": "code",
   "execution_count": 26,
   "metadata": {},
   "outputs": [
    {
     "data": {
      "text/plain": [
       "tensor([718767, 179714, 143107,  71281])"
      ]
     },
     "execution_count": 26,
     "metadata": {},
     "output_type": "execute_result"
    }
   ],
   "source": [
    "offsets = torch.randint(0, split-block_size, (batch_size,))\n",
    "offsets"
   ]
  },
  {
   "cell_type": "markdown",
   "metadata": {},
   "source": [
    "And then generate a block-size x and a shifted-by-1 block-size y for each offset, stacking those tensor into a single x and y tensor:"
   ]
  },
  {
   "cell_type": "code",
   "execution_count": 24,
   "metadata": {},
   "outputs": [
    {
     "name": "stdout",
     "output_type": "stream",
     "text": [
      "tensor([[58,  1, 61, 46, 47, 41, 46,  1],\n",
      "        [46, 39, 52,  1, 39, 52, 63,  1],\n",
      "        [14, 30, 33, 32, 33, 31, 10,  0],\n",
      "        [39, 54, 54, 43, 39, 56,  8,  1],\n",
      "        [ 1, 52, 53,  1, 57, 58, 56, 43],\n",
      "        [ 1, 39, 56, 43,  1, 52, 53, 61],\n",
      "        [39, 58, 56, 43, 42,  6,  1, 57],\n",
      "        [ 1, 58, 46, 43,  1, 56, 43, 51]])\n",
      "tensor([[ 1, 61, 46, 47, 41, 46,  1, 41],\n",
      "        [39, 52,  1, 39, 52, 63,  1, 46],\n",
      "        [30, 33, 32, 33, 31, 10,  0, 35],\n",
      "        [54, 54, 43, 39, 56,  8,  1, 28],\n",
      "        [52, 53,  1, 57, 58, 56, 43, 52],\n",
      "        [39, 56, 43,  1, 52, 53, 61,  1],\n",
      "        [58, 56, 43, 42,  6,  1, 57, 61],\n",
      "        [58, 46, 43,  1, 56, 43, 51, 43]])\n"
     ]
    }
   ],
   "source": [
    "print(torch.stack([data[offset : offset+block_size] for offset in offsets]))\n",
    "print(torch.stack([data[offset+1 : offset+block_size+1] for offset in offsets]))"
   ]
  },
  {
   "cell_type": "code",
   "execution_count": 27,
   "metadata": {},
   "outputs": [],
   "source": [
    "def get_batch(data, block_size=block_size, batch_size=batch_size):\n",
    "    offsets = torch.randint(0, split-block_size, (batch_size,))\n",
    "\n",
    "    xb = torch.stack([data[offset : offset+block_size] for offset in offsets])\n",
    "    yb = torch.stack([data[offset+1 : offset+block_size+1] for offset in offsets])\n",
    "\n",
    "    return xb, yb"
   ]
  },
  {
   "cell_type": "code",
   "execution_count": 28,
   "metadata": {},
   "outputs": [
    {
     "data": {
      "text/plain": [
       "(tensor([[34, 39, 50, 43, 56, 47, 39,  1],\n",
       "         [56,  1, 44, 43, 43, 50,  1, 58],\n",
       "         [43,  1, 54, 56, 43, 41, 47, 53],\n",
       "         [49, 47, 52, 45, 11,  0, 27, 44]]),\n",
       " tensor([[39, 50, 43, 56, 47, 39,  1, 47],\n",
       "         [ 1, 44, 43, 43, 50,  1, 58, 46],\n",
       "         [ 1, 54, 56, 43, 41, 47, 53, 59],\n",
       "         [47, 52, 45, 11,  0, 27, 44,  1]]))"
      ]
     },
     "execution_count": 28,
     "metadata": {},
     "output_type": "execute_result"
    }
   ],
   "source": [
    "get_batch(train)"
   ]
  },
  {
   "cell_type": "code",
   "execution_count": null,
   "metadata": {},
   "outputs": [],
   "source": []
  }
 ],
 "metadata": {
  "kernelspec": {
   "display_name": "fastai",
   "language": "python",
   "name": "python3"
  },
  "language_info": {
   "codemirror_mode": {
    "name": "ipython",
    "version": 3
   },
   "file_extension": ".py",
   "mimetype": "text/x-python",
   "name": "python",
   "nbconvert_exporter": "python",
   "pygments_lexer": "ipython3",
   "version": "3.12.3"
  }
 },
 "nbformat": 4,
 "nbformat_minor": 2
}
