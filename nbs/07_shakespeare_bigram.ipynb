{
 "cells": [
  {
   "cell_type": "code",
   "execution_count": 2,
   "metadata": {},
   "outputs": [],
   "source": [
    "import torch"
   ]
  },
  {
   "cell_type": "markdown",
   "metadata": {},
   "source": [
    "# Data preparation"
   ]
  },
  {
   "cell_type": "markdown",
   "metadata": {},
   "source": [
    "## Load raw text"
   ]
  },
  {
   "cell_type": "code",
   "execution_count": 3,
   "metadata": {},
   "outputs": [],
   "source": [
    "with open('../data/shakespeare.txt', 'r') as f:\n",
    "    text = f.read()"
   ]
  },
  {
   "cell_type": "code",
   "execution_count": 4,
   "metadata": {},
   "outputs": [
    {
     "name": "stdout",
     "output_type": "stream",
     "text": [
      "First Citizen:\n",
      "Before we proceed any further, hear me speak.\n",
      "\n",
      "All:\n",
      "Speak, speak.\n",
      "\n",
      "First Citizen:\n",
      "You are all resolved rather to die than to famish?\n",
      "\n",
      "All:\n",
      "Resolved. resolved.\n",
      "\n",
      "First Citizen:\n",
      "First, you\n"
     ]
    }
   ],
   "source": [
    "print(text[:200])"
   ]
  },
  {
   "cell_type": "markdown",
   "metadata": {},
   "source": [
    "## Tokenization"
   ]
  },
  {
   "cell_type": "code",
   "execution_count": 5,
   "metadata": {},
   "outputs": [
    {
     "data": {
      "text/plain": [
       "\"\\n !$&',-.3:;?ABCDEFGHIJKLMNOPQRSTUVWXYZabcdefghijklmnopqrstuvwxyz\""
      ]
     },
     "execution_count": 5,
     "metadata": {},
     "output_type": "execute_result"
    }
   ],
   "source": [
    "tokens = sorted(list(set(text)))\n",
    "''.join(tokens)"
   ]
  },
  {
   "cell_type": "code",
   "execution_count": 6,
   "metadata": {},
   "outputs": [],
   "source": [
    "stoi = { ch: i for i, ch in enumerate(tokens) }\n",
    "itos = { i: ch for i, ch in enumerate(tokens) }"
   ]
  },
  {
   "cell_type": "code",
   "execution_count": 7,
   "metadata": {},
   "outputs": [],
   "source": [
    "def encode(text):\n",
    "    return torch.tensor([stoi[ch] for ch in text], dtype=torch.long)\n",
    "\n",
    "def decode(tensor):\n",
    "    return ''.join([itos[i.item()] for i in tensor])"
   ]
  },
  {
   "cell_type": "code",
   "execution_count": 8,
   "metadata": {},
   "outputs": [
    {
     "data": {
      "text/plain": [
       "tensor([58, 43, 57, 58, 47])"
      ]
     },
     "execution_count": 8,
     "metadata": {},
     "output_type": "execute_result"
    }
   ],
   "source": [
    "encode('testi')"
   ]
  },
  {
   "cell_type": "code",
   "execution_count": 9,
   "metadata": {},
   "outputs": [
    {
     "data": {
      "text/plain": [
       "'testi'"
      ]
     },
     "execution_count": 9,
     "metadata": {},
     "output_type": "execute_result"
    }
   ],
   "source": [
    "decode(encode('testi'))"
   ]
  },
  {
   "cell_type": "code",
   "execution_count": 10,
   "metadata": {},
   "outputs": [
    {
     "data": {
      "text/plain": [
       "tensor([18, 47, 56, 57, 58,  1, 15, 47, 58, 47])"
      ]
     },
     "execution_count": 10,
     "metadata": {},
     "output_type": "execute_result"
    }
   ],
   "source": [
    "data = encode(text)\n",
    "data[:10]"
   ]
  },
  {
   "cell_type": "code",
   "execution_count": 11,
   "metadata": {},
   "outputs": [
    {
     "data": {
      "text/plain": [
       "'First Citi'"
      ]
     },
     "execution_count": 11,
     "metadata": {},
     "output_type": "execute_result"
    }
   ],
   "source": [
    "decode(data[:10])"
   ]
  },
  {
   "cell_type": "code",
   "execution_count": 12,
   "metadata": {},
   "outputs": [
    {
     "name": "stdout",
     "output_type": "stream",
     "text": [
      "torch.Size([892315]) torch.Size([223079])\n"
     ]
    }
   ],
   "source": [
    "split = int(0.8 * len(data))\n",
    "train = data[:split]\n",
    "val = data[split:]\n",
    "\n",
    "print(train.shape, val.shape)"
   ]
  },
  {
   "cell_type": "markdown",
   "metadata": {},
   "source": [
    "# Dataloader"
   ]
  },
  {
   "cell_type": "markdown",
   "metadata": {},
   "source": [
    "Getting a single chunk of data:"
   ]
  },
  {
   "cell_type": "code",
   "execution_count": 13,
   "metadata": {},
   "outputs": [],
   "source": [
    "block_size = 8\n",
    "batch_size = 4"
   ]
  },
  {
   "cell_type": "code",
   "execution_count": 14,
   "metadata": {},
   "outputs": [
    {
     "name": "stdout",
     "output_type": "stream",
     "text": [
      "tensor([64, 43, 52, 10,  0, 14, 43, 44])\n",
      "tensor([43, 52, 10,  0, 14, 43, 44, 53])\n"
     ]
    }
   ],
   "source": [
    "offset = 10 # arbitrary offset for demonstration\n",
    "\n",
    "x = train[offset:offset+block_size]\n",
    "y = train[offset+1:offset+block_size+1]\n",
    "\n",
    "print(x)\n",
    "print(y)"
   ]
  },
  {
   "cell_type": "markdown",
   "metadata": {},
   "source": [
    "We generate random offsets into the training data:"
   ]
  },
  {
   "cell_type": "code",
   "execution_count": 15,
   "metadata": {},
   "outputs": [
    {
     "data": {
      "text/plain": [
       "tensor([793523, 806706,  89742, 807802])"
      ]
     },
     "execution_count": 15,
     "metadata": {},
     "output_type": "execute_result"
    }
   ],
   "source": [
    "offsets = torch.randint(0, split-block_size, (batch_size,))\n",
    "offsets"
   ]
  },
  {
   "cell_type": "markdown",
   "metadata": {},
   "source": [
    "And then generate a block-size x and a shifted-by-1 block-size y for each offset, stacking those tensor into a single x and y tensor:"
   ]
  },
  {
   "cell_type": "code",
   "execution_count": 16,
   "metadata": {},
   "outputs": [
    {
     "name": "stdout",
     "output_type": "stream",
     "text": [
      "tensor([[53,  1, 39,  1, 60, 43, 56, 63],\n",
      "        [57,  1, 58, 46, 43, 43,  1, 58],\n",
      "        [58, 46, 47, 57,  1, 54, 53, 47],\n",
      "        [43, 10,  1, 40, 43, 57, 47, 42]])\n",
      "tensor([[ 1, 39,  1, 60, 43, 56, 63,  1],\n",
      "        [ 1, 58, 46, 43, 43,  1, 58, 46],\n",
      "        [46, 47, 57,  1, 54, 53, 47, 52],\n",
      "        [10,  1, 40, 43, 57, 47, 42, 43]])\n"
     ]
    }
   ],
   "source": [
    "print(torch.stack([data[offset : offset+block_size] for offset in offsets]))\n",
    "print(torch.stack([data[offset+1 : offset+block_size+1] for offset in offsets]))"
   ]
  },
  {
   "cell_type": "code",
   "execution_count": 17,
   "metadata": {},
   "outputs": [],
   "source": [
    "def get_batch(data, block_size=block_size, batch_size=batch_size):\n",
    "    offsets = torch.randint(0, split-block_size, (batch_size,))\n",
    "\n",
    "    xb = torch.stack([data[offset : offset+block_size] for offset in offsets])\n",
    "    yb = torch.stack([data[offset+1 : offset+block_size+1] for offset in offsets])\n",
    "\n",
    "    return xb, yb"
   ]
  },
  {
   "cell_type": "code",
   "execution_count": 18,
   "metadata": {},
   "outputs": [
    {
     "data": {
      "text/plain": [
       "(tensor([[47, 58, 46,  1, 51, 39, 52, 63],\n",
       "         [52, 42,  1, 51, 43,  1, 58, 53],\n",
       "         [41, 46, 53, 49, 43,  1, 58, 46],\n",
       "         [ 1, 53, 52, 41, 43,  8,  1, 35]]),\n",
       " tensor([[58, 46,  1, 51, 39, 52, 63,  1],\n",
       "         [42,  1, 51, 43,  1, 58, 53,  1],\n",
       "         [46, 53, 49, 43,  1, 58, 46, 43],\n",
       "         [53, 52, 41, 43,  8,  1, 35, 46]]))"
      ]
     },
     "execution_count": 18,
     "metadata": {},
     "output_type": "execute_result"
    }
   ],
   "source": [
    "get_batch(train)"
   ]
  },
  {
   "cell_type": "markdown",
   "metadata": {},
   "source": [
    "# Model"
   ]
  },
  {
   "cell_type": "code",
   "execution_count": 19,
   "metadata": {},
   "outputs": [],
   "source": [
    "class BigramModel(torch.nn.Module):\n",
    "    def __init__(self, vocab_size):\n",
    "        super().__init__()\n",
    "\n",
    "        self.embedding = torch.nn.Embedding(vocab_size, vocab_size)\n",
    "        self.vocab_size = vocab_size\n",
    "\n",
    "    def forward(self, x, targets=None):\n",
    "        x = self.embedding(x)\n",
    "\n",
    "        if targets is None:\n",
    "            return x, None\n",
    "\n",
    "        loss = torch.nn.functional.cross_entropy(x.view(-1, self.vocab_size), targets.view(-1))\n",
    "\n",
    "        return x, loss\n",
    "\n",
    "    def generate_text(self, x, steps=500):\n",
    "        for _ in range(steps):\n",
    "            logits, _ = self(x)\n",
    "            last_logits = logits[:,-1,:]\n",
    "            probs = torch.functional.F.softmax(last_logits, dim=-1)\n",
    "            next_token = torch.multinomial(probs, num_samples=1)\n",
    "\n",
    "            x = torch.cat([x, next_token], dim=1)\n",
    "\n",
    "        return x\n",
    "\n",
    "    @torch.no_grad()\n",
    "    def generate(self, x, steps=100):\n",
    "        for _ in range(steps):\n",
    "            x, _ = self(x)\n",
    "            x = x[-1].argmax()\n",
    "            yield x"
   ]
  },
  {
   "cell_type": "markdown",
   "metadata": {},
   "source": [
    "## Forward pass"
   ]
  },
  {
   "cell_type": "code",
   "execution_count": 20,
   "metadata": {},
   "outputs": [
    {
     "data": {
      "text/plain": [
       "65"
      ]
     },
     "execution_count": 20,
     "metadata": {},
     "output_type": "execute_result"
    }
   ],
   "source": [
    "vocab_size = len(tokens)\n",
    "vocab_size"
   ]
  },
  {
   "cell_type": "code",
   "execution_count": 21,
   "metadata": {},
   "outputs": [],
   "source": [
    "model = BigramModel(vocab_size)"
   ]
  },
  {
   "cell_type": "code",
   "execution_count": 22,
   "metadata": {},
   "outputs": [
    {
     "data": {
      "text/plain": [
       "torch.Size([4, 8])"
      ]
     },
     "execution_count": 22,
     "metadata": {},
     "output_type": "execute_result"
    }
   ],
   "source": [
    "xb, yb = get_batch(train)\n",
    "xb.shape # (batch_size, block_size)"
   ]
  },
  {
   "cell_type": "code",
   "execution_count": 23,
   "metadata": {},
   "outputs": [
    {
     "data": {
      "text/plain": [
       "torch.Size([4, 8, 65])"
      ]
     },
     "execution_count": 23,
     "metadata": {},
     "output_type": "execute_result"
    }
   ],
   "source": [
    "logits, loss = model(xb, yb)\n",
    "logits.shape # (batch_size, block_size, vocab_size)"
   ]
  },
  {
   "cell_type": "code",
   "execution_count": 24,
   "metadata": {},
   "outputs": [
    {
     "data": {
      "text/plain": [
       "tensor(4.6677, grad_fn=<NllLossBackward0>)"
      ]
     },
     "execution_count": 24,
     "metadata": {},
     "output_type": "execute_result"
    }
   ],
   "source": [
    "loss"
   ]
  },
  {
   "cell_type": "markdown",
   "metadata": {},
   "source": [
    "## Generation"
   ]
  },
  {
   "cell_type": "code",
   "execution_count": 25,
   "metadata": {},
   "outputs": [
    {
     "data": {
      "text/plain": [
       "tensor([[ 0, 12, 31, 33,  6,  8, 60, 55, 36, 24, 43, 42, 59, 40, 62, 10, 21, 22,\n",
       "         40, 13, 16, 58, 16, 24, 40,  5, 15,  7,  6, 40, 62, 18, 37, 46,  9, 37,\n",
       "         38, 45, 55, 58, 39, 32, 51, 21,  3, 28, 11,  5, 15, 64, 18, 38, 40,  7,\n",
       "         12,  1, 46,  9, 57,  7, 16, 11, 39, 40, 24, 61, 45,  8, 48, 62, 19, 26,\n",
       "          4, 11, 55, 17,  0, 29, 50, 10, 35, 10, 43, 34, 48, 38, 30, 22, 27,  6,\n",
       "          4, 62,  9, 16, 11, 51, 28, 15, 12, 53, 53, 11, 21,  1, 57,  7, 39, 62,\n",
       "         21,  0, 52, 11,  5,  9, 33, 60, 63, 26,  0,  1,  9, 33, 50, 47,  2, 25,\n",
       "         44, 44, 64, 24, 12, 31, 45,  5,  9,  0, 38, 34, 28, 15, 26, 14, 19, 19,\n",
       "         23, 33, 21, 11, 53, 25, 51, 22,  9, 29, 16, 40, 23, 17, 17, 46, 18, 28,\n",
       "         51, 29, 39, 24, 33,  3, 19,  6, 54, 14, 17, 25, 36, 28, 64, 24, 12, 10,\n",
       "         26, 26, 37, 48, 10, 60,  5,  0, 46, 22,  7, 23, 51, 33, 49, 24, 50, 35,\n",
       "         16, 64, 58, 59, 30, 20, 15, 27,  0,  1, 59, 21,  3, 23, 10, 26,  6, 44,\n",
       "         40, 23, 17, 18, 43, 23, 34, 33, 14, 22, 60, 17, 60, 55,  1, 62, 43, 19,\n",
       "         53,  4, 13, 11, 64, 30, 27,  0, 51, 48, 26, 53, 27, 13, 64, 45, 30, 42,\n",
       "         30, 25, 64,  5,  9,  4, 17, 41, 23,  8, 52, 58, 44, 44, 14, 26, 17,  1,\n",
       "         21,  8,  0, 29, 58,  3, 20, 42, 42, 28, 11, 64, 37, 64, 53, 21, 42, 62,\n",
       "         58, 44, 57, 10, 43, 55, 17, 37, 48, 29, 38, 30, 33, 50, 28, 54, 10, 35,\n",
       "         46, 60, 13, 37, 51, 63, 52, 57, 56, 42,  9, 38, 30, 28,  2, 59, 50, 28,\n",
       "         28, 27, 21, 64, 59, 59, 33, 17, 41, 23, 17, 10, 16, 34,  1, 37, 56, 54,\n",
       "         52, 32, 12, 53,  4, 18, 26, 24, 50, 35, 10, 43,  2, 35, 17, 42, 32, 56,\n",
       "          5, 15, 31, 41, 54, 55, 21,  3, 14, 22,  3, 43, 55, 17, 10, 63, 51,  5,\n",
       "         35, 36, 36, 43,  4,  8,  6, 39, 35,  6, 54, 15,  7, 29, 52,  6,  4, 63,\n",
       "          0, 37, 46, 61, 40, 24, 43, 50, 44, 16,  0, 46,  8, 21, 22, 27, 52,  5,\n",
       "         21, 22,  6,  6, 54, 58, 57, 25, 28, 51,  1, 36, 17, 60, 34, 44, 40, 13,\n",
       "         60, 50,  1, 52, 58, 10,  7,  4, 25, 59, 27, 13, 35, 45,  8, 12, 12, 58,\n",
       "         48, 22,  9, 14, 53,  4, 20, 49, 58, 44, 25, 64, 19, 30, 42, 39, 22,  9,\n",
       "         57, 51, 32, 52, 35,  6, 32, 26, 25,  9, 64, 56, 54, 10, 13, 16, 62, 34,\n",
       "         10, 39,  3, 28, 15, 19, 61, 51,  6, 54, 41, 20, 19,  7, 29]])"
      ]
     },
     "execution_count": 25,
     "metadata": {},
     "output_type": "execute_result"
    }
   ],
   "source": [
    "x = torch.zeros((1,1), dtype=torch.long) # BxT\n",
    "x = model.generate_text(x)\n",
    "x"
   ]
  },
  {
   "cell_type": "code",
   "execution_count": 26,
   "metadata": {},
   "outputs": [
    {
     "name": "stdout",
     "output_type": "stream",
     "text": [
      "\n",
      "?SU,.vqXLedubx:IJbADtDLb'C-,bxFYh3YZgqtaTmI$P;'CzFZb-? h3s-D;abLwg.jxGN&;qE\n",
      "Ql:W:eVjZRJO,&x3D;mPC?oo;I s-axI\n",
      "n;'3UvyN\n",
      " 3Uli!MffzL?Sg'3\n",
      "ZVPCNBGGKUI;oMmJ3QDbKEEhFPmQaLU$G,pBEMXPzL?:NNYj:v'\n",
      "hJ-KmUkLlWDztuRHCO\n",
      " uI$K:N,fbKEFeKVUBJvEvq xeGo&A;zRO\n",
      "mjNoOAzgRdRMz'3&EcK.ntffBNE I.\n",
      "Qt$HddP;zYzoIdxtfs:eqEYjQZRUlPp:WhvAYmynsrd3ZRP!ulPPOIzuuUEcKE:DV YrpnT?o&FNLlW:e!WEdTr'CScpqI$BJ$eqE:ym'WXXe&.,aW,pC-Qn,&y\n",
      "YhwbLelfD\n",
      "h.IJOn'IJ,,ptsMPm XEvVfbAvl nt:-&MuOAWg.??tjJ3Bo&HktfMzGRdaJ3smTnW,TNM3zrp:ADxV:a$PCGwm,pcHG-Q\n"
     ]
    }
   ],
   "source": [
    "print(decode(x[0]))"
   ]
  },
  {
   "cell_type": "markdown",
   "metadata": {},
   "source": [
    "# Training"
   ]
  },
  {
   "cell_type": "code",
   "execution_count": 27,
   "metadata": {},
   "outputs": [],
   "source": [
    "n_epochs = 1000\n",
    "\n",
    "m = BigramModel(vocab_size)\n",
    "optim = torch.optim.Adam(m.parameters(), lr=0.01)"
   ]
  },
  {
   "cell_type": "code",
   "execution_count": 28,
   "metadata": {},
   "outputs": [
    {
     "name": "stdout",
     "output_type": "stream",
     "text": [
      "Epoch 0, loss: 4.601304054260254\n",
      "Epoch 100, loss: 3.5026698112487793\n",
      "Epoch 200, loss: 2.9861037731170654\n",
      "Epoch 300, loss: 2.694559335708618\n",
      "Epoch 400, loss: 2.6426682472229004\n",
      "Epoch 500, loss: 2.5889017581939697\n",
      "Epoch 600, loss: 2.492767572402954\n",
      "Epoch 700, loss: 2.450739622116089\n",
      "Epoch 800, loss: 2.550001382827759\n",
      "Epoch 900, loss: 2.4272985458374023\n"
     ]
    }
   ],
   "source": [
    "print_every = int(0.1 * n_epochs)\n",
    "\n",
    "for epoch in range(n_epochs):\n",
    "    xb, yb = get_batch(train, block_size=128)\n",
    "    optim.zero_grad()\n",
    "\n",
    "    logits, loss = m(xb, yb)\n",
    "    if epoch % print_every == 0:\n",
    "        print(f'Epoch {epoch}, loss: {loss.item()}')\n",
    "\n",
    "    loss.backward()\n",
    "    optim.step()"
   ]
  },
  {
   "cell_type": "code",
   "execution_count": 29,
   "metadata": {},
   "outputs": [
    {
     "name": "stdout",
     "output_type": "stream",
     "text": [
      "\n",
      "Agnds wicemfakicke, tem ay, wordalturemboot h, hinomicee, Twhe II butheed peind otononde onseagand inn: y,? futonon Eroures,\n",
      "He s me's, t ba athupot tas tOMxere.\n",
      "IN: foure twhansHe matou t ill thee qund threeroPERIZAndeacavewe!\n",
      "HUSSTEdilvishese ch t.\n",
      "\n",
      "ET:\n",
      "I d S:\n",
      "LENol; haty tineliou&PS of:\n",
      "D woth pit IUyow'sugakesol, bait'edllitheasms, mowrith bus theVJun use be lkwrearosatke aime hyowicay os tofot.\n",
      "Fit ng!\n",
      "BXIN s:\n",
      "QUMatitsedind nes,\n",
      "MERCly, saiknougs ht t m le w thargrs-maishetheit olo a me w y\n"
     ]
    }
   ],
   "source": [
    "text = m.generate_text(torch.zeros((1,1), dtype=torch.long))\n",
    "decoded = decode(text[0])\n",
    "\n",
    "print(decoded)"
   ]
  },
  {
   "cell_type": "code",
   "execution_count": null,
   "metadata": {},
   "outputs": [],
   "source": []
  }
 ],
 "metadata": {
  "kernelspec": {
   "display_name": "fastai",
   "language": "python",
   "name": "python3"
  },
  "language_info": {
   "codemirror_mode": {
    "name": "ipython",
    "version": 3
   },
   "file_extension": ".py",
   "mimetype": "text/x-python",
   "name": "python",
   "nbconvert_exporter": "python",
   "pygments_lexer": "ipython3",
   "version": "3.12.3"
  }
 },
 "nbformat": 4,
 "nbformat_minor": 2
}
