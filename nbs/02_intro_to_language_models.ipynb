{
 "cells": [
  {
   "cell_type": "markdown",
   "id": "d19f72cf-8e59-4264-96b0-946053cef7dc",
   "metadata": {},
   "source": [
    "# The spelled-out intro to language modeling: building makemore"
   ]
  },
  {
   "cell_type": "markdown",
   "id": "a55c69cb-854d-4c19-b237-b5ba194a4591",
   "metadata": {},
   "source": [
    "Following: https://www.youtube.com/watch?v=PaCmpygFfXo&list=PLAqhIrjkxbuWI23v9cThsA9GvCAUhRvKZ&index=2"
   ]
  },
  {
   "cell_type": "code",
   "execution_count": 1,
   "id": "a512cfd5-1a33-4f3d-92fe-433b57d50f54",
   "metadata": {},
   "outputs": [],
   "source": [
    "from pathlib import Path\n",
    "from collections import defaultdict"
   ]
  },
  {
   "cell_type": "code",
   "execution_count": 2,
   "id": "1d0d6571-963f-4cd1-8bc4-566c2d07a952",
   "metadata": {},
   "outputs": [],
   "source": [
    "data = Path('../data')"
   ]
  },
  {
   "cell_type": "markdown",
   "id": "4e1d69bd-2701-4f63-a922-8f27d9d98dca",
   "metadata": {
    "jp-MarkdownHeadingCollapsed": true,
    "tags": []
   },
   "source": [
    "# Exploring bigrams (0:00 - 0:15:00)"
   ]
  },
  {
   "cell_type": "markdown",
   "id": "71232cb1-ecf2-46b6-b36e-5b4eaa751075",
   "metadata": {},
   "source": [
    "Tasks done in the video:\n",
    "- Load the dataset\n",
    "- Explore\n",
    "    - min/max length of names\n",
    "    - number of names\n",
    "- count all the bigrams into a dictionary\n",
    "    - dedicated \\<S\\> and \\<E\\> tokens"
   ]
  },
  {
   "cell_type": "code",
   "execution_count": 3,
   "id": "813b672a-fd7b-43fe-b5c6-864fc318b781",
   "metadata": {},
   "outputs": [
    {
     "data": {
      "text/plain": [
       "['emma',\n",
       " 'olivia',\n",
       " 'ava',\n",
       " 'isabella',\n",
       " 'sophia',\n",
       " 'charlotte',\n",
       " 'mia',\n",
       " 'amelia',\n",
       " 'harper',\n",
       " 'evelyn']"
      ]
     },
     "execution_count": 3,
     "metadata": {},
     "output_type": "execute_result"
    }
   ],
   "source": [
    "names = (data/'names.txt').open().read().splitlines()\n",
    "names[:10]"
   ]
  },
  {
   "cell_type": "code",
   "execution_count": 4,
   "id": "bec49eac-8297-4e3c-9797-1b07eeb3adce",
   "metadata": {},
   "outputs": [
    {
     "data": {
      "text/plain": [
       "32033"
      ]
     },
     "execution_count": 4,
     "metadata": {},
     "output_type": "execute_result"
    }
   ],
   "source": [
    "len(names)"
   ]
  },
  {
   "cell_type": "code",
   "execution_count": 5,
   "id": "e02d0830-5e4f-4e57-959d-a70e0cdaa225",
   "metadata": {},
   "outputs": [
    {
     "data": {
      "text/plain": [
       "(2, 15)"
      ]
     },
     "execution_count": 5,
     "metadata": {},
     "output_type": "execute_result"
    }
   ],
   "source": [
    "min(len(name) for name in names), max(len(name) for name in names)"
   ]
  },
  {
   "cell_type": "code",
   "execution_count": 6,
   "id": "5ce29c4b-f415-4d3e-917d-ad5492b732f2",
   "metadata": {},
   "outputs": [],
   "source": [
    "bigrams = defaultdict(int)\n",
    "start = '<S>'\n",
    "end = '<E>'\n",
    "\n",
    "for name in names:\n",
    "    name = [start] + list(name) + [end]\n",
    "    for ch1,ch2 in zip(name, name[1:]):\n",
    "        bigrams[(ch1,ch2)] += 1"
   ]
  },
  {
   "cell_type": "code",
   "execution_count": 7,
   "id": "a4e00e97-cf84-4882-8a64-6aef06f796ff",
   "metadata": {},
   "outputs": [
    {
     "data": {
      "text/plain": [
       "[(('n', '<E>'), 6763),\n",
       " (('a', '<E>'), 6640),\n",
       " (('a', 'n'), 5438),\n",
       " (('<S>', 'a'), 4410),\n",
       " (('e', '<E>'), 3983),\n",
       " (('a', 'r'), 3264),\n",
       " (('e', 'l'), 3248),\n",
       " (('r', 'i'), 3033),\n",
       " (('n', 'a'), 2977),\n",
       " (('<S>', 'k'), 2963)]"
      ]
     },
     "execution_count": 7,
     "metadata": {},
     "output_type": "execute_result"
    }
   ],
   "source": [
    "sorted((bigram_tuples for bigram_tuples in bigrams.items()), key=lambda b: b[1], reverse=True)[:10]"
   ]
  },
  {
   "cell_type": "code",
   "execution_count": null,
   "id": "5a061496",
   "metadata": {},
   "outputs": [],
   "source": []
  },
  {
   "cell_type": "markdown",
   "id": "58c250c6-d481-4889-b5c6-276218446e3b",
   "metadata": {},
   "source": [
    "# Bigrams into torch.Tensor ( - 00:36:00, skipping efficiency until 00:50:00)"
   ]
  },
  {
   "cell_type": "markdown",
   "id": "3fbb66ea-8792-43e7-b979-d973267e1fe1",
   "metadata": {},
   "source": [
    "- Goal: n*n matrix that holds the bigram count in each cell\n",
    "- No more dedicated start/stopping tokens, instead use . for both\n",
    "- sample from the model\n",
    "    - start with the starting dot\n",
    "    - choose random next character according to probabilities in that row (torch.multinomial)\n",
    "    - repeat until ending-dot is reached\n",
    "    - Use torch.Generator for comparability"
   ]
  },
  {
   "cell_type": "markdown",
   "id": "79b1b3ce-ef5d-4ae7-a5f5-fb1dc9948c2e",
   "metadata": {
    "tags": []
   },
   "source": [
    "### Bigrams to Tensor"
   ]
  },
  {
   "cell_type": "markdown",
   "id": "fd60e0bb-ea36-4d0f-a5e9-f58f523ba331",
   "metadata": {},
   "source": [
    "Extracting all used characters:"
   ]
  },
  {
   "cell_type": "code",
   "execution_count": 8,
   "id": "554df160-1fb3-4b68-9ae9-3d616f74374e",
   "metadata": {},
   "outputs": [
    {
     "data": {
      "text/plain": [
       "{'.',\n",
       " 'a',\n",
       " 'b',\n",
       " 'c',\n",
       " 'd',\n",
       " 'e',\n",
       " 'f',\n",
       " 'g',\n",
       " 'h',\n",
       " 'i',\n",
       " 'j',\n",
       " 'k',\n",
       " 'l',\n",
       " 'm',\n",
       " 'n',\n",
       " 'o',\n",
       " 'p',\n",
       " 'q',\n",
       " 'r',\n",
       " 's',\n",
       " 't',\n",
       " 'u',\n",
       " 'v',\n",
       " 'w',\n",
       " 'x',\n",
       " 'y',\n",
       " 'z'}"
      ]
     },
     "execution_count": 8,
     "metadata": {},
     "output_type": "execute_result"
    }
   ],
   "source": [
    "characters = set('.')\n",
    "characters = characters.union(set(''.join(names)))\n",
    "characters"
   ]
  },
  {
   "cell_type": "code",
   "execution_count": 9,
   "id": "0ae5f08b-d19e-462e-9c32-8cef882d03bd",
   "metadata": {},
   "outputs": [],
   "source": [
    "import torch"
   ]
  },
  {
   "cell_type": "code",
   "execution_count": 10,
   "id": "563dd508-65ad-4544-89c2-4f8136cc2419",
   "metadata": {},
   "outputs": [
    {
     "data": {
      "text/plain": [
       "{'i': 0,\n",
       " 'h': 1,\n",
       " 'r': 2,\n",
       " 'm': 3,\n",
       " 'c': 4,\n",
       " 'f': 5,\n",
       " 'p': 6,\n",
       " 'e': 7,\n",
       " 's': 8,\n",
       " 'k': 9,\n",
       " 't': 10,\n",
       " 'j': 11,\n",
       " 'z': 12,\n",
       " 'g': 13,\n",
       " 'o': 14,\n",
       " 'n': 15,\n",
       " 'x': 16,\n",
       " 'd': 17,\n",
       " 'q': 18,\n",
       " 'b': 19,\n",
       " 'w': 20,\n",
       " 'l': 21,\n",
       " 'a': 22,\n",
       " 'u': 23,\n",
       " '.': 24,\n",
       " 'v': 25,\n",
       " 'y': 26}"
      ]
     },
     "execution_count": 10,
     "metadata": {},
     "output_type": "execute_result"
    }
   ],
   "source": [
    "stoi = {char: i for i,char in enumerate(characters)}\n",
    "itos = {i: char for char,i in stoi.items()}\n",
    "stoi"
   ]
  },
  {
   "cell_type": "code",
   "execution_count": 11,
   "id": "86b31e1b-f04b-4c0d-96cd-1eef0ea5a1a6",
   "metadata": {},
   "outputs": [],
   "source": [
    "bigrams = torch.zeros((len(characters), len(characters)))\n",
    "start = '.'\n",
    "end = '.'\n",
    "\n",
    "for name in names:\n",
    "    name = [start] + list(name) + [end]\n",
    "    for ch1,ch2 in zip(name, name[1:]):\n",
    "        row_index = stoi[ch1]\n",
    "        col_index = stoi[ch2]\n",
    "        bigrams[row_index, col_index] += 1"
   ]
  },
  {
   "cell_type": "markdown",
   "id": "5219d08e-c726-47c8-a88a-e6090fbb1704",
   "metadata": {
    "jp-MarkdownHeadingCollapsed": true,
    "tags": []
   },
   "source": [
    "### Sampling"
   ]
  },
  {
   "cell_type": "markdown",
   "id": "911228de-7e7d-4bb6-b260-a2df6548e9f1",
   "metadata": {},
   "source": [
    "Counts for characters following the start character:"
   ]
  },
  {
   "cell_type": "code",
   "execution_count": 12,
   "id": "7f3a711c-c41d-4dfb-a518-05d4fb92edb5",
   "metadata": {},
   "outputs": [
    {
     "data": {
      "text/plain": [
       "tensor([ 591.,  874., 1639., 2538., 1542.,  417.,  515., 1531., 2055., 2963.,\n",
       "        1308., 2422.,  929.,  669.,  394., 1146.,  134., 1690.,   92., 1306.,\n",
       "         307., 1572., 4410.,   78.,    0.,  376.,  535.])"
      ]
     },
     "execution_count": 12,
     "metadata": {},
     "output_type": "execute_result"
    }
   ],
   "source": [
    "bigrams[stoi[start],:]"
   ]
  },
  {
   "cell_type": "markdown",
   "id": "41a141f0-695a-4cb6-87a6-003b36f72927",
   "metadata": {},
   "source": [
    "Drawing a sample with counts as weights:"
   ]
  },
  {
   "cell_type": "code",
   "execution_count": 13,
   "id": "77339bbd-9233-493f-98ca-3d9db16efaa9",
   "metadata": {},
   "outputs": [
    {
     "data": {
      "text/plain": [
       "'m'"
      ]
     },
     "execution_count": 13,
     "metadata": {},
     "output_type": "execute_result"
    }
   ],
   "source": [
    "next_idx = torch.multinomial(bigrams[stoi[start],:], 1, replacement=True).item()\n",
    "next_char = itos[next_idx]\n",
    "next_char"
   ]
  },
  {
   "cell_type": "markdown",
   "id": "deb7e4cb-fc64-4ee0-861d-ee7628835f50",
   "metadata": {},
   "source": [
    "Repeat until the stopping token is drawn:"
   ]
  },
  {
   "cell_type": "code",
   "execution_count": 14,
   "id": "a236d426-4aff-4062-8882-da71aeb9ccc8",
   "metadata": {},
   "outputs": [
    {
     "name": "stdout",
     "output_type": "stream",
     "text": [
      ".n.\n",
      ".dim.\n",
      ".ahudan.\n",
      ".n.\n",
      ".lyle.\n",
      ".roana.\n",
      ".moaremianave.\n",
      ".ykaltiarian.\n",
      ".eneses.\n",
      ".kengea.\n",
      ".na.\n",
      ".joxtety.\n",
      ".kaizri.\n",
      ".ifrexy.\n",
      ".monnama.\n",
      ".kaleslazaieererin.\n",
      ".tnanei.\n",
      ".w.\n",
      ".ahanll.\n",
      ".lavisynt.\n"
     ]
    }
   ],
   "source": [
    "g = torch.Generator().manual_seed(2147483647)\n",
    "\n",
    "for i in range(20):\n",
    "    name = start\n",
    "    while True:\n",
    "        next_idx = torch.multinomial(bigrams[stoi[name[-1]],:], 1, replacement=True, generator=g).item()\n",
    "        next_char = itos[next_idx]\n",
    "        name += next_char\n",
    "\n",
    "        if next_char == end:\n",
    "            break\n",
    "\n",
    "\n",
    "    print(name)"
   ]
  },
  {
   "cell_type": "markdown",
   "id": "415a77b4-f1ca-4bf4-95e1-88d9b6b2c65b",
   "metadata": {},
   "source": [
    "Sanity-Check: Drawing with uniform probability"
   ]
  },
  {
   "cell_type": "code",
   "execution_count": 15,
   "id": "c09bc386-e3b6-4abe-8ab4-e6bc7d110798",
   "metadata": {},
   "outputs": [
    {
     "name": "stdout",
     "output_type": "stream",
     "text": [
      ".dabhhv.\n",
      ".rdqdgvdulyokaholjnwctacscidonvgwycldjhwcfwjxptcekeazftpjqbdzuokqessyuzlikcm.\n",
      ".imfjgylmtotnfnataqeedqtqimprshrjbzxnjmi.\n",
      ".w.\n",
      ".urxgjollb.\n",
      ".ceypf.\n",
      ".sudxzcxcouyajv.\n",
      ".bdtpnqddxp.\n",
      ".bwujpnlpsaupsgblvvnwamaadxpmrvctmnlsjhtjsdooxdggzzhnqcdviebyxuiyzektkohoeyyllzbvadqlplhuhabcrouazgqvxaeqbpexbseoguhpdgbtcarsoeankke.\n",
      ".sjuczwqcjuoheyvjodaizpbwcdkeaomcnkcfwbljecximpxtb.\n",
      ".fdtmbgtuelyfbiunpzpt.\n",
      ".pzvzerfextcxnacwuiczyvbdwqrs.\n",
      ".smcofkllgi.\n",
      ".wvbzprghrnhhovtxntlltpzmbhlmdmewtgzydwrhkba.\n",
      ".qwelxjxxke.\n",
      ".lcftcybqndfkenal.\n",
      ".gawitz.\n",
      ".pnzjnymkiwjsckajckph.\n",
      ".mfazxjwjuual.\n",
      ".zvgwuvzexyhluca.\n"
     ]
    }
   ],
   "source": [
    "g = torch.Generator().manual_seed(2147483647)\n",
    "weights = torch.ones(len(characters))\n",
    "\n",
    "for i in range(20):\n",
    "    name = start\n",
    "    while True:\n",
    "        next_idx = torch.multinomial(weights, 1, replacement=True, generator=g).item()\n",
    "        next_char = itos[next_idx]\n",
    "        name += next_char\n",
    "\n",
    "        if next_char == end:\n",
    "            break\n",
    "\n",
    "\n",
    "    print(name)"
   ]
  },
  {
   "cell_type": "markdown",
   "id": "190c9bed-8748-482c-b958-9aef3999a7c8",
   "metadata": {},
   "source": [
    "# Loss function ( - 01:03:00)"
   ]
  },
  {
   "cell_type": "markdown",
   "id": "a8711cb9-5fd5-429d-9a59-fd2778a56b44",
   "metadata": {},
   "source": [
    "- negative Likelihood is used to measure loss (product of probabilities)\n",
    "- use logs for numerical purposes (turns into the sum)"
   ]
  },
  {
   "cell_type": "code",
   "execution_count": 16,
   "id": "ae0f8860-3d79-4b58-b90b-5c32b4ed7ebc",
   "metadata": {},
   "outputs": [],
   "source": [
    "P = bigrams / bigrams.sum(dim=1, keepdim=True)"
   ]
  },
  {
   "cell_type": "code",
   "execution_count": 17,
   "id": "b68377e6-902b-4da7-a1ab-e1bd07a116b1",
   "metadata": {},
   "outputs": [
    {
     "name": "stdout",
     "output_type": "stream",
     "text": [
      "(., e): -3.0408453941345215\n",
      "(e, m): -3.2793259620666504\n",
      "(m, m): -3.6772043704986572\n",
      "(m, a): -0.9417552351951599\n",
      "(a, .): -1.6298604011535645\n",
      "Neg. Log-Likelihood: 12.568990707397461\n",
      "Mean Neg. Log-Likelihood: 2.513798236846924\n",
      "\n",
      "(., o): -4.3981709480285645\n",
      "(o, l): -2.550807476043701\n",
      "(l, i): -1.7277942895889282\n",
      "(i, v): -4.186665058135986\n",
      "(v, i): -1.0382850170135498\n",
      "(i, a): -1.9795759916305542\n",
      "(a, .): -1.6298604011535645\n",
      "Neg. Log-Likelihood: 17.511159896850586\n",
      "Mean Neg. Log-Likelihood: 2.501594305038452\n",
      "\n"
     ]
    }
   ],
   "source": [
    "for name in names[:2]:\n",
    "    name = [start] + list(name) + [end]\n",
    "    log_likelihood = 0\n",
    "    n = 0\n",
    "    for ch1,ch2 in zip(name, name[1:]):\n",
    "        row_index = stoi[ch1]\n",
    "        col_index = stoi[ch2]\n",
    "        prob = P[row_index, col_index]\n",
    "        log = torch.log(prob)\n",
    "        log_likelihood += log\n",
    "        n += 1\n",
    "        \n",
    "        print(f'({ch1}, {ch2}): {log}')\n",
    "    print(f'Neg. Log-Likelihood: {-log_likelihood}')\n",
    "    print(f'Mean Neg. Log-Likelihood: {-log_likelihood / n}')\n",
    "    print('')"
   ]
  },
  {
   "cell_type": "code",
   "execution_count": 18,
   "id": "fcfb9010-b329-4821-b8cf-67f931aefbca",
   "metadata": {},
   "outputs": [
    {
     "name": "stdout",
     "output_type": "stream",
     "text": [
      "(., a): -1.9828919172286987\n",
      "(a, n): -1.8295611143112183\n",
      "(n, d): -3.259352207183838\n",
      "(d, r): -2.562042474746704\n",
      "(r, e): -2.012739896774292\n",
      "(e, j): -5.917083740234375\n",
      "(j, .): -3.7097861766815186\n",
      "Neg. Log-Likelihood: 21.273456573486328\n",
      "Mean Neg. Log-Likelihood: 3.03906512260437\n",
      "\n"
     ]
    }
   ],
   "source": [
    "for name in ['andrej']:\n",
    "    name = [start] + list(name) + [end]\n",
    "    log_likelihood = 0\n",
    "    n = 0\n",
    "    for ch1,ch2 in zip(name, name[1:]):\n",
    "        row_index = stoi[ch1]\n",
    "        col_index = stoi[ch2]\n",
    "        prob = P[row_index, col_index]\n",
    "        log = torch.log(prob)\n",
    "        log_likelihood += log\n",
    "        n += 1\n",
    "        \n",
    "        print(f'({ch1}, {ch2}): {log}')\n",
    "    print(f'Neg. Log-Likelihood: {-log_likelihood}')\n",
    "    print(f'Mean Neg. Log-Likelihood: {-log_likelihood / n}')\n",
    "    print('')"
   ]
  },
  {
   "attachments": {},
   "cell_type": "markdown",
   "id": "2c9db0de-d554-4371-802b-73dde5119e3f",
   "metadata": {},
   "source": [
    "# Neural Network Approach ( - 01:25:00)"
   ]
  },
  {
   "attachments": {},
   "cell_type": "markdown",
   "id": "b0e1b4c5-b87a-4741-9058-d38e4b577c84",
   "metadata": {},
   "source": [
    "- create training set\n",
    "    - x tensor with first letter\n",
    "    - y tensor with second letter\n",
    "- use one-hot encoding to feed indices into nn\n",
    "- \"nn\" is for now just a weight matrix and bias vector with grads\n",
    "- output should be 27 dimensional\n",
    "    - turn into \"probabilities\" by softmax\n",
    "    "
   ]
  },
  {
   "cell_type": "code",
   "execution_count": 19,
   "id": "a314c959",
   "metadata": {},
   "outputs": [],
   "source": [
    "bigrams = torch.zeros((len(characters), len(characters)))\n",
    "start = '.'\n",
    "end = '.'\n",
    "xs = []\n",
    "ys = []\n",
    "\n",
    "for name in names[:1]:\n",
    "    name = [start] + list(name) + [end]\n",
    "    for ch1,ch2 in zip(name, name[1:]):\n",
    "        row_index = stoi[ch1]\n",
    "        col_index = stoi[ch2]\n",
    "        xs.append(row_index)\n",
    "        ys.append(col_index)\n",
    "\n",
    "xs = torch.tensor(xs)\n",
    "ys = torch.tensor(ys)"
   ]
  },
  {
   "cell_type": "code",
   "execution_count": 20,
   "id": "66debec1",
   "metadata": {},
   "outputs": [],
   "source": [
    "g = torch.Generator().manual_seed(2147483647)\n",
    "\n",
    "W = torch.rand(size=(27,27), requires_grad=True, generator=g)\n",
    "b = torch.rand(size=(1,27), requires_grad=True, generator=g)"
   ]
  },
  {
   "cell_type": "code",
   "execution_count": 21,
   "id": "463af69d",
   "metadata": {},
   "outputs": [
    {
     "data": {
      "text/plain": [
       "tensor([[0., 0., 0., 0., 0., 0., 0., 0., 0., 0., 0., 0., 0., 0., 0., 0., 0., 0.,\n",
       "         0., 0., 0., 0., 0., 0., 1., 0., 0.],\n",
       "        [0., 0., 0., 0., 0., 0., 0., 1., 0., 0., 0., 0., 0., 0., 0., 0., 0., 0.,\n",
       "         0., 0., 0., 0., 0., 0., 0., 0., 0.],\n",
       "        [0., 0., 0., 1., 0., 0., 0., 0., 0., 0., 0., 0., 0., 0., 0., 0., 0., 0.,\n",
       "         0., 0., 0., 0., 0., 0., 0., 0., 0.],\n",
       "        [0., 0., 0., 1., 0., 0., 0., 0., 0., 0., 0., 0., 0., 0., 0., 0., 0., 0.,\n",
       "         0., 0., 0., 0., 0., 0., 0., 0., 0.],\n",
       "        [0., 0., 0., 0., 0., 0., 0., 0., 0., 0., 0., 0., 0., 0., 0., 0., 0., 0.,\n",
       "         0., 0., 0., 0., 1., 0., 0., 0., 0.]])"
      ]
     },
     "execution_count": 21,
     "metadata": {},
     "output_type": "execute_result"
    }
   ],
   "source": [
    "import torch.nn.functional as F\n",
    "xenc = F.one_hot(xs, num_classes=27).float()\n",
    "xenc"
   ]
  },
  {
   "cell_type": "code",
   "execution_count": 22,
   "id": "e8610746",
   "metadata": {},
   "outputs": [
    {
     "data": {
      "text/plain": [
       "<matplotlib.image.AxesImage at 0x26cd8a073a0>"
      ]
     },
     "execution_count": 22,
     "metadata": {},
     "output_type": "execute_result"
    },
    {
     "data": {
      "image/png": "[encoded data removed]",
      "text/plain": [
       "<Figure size 640x480 with 1 Axes>"
      ]
     },
     "metadata": {},
     "output_type": "display_data"
    }
   ],
   "source": [
    "import matplotlib.pyplot as plt\n",
    "plt.imshow(xenc)"
   ]
  },
  {
   "cell_type": "code",
   "execution_count": 23,
   "id": "f99e565b",
   "metadata": {},
   "outputs": [
    {
     "data": {
      "text/plain": [
       "torch.Size([5, 27])"
      ]
     },
     "execution_count": 23,
     "metadata": {},
     "output_type": "execute_result"
    }
   ],
   "source": [
    "# xenc: 5 x 27\n",
    "# W: 27 x 27\n",
    "# xenc @ W: 5 x 27\n",
    "# b: 1 x 27\n",
    "\n",
    "output = xenc@W + b\n",
    "output.shape"
   ]
  },
  {
   "cell_type": "code",
   "execution_count": 24,
   "id": "268212f4",
   "metadata": {},
   "outputs": [
    {
     "data": {
      "text/plain": [
       "tensor([0.0263, 0.0560, 0.0405, 0.0175, 0.0695, 0.0318, 0.0170, 0.0261, 0.0201,\n",
       "        0.0264, 0.0339, 0.0359, 0.0390, 0.0248, 0.0483, 0.0357, 0.0899, 0.0286,\n",
       "        0.0161, 0.0216, 0.0313, 0.0469, 0.0581, 0.0455, 0.0310, 0.0204, 0.0619],\n",
       "       grad_fn=<SliceBackward0>)"
      ]
     },
     "execution_count": 24,
     "metadata": {},
     "output_type": "execute_result"
    }
   ],
   "source": [
    "counts = output.exp()\n",
    "probs = counts / counts.sum(dim=1, keepdim=True)\n",
    "\n",
    "probs[0,:]"
   ]
  },
  {
   "cell_type": "code",
   "execution_count": 25,
   "id": "dfa3b499",
   "metadata": {},
   "outputs": [
    {
     "data": {
      "text/plain": [
       "tensor([0.0263, 0.0560, 0.0405, 0.0175, 0.0695, 0.0318, 0.0170, 0.0261, 0.0201,\n",
       "        0.0264, 0.0339, 0.0359, 0.0390, 0.0248, 0.0483, 0.0357, 0.0899, 0.0286,\n",
       "        0.0161, 0.0216, 0.0313, 0.0469, 0.0581, 0.0455, 0.0310, 0.0204, 0.0619],\n",
       "       grad_fn=<SliceBackward0>)"
      ]
     },
     "execution_count": 25,
     "metadata": {},
     "output_type": "execute_result"
    }
   ],
   "source": [
    "F.softmax(output, dim=1)[0,:]"
   ]
  },
  {
   "attachments": {},
   "cell_type": "markdown",
   "id": "efb6666e",
   "metadata": {},
   "source": [
    "# Training loop ( - 01:47:00)"
   ]
  },
  {
   "attachments": {},
   "cell_type": "markdown",
   "id": "3974add9",
   "metadata": {},
   "source": [
    "- get loss by taking nn-prob of actual next character\n",
    "    - should be high --> neg. --> should be low\n",
    "    - .log().mean()\n",
    "- backward pass (set gradients to None)\n",
    "- learning rate of 50 for now\n",
    "- run training loop over all xs for now"
   ]
  },
  {
   "cell_type": "code",
   "execution_count": 26,
   "id": "2adfa4d8",
   "metadata": {},
   "outputs": [
    {
     "data": {
      "text/plain": [
       "tensor(-3.3897, grad_fn=<MeanBackward0>)"
      ]
     },
     "execution_count": 26,
     "metadata": {},
     "output_type": "execute_result"
    }
   ],
   "source": [
    "# nn evaluation\n",
    "\n",
    "xenc = F.one_hot(xs, num_classes=27).float()\n",
    "\n",
    "output = xenc@W + b\n",
    "probs = F.softmax(output, dim=1)\n",
    "\n",
    "# actual next characters for each x in xs is in ys\n",
    "predictions = probs[torch.arange(len(ys)), ys]\n",
    "loss = predictions.log().mean()\n",
    "loss"
   ]
  },
  {
   "cell_type": "code",
   "execution_count": 27,
   "id": "903cd8b7",
   "metadata": {},
   "outputs": [],
   "source": [
    "# build training set with all data\n",
    "bigrams = torch.zeros((len(characters), len(characters)))\n",
    "start = '.'\n",
    "end = '.'\n",
    "xs = []\n",
    "ys = []\n",
    "\n",
    "for name in names:\n",
    "    name = [start] + list(name) + [end]\n",
    "    for ch1,ch2 in zip(name, name[1:]):\n",
    "        row_index = stoi[ch1]\n",
    "        col_index = stoi[ch2]\n",
    "        xs.append(row_index)\n",
    "        ys.append(col_index)\n",
    "\n",
    "xs = torch.tensor(xs)\n",
    "ys = torch.tensor(ys)"
   ]
  },
  {
   "cell_type": "code",
   "execution_count": 28,
   "id": "fcebb2d2",
   "metadata": {},
   "outputs": [
    {
     "name": "stdout",
     "output_type": "stream",
     "text": [
      "3.3260011672973633\n",
      "3.076158285140991\n",
      "2.9282710552215576\n",
      "2.836986541748047\n",
      "2.773505210876465\n",
      "2.7272822856903076\n",
      "2.6925697326660156\n",
      "2.6656956672668457\n",
      "2.644299268722534\n",
      "2.6268491744995117\n",
      "2.612330198287964\n",
      "2.600050449371338\n",
      "2.589521884918213\n",
      "2.5803892612457275\n",
      "2.5723886489868164\n",
      "2.565319538116455\n",
      "2.5590262413024902\n",
      "2.553387403488159\n",
      "2.548304557800293\n",
      "2.5436999797821045\n",
      "2.5395090579986572\n",
      "2.535677433013916\n",
      "2.5321617126464844\n",
      "2.528923988342285\n",
      "2.525932788848877\n",
      "2.5231611728668213\n",
      "2.520585536956787\n",
      "2.518186569213867\n",
      "2.51594614982605\n",
      "2.513849973678589\n",
      "2.5118837356567383\n",
      "2.5100371837615967\n",
      "2.508298635482788\n",
      "2.506659746170044\n",
      "2.5051121711730957\n",
      "2.503648042678833\n",
      "2.5022616386413574\n",
      "2.5009467601776123\n",
      "2.4996981620788574\n",
      "2.4985108375549316\n",
      "2.497380495071411\n",
      "2.4963033199310303\n",
      "2.4952757358551025\n",
      "2.4942941665649414\n",
      "2.4933559894561768\n",
      "2.492457628250122\n",
      "2.491598129272461\n",
      "2.4907736778259277\n",
      "2.489982843399048\n",
      "2.4892234802246094\n",
      "2.4884936809539795\n",
      "2.4877917766571045\n",
      "2.487116575241089\n",
      "2.4864659309387207\n",
      "2.485839366912842\n",
      "2.4852349758148193\n",
      "2.484651803970337\n",
      "2.484088897705078\n",
      "2.4835448265075684\n",
      "2.4830191135406494\n",
      "2.482510566711426\n",
      "2.4820187091827393\n",
      "2.4815423488616943\n",
      "2.481081008911133\n",
      "2.4806337356567383\n",
      "2.4802002906799316\n",
      "2.4797799587249756\n",
      "2.4793717861175537\n",
      "2.478976011276245\n",
      "2.4785914421081543\n",
      "2.478217363357544\n",
      "2.4778542518615723\n",
      "2.4775009155273438\n",
      "2.4771578311920166\n",
      "2.476823568344116\n",
      "2.4764981269836426\n",
      "2.4761812686920166\n",
      "2.4758729934692383\n",
      "2.475572347640991\n",
      "2.4752795696258545\n",
      "2.4749937057495117\n",
      "2.4747154712677\n",
      "2.4744436740875244\n",
      "2.4741785526275635\n",
      "2.4739198684692383\n",
      "2.4736673831939697\n",
      "2.4734208583831787\n",
      "2.473180055618286\n",
      "2.472944736480713\n",
      "2.4727141857147217\n",
      "2.472489833831787\n",
      "2.4722702503204346\n",
      "2.472055196762085\n",
      "2.4718451499938965\n",
      "2.471639394760132\n",
      "2.471437931060791\n",
      "2.471240997314453\n",
      "2.47104811668396\n",
      "2.4708592891693115\n",
      "2.4706742763519287\n"
     ]
    }
   ],
   "source": [
    "# initialize nn\n",
    "n_epochs = 100\n",
    "lr = 50\n",
    "\n",
    "g = torch.Generator().manual_seed(2147483647)\n",
    "W = torch.rand(size=(27,27), requires_grad=True, generator=g)\n",
    "\n",
    "for epoch in range(n_epochs):\n",
    "    # forward pass\n",
    "    xenc = F.one_hot(xs, num_classes=27).float()\n",
    "    output = xenc@W\n",
    "    probs = F.softmax(output, dim=1)\n",
    "\n",
    "    # loss\n",
    "    predictions = probs[torch.arange(len(ys)), ys]\n",
    "    loss = -predictions.log().mean()\n",
    "\n",
    "    # backward pass\n",
    "    W.grad = None\n",
    "\n",
    "    loss.backward()\n",
    "\n",
    "    # update\n",
    "    with torch.no_grad():\n",
    "        W -= lr * W.grad\n",
    "    \n",
    "\n",
    "    print(loss.item())"
   ]
  },
  {
   "attachments": {},
   "cell_type": "markdown",
   "id": "d8e2958d",
   "metadata": {},
   "source": [
    "# Notes ( - end)"
   ]
  },
  {
   "attachments": {},
   "cell_type": "markdown",
   "id": "4b156657",
   "metadata": {},
   "source": [
    "- matrix multiply with one-hot encoded vector is the same as row-lookup (does indexing work with autograd?)\n",
    "- fake-counts is the same as regularization\n",
    "    -  + (W**2).mean()"
   ]
  },
  {
   "cell_type": "code",
   "execution_count": 29,
   "id": "83aaaced",
   "metadata": {},
   "outputs": [
    {
     "name": "stdout",
     "output_type": "stream",
     "text": [
      "3.3260011672973633\n",
      "3.076160430908203\n",
      "2.928269863128662\n",
      "2.8369860649108887\n",
      "2.773505210876465\n",
      "2.7272825241088867\n",
      "2.6925694942474365\n",
      "2.6656954288482666\n",
      "2.644299268722534\n",
      "2.6268489360809326\n",
      "2.612330198287964\n",
      "2.600050449371338\n",
      "2.589521884918213\n",
      "2.5803890228271484\n",
      "2.5723884105682373\n",
      "2.565319299697876\n",
      "2.559026002883911\n",
      "2.55338716506958\n",
      "2.548304557800293\n",
      "2.5436999797821045\n",
      "2.539508581161499\n",
      "2.535677194595337\n",
      "2.5321617126464844\n",
      "2.528923988342285\n",
      "2.525932788848877\n",
      "2.523160934448242\n",
      "2.520585298538208\n",
      "2.518186330795288\n",
      "2.51594614982605\n",
      "2.513849973678589\n",
      "2.5118842124938965\n",
      "2.5100371837615967\n",
      "2.508298635482788\n",
      "2.506659984588623\n",
      "2.5051119327545166\n",
      "2.503648042678833\n",
      "2.5022616386413574\n",
      "2.5009467601776123\n",
      "2.4996981620788574\n",
      "2.4985108375549316\n",
      "2.497380495071411\n",
      "2.4963033199310303\n",
      "2.4952754974365234\n",
      "2.4942941665649414\n",
      "2.493356227874756\n",
      "2.492457628250122\n",
      "2.491598129272461\n",
      "2.4907736778259277\n",
      "2.489982843399048\n",
      "2.4892234802246094\n",
      "2.4884936809539795\n",
      "2.4877917766571045\n",
      "2.487116575241089\n",
      "2.4864659309387207\n",
      "2.4858391284942627\n",
      "2.4852347373962402\n",
      "2.484651803970337\n",
      "2.484088659286499\n",
      "2.4835448265075684\n",
      "2.4830191135406494\n",
      "2.482510566711426\n",
      "2.4820187091827393\n",
      "2.4815423488616943\n",
      "2.481081008911133\n",
      "2.4806337356567383\n",
      "2.4802002906799316\n",
      "2.4797799587249756\n",
      "2.4793717861175537\n",
      "2.478976011276245\n",
      "2.478591203689575\n",
      "2.478217363357544\n",
      "2.4778547286987305\n",
      "2.4775009155273438\n",
      "2.4771578311920166\n",
      "2.476823568344116\n",
      "2.4764981269836426\n",
      "2.4761812686920166\n",
      "2.4758729934692383\n",
      "2.475572347640991\n",
      "2.4752793312072754\n",
      "2.4749937057495117\n",
      "2.474715232849121\n",
      "2.4744436740875244\n",
      "2.4741785526275635\n",
      "2.4739198684692383\n",
      "2.473667621612549\n",
      "2.4734208583831787\n",
      "2.473179817199707\n",
      "2.472944498062134\n",
      "2.47271466255188\n",
      "2.472489833831787\n",
      "2.4722700119018555\n",
      "2.472055196762085\n",
      "2.4718446731567383\n",
      "2.471639394760132\n",
      "2.471437931060791\n",
      "2.471240997314453\n",
      "2.471047878265381\n",
      "2.4708592891693115\n",
      "2.4706742763519287\n"
     ]
    }
   ],
   "source": [
    "# initialize nn\n",
    "n_epochs = 100\n",
    "lr = 50\n",
    "\n",
    "g = torch.Generator().manual_seed(2147483647)\n",
    "W = torch.rand(size=(27,27), requires_grad=True, generator=g)\n",
    "\n",
    "for epoch in range(n_epochs):\n",
    "    # forward pass\n",
    "    output = W[xs,:]\n",
    "    probs = F.softmax(output, dim=1)\n",
    "\n",
    "\n",
    "    # loss\n",
    "    predictions = probs[torch.arange(len(ys)), ys]\n",
    "    loss = -predictions.log().mean()\n",
    "\n",
    "    # backward pass\n",
    "    W.grad = None\n",
    "\n",
    "    loss.backward()\n",
    "\n",
    "    # update\n",
    "    with torch.no_grad():\n",
    "        W -= lr * W.grad\n",
    "    \n",
    "\n",
    "    print(loss.item())"
   ]
  },
  {
   "cell_type": "code",
   "execution_count": 30,
   "id": "72d12541",
   "metadata": {},
   "outputs": [
    {
     "name": "stdout",
     "output_type": "stream",
     "text": [
      "3.3260011672973633\n",
      "3.0760786533355713\n",
      "2.9283394813537598\n",
      "2.8372349739074707\n",
      "2.773928642272949\n",
      "2.7278571128845215\n",
      "2.693270444869995\n",
      "2.6665027141571045\n",
      "2.6451985836029053\n",
      "2.627829074859619\n",
      "2.6133830547332764\n",
      "2.6011693477630615\n",
      "2.5907013416290283\n",
      "2.5816245079040527\n",
      "2.573676586151123\n",
      "2.5666561126708984\n",
      "2.5604095458984375\n",
      "2.554814338684082\n",
      "2.5497734546661377\n",
      "2.5452089309692383\n",
      "2.541055679321289\n",
      "2.5372602939605713\n",
      "2.5337793827056885\n",
      "2.5305752754211426\n",
      "2.527616024017334\n",
      "2.5248749256134033\n",
      "2.522329092025757\n",
      "2.51995849609375\n",
      "2.5177457332611084\n",
      "2.5156757831573486\n",
      "2.513735055923462\n",
      "2.5119128227233887\n",
      "2.510197877883911\n",
      "2.5085818767547607\n",
      "2.50705623626709\n",
      "2.5056138038635254\n",
      "2.5042479038238525\n",
      "2.502952814102173\n",
      "2.501723051071167\n",
      "2.5005545616149902\n",
      "2.4994425773620605\n",
      "2.498382806777954\n",
      "2.4973719120025635\n",
      "2.4964072704315186\n",
      "2.495485305786133\n",
      "2.494602680206299\n",
      "2.4937584400177\n",
      "2.4929487705230713\n",
      "2.4921724796295166\n",
      "2.491427421569824\n",
      "2.4907114505767822\n",
      "2.490023374557495\n",
      "2.48936128616333\n",
      "2.4887239933013916\n",
      "2.488109827041626\n",
      "2.487517833709717\n",
      "2.4869470596313477\n",
      "2.486396312713623\n",
      "2.4858639240264893\n",
      "2.4853498935699463\n",
      "2.4848527908325195\n",
      "2.48437237739563\n",
      "2.4839069843292236\n",
      "2.4834563732147217\n",
      "2.483020305633545\n",
      "2.4825971126556396\n",
      "2.482187032699585\n",
      "2.4817895889282227\n",
      "2.4814035892486572\n",
      "2.4810290336608887\n",
      "2.4806649684906006\n",
      "2.480311870574951\n",
      "2.479968309402466\n",
      "2.4796342849731445\n",
      "2.479309320449829\n",
      "2.4789934158325195\n",
      "2.4786860942840576\n",
      "2.478386640548706\n",
      "2.478095054626465\n",
      "2.477811098098755\n",
      "2.477534294128418\n",
      "2.477264642715454\n",
      "2.477001667022705\n",
      "2.4767448902130127\n",
      "2.4764950275421143\n",
      "2.476250648498535\n",
      "2.4760122299194336\n",
      "2.4757797718048096\n",
      "2.475552558898926\n",
      "2.4753308296203613\n",
      "2.475114107131958\n",
      "2.4749021530151367\n",
      "2.4746952056884766\n",
      "2.4744927883148193\n",
      "2.474294662475586\n",
      "2.4741013050079346\n",
      "2.473911762237549\n",
      "2.473726511001587\n",
      "2.473545551300049\n",
      "2.473367929458618\n"
     ]
    }
   ],
   "source": [
    "# initialize nn\n",
    "n_epochs = 100\n",
    "lr = 50\n",
    "l2 = .01\n",
    "\n",
    "g = torch.Generator().manual_seed(2147483647)\n",
    "W = torch.rand(size=(27,27), requires_grad=True, generator=g)\n",
    "\n",
    "for epoch in range(n_epochs):\n",
    "    # forward pass\n",
    "    output = W[xs,:]\n",
    "    probs = F.softmax(output, dim=1)\n",
    "\n",
    "\n",
    "    # loss\n",
    "    predictions = probs[torch.arange(len(ys)), ys]\n",
    "    loss = -predictions.log().mean() + l2 * (W**2).mean()\n",
    "\n",
    "    # backward pass\n",
    "    W.grad = None\n",
    "\n",
    "    loss.backward()\n",
    "\n",
    "    # update\n",
    "    with torch.no_grad():\n",
    "        W -= lr * W.grad\n",
    "    \n",
    "\n",
    "    with torch.no_grad():\n",
    "        # loss without regularization term\n",
    "        loss = -predictions.log().mean()\n",
    "        print(loss.item())"
   ]
  },
  {
   "attachments": {},
   "cell_type": "markdown",
   "id": "f718faa5",
   "metadata": {},
   "source": [
    "# Exercises"
   ]
  },
  {
   "attachments": {},
   "cell_type": "markdown",
   "id": "08a633bd",
   "metadata": {},
   "source": [
    "## #1 [Trigram Model] + #4 [Direct Indexing]"
   ]
  },
  {
   "cell_type": "code",
   "execution_count": 31,
   "id": "2bfc167e",
   "metadata": {},
   "outputs": [],
   "source": [
    "# build training set\n",
    "start = ['.']\n",
    "end = ['.']\n",
    "\n",
    "xs = []\n",
    "ys = []\n",
    "\n",
    "for name in names:\n",
    "    name = 2*start + list(name) + end\n",
    "    for ch1,ch2,ch3 in zip(name, name[1:], name[2:]):\n",
    "        #print(f'({ch1}{ch2}: {ch3}')\n",
    "        xs.append([stoi[ch1], 27+stoi[ch2]])\n",
    "        ys.append(stoi[ch3])\n",
    "\n",
    "xs = torch.tensor(xs)\n",
    "ys = torch.tensor(ys)"
   ]
  },
  {
   "cell_type": "code",
   "execution_count": 32,
   "id": "7c03bd5c",
   "metadata": {},
   "outputs": [
    {
     "data": {
      "text/plain": [
       "(tensor([[24, 51],\n",
       "         [24, 34],\n",
       "         [ 7, 30],\n",
       "         [ 3, 30],\n",
       "         [ 3, 49]]),\n",
       " tensor([ 7,  3,  3, 22, 24]))"
      ]
     },
     "execution_count": 32,
     "metadata": {},
     "output_type": "execute_result"
    }
   ],
   "source": [
    "xs[:5], ys[:5]"
   ]
  },
  {
   "cell_type": "code",
   "execution_count": 33,
   "id": "822947f9",
   "metadata": {},
   "outputs": [
    {
     "ename": "TypeError",
     "evalue": "unsupported operand type(s) for -=: 'Tensor' and 'tuple'",
     "output_type": "error",
     "traceback": [
      "\u001b[1;31m---------------------------------------------------------------------------\u001b[0m",
      "\u001b[1;31mTypeError\u001b[0m                                 Traceback (most recent call last)",
      "Cell \u001b[1;32mIn[33], line 25\u001b[0m\n\u001b[0;32m     23\u001b[0m \u001b[39m# update\u001b[39;00m\n\u001b[0;32m     24\u001b[0m \u001b[39mwith\u001b[39;00m torch\u001b[39m.\u001b[39mno_grad():\n\u001b[1;32m---> 25\u001b[0m     W \u001b[39m-\u001b[39m\u001b[39m=\u001b[39m lr \u001b[39m*\u001b[39m W\u001b[39m.\u001b[39mgrad, \n\u001b[0;32m     28\u001b[0m \u001b[39mif\u001b[39;00m epoch\u001b[39m%\u001b[39m\u001b[39m50\u001b[39m\u001b[39m==\u001b[39m\u001b[39m0\u001b[39m:\n\u001b[0;32m     29\u001b[0m     \u001b[39mprint\u001b[39m(epoch, loss\u001b[39m.\u001b[39mitem())\n",
      "\u001b[1;31mTypeError\u001b[0m: unsupported operand type(s) for -=: 'Tensor' and 'tuple'"
     ]
    }
   ],
   "source": [
    "# initialize nn\n",
    "n_epochs = 1000\n",
    "lr = 100\n",
    "l2 = .0\n",
    "\n",
    "g = torch.Generator().manual_seed(2147483647)\n",
    "W = torch.rand(size=(54,27), requires_grad=True, generator=g)\n",
    "\n",
    "for epoch in range(n_epochs):\n",
    "    # forward pass\n",
    "    output = W[xs].sum(dim=1)\n",
    "    probs = F.softmax(output, dim=1)\n",
    "\n",
    "    # loss\n",
    "    predictions = probs[torch.arange(len(ys)), ys]\n",
    "    loss = -predictions.log().mean() + l2 * (W**2).mean()\n",
    "\n",
    "    # backward pass\n",
    "    W.grad = None\n",
    "\n",
    "    loss.backward()\n",
    "\n",
    "    # update\n",
    "    with torch.no_grad():\n",
    "        W -= lr * W.grad, \n",
    "    \n",
    "\n",
    "    if epoch%50==0:\n",
    "        print(epoch, loss.item())\n",
    "\n",
    "    if epoch%300==0:\n",
    "        lr /= 10"
   ]
  },
  {
   "cell_type": "code",
   "execution_count": null,
   "id": "4f4ac95c",
   "metadata": {},
   "outputs": [
    {
     "name": "stdout",
     "output_type": "stream",
     "text": [
      "..aadyd.\n",
      "..az.\n",
      "..asmdzetpsiquri.\n",
      "..uaiuxmers.\n",
      "..eln.\n",
      "..ae.\n",
      "..aaaen.\n",
      "..azqebarcoe.\n",
      "..oe.\n",
      "..aelesiely.\n"
     ]
    }
   ],
   "source": [
    "# sampling\n",
    "\n",
    "for _ in range(10):\n",
    "    name = '..'\n",
    "    while True:\n",
    "        ch1 = stoi[name[-2]]\n",
    "        ch2 = stoi[name[-1]]\n",
    "\n",
    "        logits = W[[ch1, ch2]].sum(dim=0)\n",
    "        probs = F.softmax(logits, dim=0)\n",
    "\n",
    "        next = torch.multinomial(probs, 1, replacement=True)\n",
    "        next_char = itos[next.item()]\n",
    "        name = name + next_char\n",
    "\n",
    "        if next_char=='.':\n",
    "            break\n",
    "\n",
    "    print(name)"
   ]
  },
  {
   "attachments": {},
   "cell_type": "markdown",
   "id": "39f18f16",
   "metadata": {},
   "source": [
    "## #2 Train/Dev/Test split + #3 Find regularization hyper-parameter"
   ]
  },
  {
   "cell_type": "code",
   "execution_count": 34,
   "id": "a52ad443",
   "metadata": {},
   "outputs": [
    {
     "name": "stdout",
     "output_type": "stream",
     "text": [
      "Training size:  182516\n",
      "Dev size:  205331\n",
      "Test size:  22815\n"
     ]
    }
   ],
   "source": [
    "train_id = int(len(xs) * .8)\n",
    "dev_id = int(len(xs) * .9)\n",
    "\n",
    "x_train = xs[:train_id]\n",
    "y_train = ys[:train_id]\n",
    "\n",
    "x_dev = xs[:dev_id]\n",
    "y_dev = ys[:dev_id]\n",
    "\n",
    "x_test = xs[dev_id:]\n",
    "y_test = ys[dev_id:]\n",
    "\n",
    "print(\"Training size: \", len(x_train))\n",
    "print(\"Dev size: \", len(x_dev))\n",
    "print(\"Test size: \", len(x_test))"
   ]
  },
  {
   "cell_type": "code",
   "execution_count": 44,
   "id": "24cfe061",
   "metadata": {},
   "outputs": [
    {
     "name": "stdout",
     "output_type": "stream",
     "text": [
      "Train:  0.0010000000474974513 2.5225231647491455\n",
      "Test:  0.0010000000474974513 2.5402915477752686\n",
      "\n",
      "Train:  0.0027825594879686832 2.5225701332092285\n",
      "Test:  0.0027825594879686832 2.5403354167938232\n",
      "\n",
      "Train:  0.00774263683706522 2.522700309753418\n",
      "Test:  0.00774263683706522 2.540456533432007\n",
      "\n",
      "Train:  0.02154434658586979 2.523064613342285\n",
      "Test:  0.02154434658586979 2.5407960414886475\n",
      "\n",
      "Train:  0.059948425740003586 2.524095058441162\n",
      "Test:  0.059948425740003586 2.5417582988739014\n",
      "\n",
      "Train:  0.1668100506067276 2.5270824432373047\n",
      "Test:  0.1668100506067276 2.5445587635040283\n",
      "\n",
      "Train:  0.46415889263153076 2.5362088680267334\n",
      "Test:  0.46415889263153076 2.5531909465789795\n",
      "\n",
      "Train:  1.2915496826171875 2.565863609313965\n",
      "Test:  1.2915496826171875 2.581629753112793\n",
      "\n",
      "Train:  3.59381365776062 2.6560311317443848\n",
      "Test:  3.59381365776062 2.669215440750122\n",
      "\n",
      "Train:  10.0 2.841096878051758\n",
      "Test:  10.0 2.8500518798828125\n",
      "\n"
     ]
    }
   ],
   "source": [
    "# initialize nn\n",
    "n_epochs = 30\n",
    "lr = 10\n",
    "l2 = .0\n",
    "\n",
    "l2s = []\n",
    "train_losses = []\n",
    "dev_losses = []\n",
    "\n",
    "for l2 in torch.logspace(-3, 1, 10):\n",
    "    g = torch.Generator().manual_seed(2147483647)\n",
    "    W = torch.rand(size=(54,27), requires_grad=True, generator=g)\n",
    "\n",
    "    for epoch in range(n_epochs):\n",
    "        # forward pass\n",
    "        output = W[x_train].sum(dim=1)\n",
    "        \n",
    "        # loss\n",
    "        loss = F.cross_entropy(output, y_train) + l2 * (W**2).mean()\n",
    "\n",
    "        # backward pass\n",
    "        W.grad = None\n",
    "\n",
    "        loss.backward()\n",
    "\n",
    "        # update\n",
    "        with torch.no_grad():\n",
    "            W -= lr * W.grad\n",
    "        \n",
    "\n",
    "    l2s.append(l2)\n",
    "    with torch.no_grad():\n",
    "        output = W[x_train].sum(dim=1)\n",
    "        loss = F.cross_entropy(output, y_train)\n",
    "\n",
    "    train_losses.append(loss.item())\n",
    "    print('Train: ', l2.item(), loss.item())\n",
    "\n",
    "    with torch.no_grad():\n",
    "        output = W[x_dev].sum(dim=1)\n",
    "        loss = F.cross_entropy(output, y_dev)\n",
    "\n",
    "    dev_losses.append(loss.item())\n",
    "    print('Test: ', l2.item(), loss.item())\n",
    "    print('')"
   ]
  },
  {
   "cell_type": "code",
   "execution_count": 49,
   "id": "3d4edf30",
   "metadata": {},
   "outputs": [
    {
     "data": {
      "image/png": "[encoded data removed]",
      "text/plain": [
       "<Figure size 640x480 with 1 Axes>"
      ]
     },
     "metadata": {},
     "output_type": "display_data"
    }
   ],
   "source": [
    "l2s = torch.tensor(l2s).log()\n",
    "\n",
    "fig, ax = plt.subplots()\n",
    "\n",
    "ax.plot(l2s, train_losses, marker='o', label='train')\n",
    "ax.plot(l2s, dev_losses, marker='o', label='test')\n",
    "\n",
    "ax.set_xlabel('L2', fontsize=16)\n",
    "ax.set_ylabel('Cross-Entropy-Loss', fontsize=16)\n",
    "\n",
    "ax.legend()\n",
    "\n",
    "plt.show()"
   ]
  },
  {
   "attachments": {},
   "cell_type": "markdown",
   "id": "ec27ef49",
   "metadata": {},
   "source": [
    "## #5 Cross entropy"
   ]
  },
  {
   "cell_type": "code",
   "execution_count": null,
   "id": "9f5273e8",
   "metadata": {},
   "outputs": [
    {
     "name": "stdout",
     "output_type": "stream",
     "text": [
      "0 3.3666110038757324\n",
      "1 3.2446835041046143\n",
      "2 3.143585205078125\n",
      "3 3.0627737045288086\n",
      "4 2.9977450370788574\n",
      "5 2.943715810775757\n",
      "6 2.8979060649871826\n",
      "7 2.8587231636047363\n",
      "8 2.824977159500122\n",
      "9 2.795686960220337\n",
      "10 2.7700514793395996\n",
      "11 2.747429370880127\n",
      "12 2.727311849594116\n",
      "13 2.7092955112457275\n",
      "14 2.6930556297302246\n",
      "15 2.6783318519592285\n",
      "16 2.6649117469787598\n",
      "17 2.6526215076446533\n",
      "18 2.64131760597229\n",
      "19 2.630880117416382\n",
      "20 2.6212074756622314\n",
      "21 2.6122164726257324\n",
      "22 2.6038339138031006\n",
      "23 2.5959970951080322\n",
      "24 2.5886528491973877\n",
      "25 2.581754207611084\n",
      "26 2.5752601623535156\n",
      "27 2.5691349506378174\n",
      "28 2.5633463859558105\n",
      "29 2.5578672885894775\n",
      "30 2.5526723861694336\n",
      "31 2.547738552093506\n",
      "32 2.543046474456787\n",
      "33 2.5385775566101074\n",
      "34 2.534316301345825\n",
      "35 2.530247926712036\n",
      "36 2.5263586044311523\n",
      "37 2.522636890411377\n",
      "38 2.519071578979492\n",
      "39 2.5156524181365967\n",
      "40 2.5123701095581055\n",
      "41 2.5092170238494873\n",
      "42 2.5061848163604736\n",
      "43 2.5032663345336914\n",
      "44 2.500455379486084\n",
      "45 2.4977457523345947\n",
      "46 2.495131731033325\n",
      "47 2.4926085472106934\n",
      "48 2.490170955657959\n",
      "49 2.4878149032592773\n",
      "50 2.4855356216430664\n",
      "51 2.483330011367798\n",
      "52 2.4811935424804688\n",
      "53 2.479123592376709\n",
      "54 2.477116584777832\n",
      "55 2.4751698970794678\n",
      "56 2.473280429840088\n",
      "57 2.4714457988739014\n",
      "58 2.4696640968322754\n",
      "59 2.4679317474365234\n",
      "60 2.46624755859375\n",
      "61 2.464608907699585\n",
      "62 2.463014841079712\n",
      "63 2.4614627361297607\n",
      "64 2.4599504470825195\n",
      "65 2.458477735519409\n",
      "66 2.4570422172546387\n",
      "67 2.4556424617767334\n",
      "68 2.4542768001556396\n",
      "69 2.45294451713562\n",
      "70 2.451643943786621\n",
      "71 2.4503746032714844\n",
      "72 2.4491348266601562\n",
      "73 2.447922945022583\n",
      "74 2.4467391967773438\n",
      "75 2.4455819129943848\n",
      "76 2.444450616836548\n",
      "77 2.4433436393737793\n",
      "78 2.442260980606079\n",
      "79 2.4412009716033936\n",
      "80 2.4401636123657227\n",
      "81 2.43914794921875\n",
      "82 2.4381532669067383\n",
      "83 2.43717885017395\n",
      "84 2.4362242221832275\n",
      "85 2.435288667678833\n",
      "86 2.43437123298645\n",
      "87 2.433471918106079\n",
      "88 2.4325900077819824\n",
      "89 2.431725025177002\n",
      "90 2.4308762550354004\n",
      "91 2.4300434589385986\n",
      "92 2.4292259216308594\n",
      "93 2.4284236431121826\n",
      "94 2.427635669708252\n",
      "95 2.4268617630004883\n",
      "96 2.4261019229888916\n",
      "97 2.4253554344177246\n",
      "98 2.424621343612671\n",
      "99 2.423901081085205\n"
     ]
    }
   ],
   "source": [
    "# initialize nn\n",
    "n_epochs = 100\n",
    "lr = 10\n",
    "l2 = .0\n",
    "\n",
    "g = torch.Generator().manual_seed(2147483647)\n",
    "W = torch.rand(size=(54,27), requires_grad=True, generator=g)\n",
    "\n",
    "for epoch in range(n_epochs):\n",
    "    # forward pass\n",
    "    output = W[xs].sum(dim=1)\n",
    "    \n",
    "    # loss\n",
    "    loss = F.cross_entropy(output, ys)\n",
    "\n",
    "    # backward pass\n",
    "    W.grad = None\n",
    "\n",
    "    loss.backward()\n",
    "\n",
    "    # update\n",
    "    with torch.no_grad():\n",
    "        W -= lr * W.grad \n",
    "    \n",
    "\n",
    "    print(epoch, loss.item())"
   ]
  },
  {
   "cell_type": "code",
   "execution_count": null,
   "id": "2e34aea7",
   "metadata": {},
   "outputs": [],
   "source": []
  }
 ],
 "metadata": {
  "kernelspec": {
   "display_name": "zero",
   "language": "python",
   "name": "python3"
  },
  "language_info": {
   "codemirror_mode": {
    "name": "ipython",
    "version": 3
   },
   "file_extension": ".py",
   "mimetype": "text/x-python",
   "name": "python",
   "nbconvert_exporter": "python",
   "pygments_lexer": "ipython3",
   "version": "3.9.15 (main, Nov 24 2022, 14:39:17) [MSC v.1916 64 bit (AMD64)]"
  },
  "vscode": {
   "interpreter": {
    "hash": "e98ef4f9346bee673f51c6ffc649e77c3dd738815ba08794b113970bacedb832"
   }
  }
 },
 "nbformat": 4,
 "nbformat_minor": 5
}
